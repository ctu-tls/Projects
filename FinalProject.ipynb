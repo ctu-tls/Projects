{
 "cells": [
  {
   "cell_type": "markdown",
   "id": "4b27ad70",
   "metadata": {},
   "source": [
    "<img src=\"images/banner_friends.jpg\" width=80%>\n",
    "\n",
    "<a name='outline'></a>\n",
    "\n",
    "## Outline of the Project \n",
    "\n",
    "This project has seven sections. Use the outline below to help you quickly navigate to the part of the project you're working on. Questions are worth one point each, unless they contain a ⭐️⭐️ next to them, in which case they are worth two points (e.g. **Question 1.2. ⭐️⭐️**). In most cases, questions worth two points are longer and more challenging than questions worth one point, though sometimes two point questions are themselves straightforward, but used to test the correctness of a previously implemented function.\n",
    "\n",
    "-  [Welcome 👋](#welcome)\n",
    "-  [About the Show 📺](#about_show)\n",
    "-  [The Reboot🆕](#reboot)\n",
    "-  [About the Data 💾](#about_data)\n",
    "-  Section 1: [The Pilot 🎬](#section1) \n",
    "-  Section 2: [The One with the Best Director 🏆](#section2)   \n",
    "-  Section 3: [The One About Gender Balance 👩⚖️🧑](#section3)  \n",
    "-  Section 4: [The Emotional One 😁😢😨](#section4) \n",
    "-  Section 5: [The One with the Spoilers 🙊](#section5) \n",
    "-  Section 6: [The One with the Generated Episode Titles 🖨️](#section6) \n",
    "-  Section 7: [The Last One 🔚🥳](#section7) "
   ]
  },
  {
   "cell_type": "markdown",
   "id": "390af857",
   "metadata": {},
   "source": [
    "<a id='welcome'></a>\n",
    "## Welcome 👋\n",
    "\n",
    "Welcome to the Final Project! Projects in DSC 10 are similar in format to homeworks, but are different in a few key ways. First, a project is comprehensive, meaning that it draws upon everything we've learned this quarter so far. Second, since problems can vary quite a bit in difficulty, some problems will be worth more points than others. Finally, in a project, the problems are more open-ended; they will usually ask for some result, but won't tell you what method should be used to get it. There might be several equally-valid approaches, and several steps might be necessary. This is closer to how data science is done in \"real life\".\n",
    "\n",
    "It is important that you **start early** on the project! It is the final assignment that is due this quarter, but it is due just a few days before the Final Exam. You are especially encouraged to **find a partner** to work through the project with. You can work with anyone from any section of the course, but you must follow the [Project Partner Guidelines](https://dsc10.com/project-partners/) on the course website. In particular, you are both required to actively contribute to all parts of the project, and you are not allowed to split up the problems and each work on certain problems. If working in a pair, you should submit one notebook to Gradescope for the both of you. \n",
    "\n",
    "**Important:** The `otter` tests don't usually tell you that your answer is correct. More often, they help catch basic mistakes. It's up to you to ensure that your answer is correct. If you're not sure, ask someone (not for the answer, but for some guidance about your approach). Directly sharing answers between groups is not okay, but discussing problems with the course staff or with other students is encouraged.\n",
    "\n",
    "Please do not import any additional packages - you don't need them, and our autograder may not be able to run your code if you do.\n",
    "\n",
    "As you work through this project, there are a few resources you may want to have open:\n",
    "- [`babypandas` Notes](https://notes.dsc10.com/front.html)\n",
    "- [Course Textbook](https://inferentialthinking.com/chapters/intro.html)\n",
    "- [DSC 10 Reference Sheet](https://drive.google.com/file/d/1mQApk9Ovdi-QVqMgnNcq5dZcWucUKoG-/view)\n",
    "- [`babypandas` Documentation](https://babypandas.readthedocs.io/en/latest/)\n",
    "- Other links in the [Resources](https://dsc10.com/resources/) and [Debugging](https://dsc10.com/debugging/) tabs of the course website\n",
    "\n",
    "Start early, good luck, and let's get started! 😎"
   ]
  },
  {
   "cell_type": "code",
   "execution_count": 1,
   "id": "91d1e259",
   "metadata": {},
   "outputs": [],
   "source": [
    "# Don't change this cell; just run it.\n",
    "import babypandas as bpd\n",
    "import numpy as np\n",
    "\n",
    "import matplotlib.pyplot as plt\n",
    "from matplotlib.offsetbox import OffsetImage, AnnotationBbox\n",
    "plt.style.use('ggplot')\n",
    "\n",
    "import otter\n",
    "grader = otter.Notebook()"
   ]
  },
  {
   "cell_type": "markdown",
   "id": "edd5342b",
   "metadata": {},
   "source": [
    "<a id='about_show'></a>\n",
    "## About the Show 📺\n",
    "\n",
    "*Friends* is a TV sitcom that aired from 1994 to 2004. The show revolves around six main characters, a group of friends in their 20s and 30s who live in New York City 🗽🌇.  Viewers watch these characters' lives, careers, and relationships develop over a ten year period.\n",
    "\n",
    "<img src=\"images/friends.png\" width=\"500\" height=\"auto\">\n",
    "\n",
    "The show was critically well-received and popular among viewers. It set a number of records including:\n",
    "- the number one television show in 2002\n",
    "- the fifth-most-watched series finale in television history\n",
    "- the most-watched episode of the 2000s decade\n",
    "- Outstanding Comedy Series Primetime Emmy award 🏆\n",
    "- one of *TV Guide*'s 50 Greatest Shows of All Time\n",
    "\n",
    "<img src=\"images/friends_award.png\" width=\"500\" height=\"auto\">\n",
    "\n",
    "*Friends* used to be available to stream on Netflix, but with its incredible success, the show became too expensive to continue offering access. The last time *Friends* was on Netflix in the US, [it cost Netflix $100 million dollars 💸](https://slate.com/culture/2018/12/netflix-friends-streaming-100-million.html) just to offer the show on their streaming platform for one year!\n",
    "\n",
    "If you'd like to see the show for yourself, all 10 seasons are available on [MAX](https://www.max.com/shows/friends/52dae4c7-2ab1-4bb9-ab1c-8100fd54e2f9?utm_id=sa%7C71700000110368783%7C58700008392050425%7Cp78367425622&gad_source=1&gclid=CjwKCAiAuYuvBhApEiwAzq_YiRkizSXADw1h1V4etPEJoJ6vam8ozaJ5pO1m9XqTh4JFxCZFO_7skxoC9jIQAvD_BwE&gclsrc=aw.ds). 🎥"
   ]
  },
  {
   "cell_type": "markdown",
   "id": "b8b6842b",
   "metadata": {},
   "source": [
    "<a id='reboot'></a>\n",
    "## The Reboot 🆕\n",
    "\n",
    "As an avid fan of *Friends*, you have decided to make your own reboot of the classic sitcom. A reboot of a TV show is a new show that takes place in the same setting as an older show, perhaps updated in some ways. Some reboots have a brand new cast with just a few original characters, meanwhile some reboots get the whole cast of the original show to star in the new version. For example, the reboot *How I Met Your Father* is based on the original *How I Met Your Mother*. Other examples include *That 90's Show*, a reboot of *That 70's Show*, and *Fuller House*, a reboot of *Full House*.\n",
    "\n",
    "<img src=\"images/full_house.png\" width=\"500\" height=\"auto\">\n",
    "\n",
    "You've noticed that sitcom reboots are on the rise and you want to get in on the action by finding all the best and most successful aspects of *Friends* and turning them into an even better version. In order to make the reboot, you'll have to do a lot of planning and research to present your plan to the production company that will fund the show. Here's a list of all the things you'll want to have prepared by the time you meet with the producers. Each item on the list represents a section of this project.\n",
    "\n",
    "1. Create a list of writers and directors to contact.\n",
    "2. Select a top choice for the director of the reboot.\n",
    "3. Determine whether to assign spoken lines to male and female characters equally.\n",
    "4. Make a visualization showing the emotional range for each main character to present to the writers.\n",
    "5. Decide whether the main characters should be romantically involved with one another.\n",
    "6. Make a list of episode titles for the first season of the new show.\n",
    "7. Decide how many episodes the reboot should have, based on viewership and rating data.\n",
    "\n",
    "After you've done all of these things you will have completed your plan for the reboot!"
   ]
  },
  {
   "cell_type": "markdown",
   "id": "5a5b5086",
   "metadata": {},
   "source": [
    "<a id='about_data'></a>\n",
    "## About the Data 💾\n",
    "\n",
    "Our data, [originally from Kaggle](https://www.kaggle.com/datasets/sujaykapadnis/friends?select=friends.csv), includes several different CSVs about *Friends* episodes, lines, and emotions. If you find any errors in the data, do not attempt to fix them; just analyze the data you are given. \n",
    "\n",
    "### Episodes 🎬\n",
    "\n",
    "The `episodes` DataFrame has a row for each episode from all 10 seasons of *Friends*. For each episode, we have the \n",
    "- season number (`'season'`)\n",
    "- episode number (`'episode'`)\n",
    "- title (`'title'`)\n",
    "- director(s) (`'directed_by'`)\n",
    "- writer(s) (`'written_by'`)\n",
    "- premiere date (`'air_date'`)\n",
    "- number of views on premiere date in millions (`'us_views_millions'`)\n",
    "- rating out of ten (`'imdb_rating'`)\n",
    "\n",
    "For example, the first episode of the first season is called `'The Pilot'`. It was directed by James Burrows and written by David Crane and Marta Kauffman. When it aired on September 22nd, 1994, there were 21.5 million viewers, and it was rated 8.3/10 on IMDb.\n",
    "\n",
    "Run the cell below to load in the data. "
   ]
  },
  {
   "cell_type": "code",
   "execution_count": 2,
   "id": "7cc7049b",
   "metadata": {},
   "outputs": [
    {
     "data": {
      "text/html": [
       "<div>\n",
       "<style scoped>\n",
       "    .dataframe tbody tr th:only-of-type {\n",
       "        vertical-align: middle;\n",
       "    }\n",
       "\n",
       "    .dataframe tbody tr th {\n",
       "        vertical-align: top;\n",
       "    }\n",
       "\n",
       "    .dataframe thead th {\n",
       "        text-align: right;\n",
       "    }\n",
       "</style>\n",
       "<table border=\"1\" class=\"dataframe\">\n",
       "  <thead>\n",
       "    <tr style=\"text-align: right;\">\n",
       "      <th></th>\n",
       "      <th>season</th>\n",
       "      <th>episode</th>\n",
       "      <th>title</th>\n",
       "      <th>directed_by</th>\n",
       "      <th>written_by</th>\n",
       "      <th>air_date</th>\n",
       "      <th>us_views_millions</th>\n",
       "      <th>imdb_rating</th>\n",
       "    </tr>\n",
       "  </thead>\n",
       "  <tbody>\n",
       "    <tr>\n",
       "      <th>0</th>\n",
       "      <td>1</td>\n",
       "      <td>1</td>\n",
       "      <td>The Pilot</td>\n",
       "      <td>James Burrows</td>\n",
       "      <td>David Crane &amp; Marta Kauffman</td>\n",
       "      <td>9/22/94</td>\n",
       "      <td>21.50</td>\n",
       "      <td>8.3</td>\n",
       "    </tr>\n",
       "    <tr>\n",
       "      <th>1</th>\n",
       "      <td>1</td>\n",
       "      <td>2</td>\n",
       "      <td>The One with the Sonogram at the End</td>\n",
       "      <td>James Burrows</td>\n",
       "      <td>David Crane &amp; Marta Kauffman</td>\n",
       "      <td>9/29/94</td>\n",
       "      <td>20.20</td>\n",
       "      <td>8.1</td>\n",
       "    </tr>\n",
       "    <tr>\n",
       "      <th>2</th>\n",
       "      <td>1</td>\n",
       "      <td>3</td>\n",
       "      <td>The One with the Thumb</td>\n",
       "      <td>James Burrows</td>\n",
       "      <td>Jeffrey Astrof &amp; Mike Sikowitz</td>\n",
       "      <td>10/6/94</td>\n",
       "      <td>19.50</td>\n",
       "      <td>8.2</td>\n",
       "    </tr>\n",
       "    <tr>\n",
       "      <th>3</th>\n",
       "      <td>1</td>\n",
       "      <td>4</td>\n",
       "      <td>The One with George Stephanopoulos</td>\n",
       "      <td>James Burrows</td>\n",
       "      <td>Alexa Junge</td>\n",
       "      <td>10/13/94</td>\n",
       "      <td>19.70</td>\n",
       "      <td>8.1</td>\n",
       "    </tr>\n",
       "    <tr>\n",
       "      <th>4</th>\n",
       "      <td>1</td>\n",
       "      <td>5</td>\n",
       "      <td>The One with the East German Laundry Detergent</td>\n",
       "      <td>Pamela Fryman</td>\n",
       "      <td>Jeff Greenstein &amp; Jeff Strauss</td>\n",
       "      <td>10/20/94</td>\n",
       "      <td>18.60</td>\n",
       "      <td>8.5</td>\n",
       "    </tr>\n",
       "    <tr>\n",
       "      <th>...</th>\n",
       "      <td>...</td>\n",
       "      <td>...</td>\n",
       "      <td>...</td>\n",
       "      <td>...</td>\n",
       "      <td>...</td>\n",
       "      <td>...</td>\n",
       "      <td>...</td>\n",
       "      <td>...</td>\n",
       "    </tr>\n",
       "    <tr>\n",
       "      <th>231</th>\n",
       "      <td>10</td>\n",
       "      <td>14</td>\n",
       "      <td>The One with Princess Consuela</td>\n",
       "      <td>Gary Halvorson</td>\n",
       "      <td>Story by: Robert CarlockTeleplay by: Tracy Reilly</td>\n",
       "      <td>2/26/04</td>\n",
       "      <td>22.83</td>\n",
       "      <td>8.6</td>\n",
       "    </tr>\n",
       "    <tr>\n",
       "      <th>232</th>\n",
       "      <td>10</td>\n",
       "      <td>15</td>\n",
       "      <td>The One Where Estelle Dies</td>\n",
       "      <td>Gary Halvorson</td>\n",
       "      <td>Story by: Mark KunerthTeleplay by: David Crane...</td>\n",
       "      <td>4/22/04</td>\n",
       "      <td>22.64</td>\n",
       "      <td>8.5</td>\n",
       "    </tr>\n",
       "    <tr>\n",
       "      <th>233</th>\n",
       "      <td>10</td>\n",
       "      <td>16</td>\n",
       "      <td>The One with Rachel's Going Away Party</td>\n",
       "      <td>Gary Halvorson</td>\n",
       "      <td>Andrew Reich &amp; Ted Cohen</td>\n",
       "      <td>4/29/04</td>\n",
       "      <td>24.51</td>\n",
       "      <td>8.9</td>\n",
       "    </tr>\n",
       "    <tr>\n",
       "      <th>234</th>\n",
       "      <td>10</td>\n",
       "      <td>17</td>\n",
       "      <td>The Last One</td>\n",
       "      <td>Kevin S. Bright</td>\n",
       "      <td>Marta Kauffman &amp; David Crane</td>\n",
       "      <td>5/6/04</td>\n",
       "      <td>52.46</td>\n",
       "      <td>9.7</td>\n",
       "    </tr>\n",
       "    <tr>\n",
       "      <th>235</th>\n",
       "      <td>10</td>\n",
       "      <td>18</td>\n",
       "      <td>The Last One</td>\n",
       "      <td>Kevin S. Bright</td>\n",
       "      <td>Marta Kauffman &amp; David Crane</td>\n",
       "      <td>5/6/04</td>\n",
       "      <td>52.46</td>\n",
       "      <td>9.7</td>\n",
       "    </tr>\n",
       "  </tbody>\n",
       "</table>\n",
       "<p>236 rows × 8 columns</p>\n",
       "</div>"
      ],
      "text/plain": [
       "     season  episode                                           title  \\\n",
       "0         1        1                                       The Pilot   \n",
       "1         1        2            The One with the Sonogram at the End   \n",
       "2         1        3                          The One with the Thumb   \n",
       "3         1        4              The One with George Stephanopoulos   \n",
       "4         1        5  The One with the East German Laundry Detergent   \n",
       "..      ...      ...                                             ...   \n",
       "231      10       14                  The One with Princess Consuela   \n",
       "232      10       15                      The One Where Estelle Dies   \n",
       "233      10       16          The One with Rachel's Going Away Party   \n",
       "234      10       17                                    The Last One   \n",
       "235      10       18                                    The Last One   \n",
       "\n",
       "         directed_by                                         written_by  \\\n",
       "0      James Burrows                       David Crane & Marta Kauffman   \n",
       "1      James Burrows                       David Crane & Marta Kauffman   \n",
       "2      James Burrows                     Jeffrey Astrof & Mike Sikowitz   \n",
       "3      James Burrows                                        Alexa Junge   \n",
       "4      Pamela Fryman                     Jeff Greenstein & Jeff Strauss   \n",
       "..               ...                                                ...   \n",
       "231   Gary Halvorson  Story by: Robert CarlockTeleplay by: Tracy Reilly   \n",
       "232   Gary Halvorson  Story by: Mark KunerthTeleplay by: David Crane...   \n",
       "233   Gary Halvorson                           Andrew Reich & Ted Cohen   \n",
       "234  Kevin S. Bright                       Marta Kauffman & David Crane   \n",
       "235  Kevin S. Bright                       Marta Kauffman & David Crane   \n",
       "\n",
       "     air_date  us_views_millions  imdb_rating  \n",
       "0     9/22/94              21.50          8.3  \n",
       "1     9/29/94              20.20          8.1  \n",
       "2     10/6/94              19.50          8.2  \n",
       "3    10/13/94              19.70          8.1  \n",
       "4    10/20/94              18.60          8.5  \n",
       "..        ...                ...          ...  \n",
       "231   2/26/04              22.83          8.6  \n",
       "232   4/22/04              22.64          8.5  \n",
       "233   4/29/04              24.51          8.9  \n",
       "234    5/6/04              52.46          9.7  \n",
       "235    5/6/04              52.46          9.7  \n",
       "\n",
       "[236 rows x 8 columns]"
      ]
     },
     "execution_count": 2,
     "metadata": {},
     "output_type": "execute_result"
    }
   ],
   "source": [
    "episodes = bpd.read_csv('data/friends_info.csv')\n",
    "episodes"
   ]
  },
  {
   "cell_type": "markdown",
   "id": "2b890c57",
   "metadata": {},
   "source": [
    "### Lines 🗣\n",
    "\n",
    "While the `episodes` DataFrame will give you plenty of information on the writers and directors of the show and the success of each episode, you want to know more about the characters and their interactions on the show. You have detailed line-by-line scripts for the dialogue and scene directions of 30 randomly selected *Friends* episodes, stored in a DataFrame called `lines`. For each spoken line or scene direction of these 30 episodes, the `lines` DataFrame includes the following columns:\n",
    "- season number (`'season'`)\n",
    "- episode number (`'episode'`)\n",
    "- scene number (`'scene'`)\n",
    "- line number (`'utterance'`)\n",
    "- character that said the line (`'speaker'`), which is sometimes just `'Scene Directions'`\n",
    "- text of the line (`'text'`)\n",
    "\n",
    "For example, the seventh episode of season one opens with character Rachel Green saying `\n",
    "'Everybody? Shh, shhh. Uhhh... Central Perk is proud to present the music of Miss Phoebe Buffay.'`\n",
    "\n",
    "Run the cell below to load in the data."
   ]
  },
  {
   "cell_type": "code",
   "execution_count": 3,
   "id": "4c7ee5e9",
   "metadata": {},
   "outputs": [
    {
     "data": {
      "text/html": [
       "<div>\n",
       "<style scoped>\n",
       "    .dataframe tbody tr th:only-of-type {\n",
       "        vertical-align: middle;\n",
       "    }\n",
       "\n",
       "    .dataframe tbody tr th {\n",
       "        vertical-align: top;\n",
       "    }\n",
       "\n",
       "    .dataframe thead th {\n",
       "        text-align: right;\n",
       "    }\n",
       "</style>\n",
       "<table border=\"1\" class=\"dataframe\">\n",
       "  <thead>\n",
       "    <tr style=\"text-align: right;\">\n",
       "      <th></th>\n",
       "      <th>text</th>\n",
       "      <th>speaker</th>\n",
       "      <th>season</th>\n",
       "      <th>episode</th>\n",
       "      <th>scene</th>\n",
       "      <th>utterance</th>\n",
       "    </tr>\n",
       "  </thead>\n",
       "  <tbody>\n",
       "    <tr>\n",
       "      <th>0</th>\n",
       "      <td>Everybody? Shh, shhh. Uhhh... Central Perk is ...</td>\n",
       "      <td>Rachel Green</td>\n",
       "      <td>1</td>\n",
       "      <td>7</td>\n",
       "      <td>1</td>\n",
       "      <td>1</td>\n",
       "    </tr>\n",
       "    <tr>\n",
       "      <th>1</th>\n",
       "      <td>(applause)</td>\n",
       "      <td>Scene Directions</td>\n",
       "      <td>1</td>\n",
       "      <td>7</td>\n",
       "      <td>1</td>\n",
       "      <td>2</td>\n",
       "    </tr>\n",
       "    <tr>\n",
       "      <th>2</th>\n",
       "      <td>Hi. Um, I want to start with a song thats abou...</td>\n",
       "      <td>Phoebe Buffay</td>\n",
       "      <td>1</td>\n",
       "      <td>7</td>\n",
       "      <td>1</td>\n",
       "      <td>3</td>\n",
       "    </tr>\n",
       "    <tr>\n",
       "      <th>3</th>\n",
       "      <td>Oh, great. This is just...</td>\n",
       "      <td>Chandler Bing</td>\n",
       "      <td>1</td>\n",
       "      <td>7</td>\n",
       "      <td>2</td>\n",
       "      <td>1</td>\n",
       "    </tr>\n",
       "    <tr>\n",
       "      <th>4</th>\n",
       "      <td>(Chandler sees that there is a gorgeous model ...</td>\n",
       "      <td>Scene Directions</td>\n",
       "      <td>1</td>\n",
       "      <td>7</td>\n",
       "      <td>2</td>\n",
       "      <td>2</td>\n",
       "    </tr>\n",
       "    <tr>\n",
       "      <th>...</th>\n",
       "      <td>...</td>\n",
       "      <td>...</td>\n",
       "      <td>...</td>\n",
       "      <td>...</td>\n",
       "      <td>...</td>\n",
       "      <td>...</td>\n",
       "    </tr>\n",
       "    <tr>\n",
       "      <th>8452</th>\n",
       "      <td>That I can do.</td>\n",
       "      <td>Joey Tribbiani</td>\n",
       "      <td>10</td>\n",
       "      <td>13</td>\n",
       "      <td>13</td>\n",
       "      <td>9</td>\n",
       "    </tr>\n",
       "    <tr>\n",
       "      <th>8453</th>\n",
       "      <td>Come on! You can drink a gallon of milk in 10 ...</td>\n",
       "      <td>Phoebe Buffay</td>\n",
       "      <td>10</td>\n",
       "      <td>13</td>\n",
       "      <td>13</td>\n",
       "      <td>10</td>\n",
       "    </tr>\n",
       "    <tr>\n",
       "      <th>8454</th>\n",
       "      <td>All right, watch me! Okay, you time me. Ready?</td>\n",
       "      <td>Joey Tribbiani</td>\n",
       "      <td>10</td>\n",
       "      <td>13</td>\n",
       "      <td>13</td>\n",
       "      <td>11</td>\n",
       "    </tr>\n",
       "    <tr>\n",
       "      <th>8455</th>\n",
       "      <td>Ready... GO!</td>\n",
       "      <td>Phoebe Buffay</td>\n",
       "      <td>10</td>\n",
       "      <td>13</td>\n",
       "      <td>13</td>\n",
       "      <td>12</td>\n",
       "    </tr>\n",
       "    <tr>\n",
       "      <th>8456</th>\n",
       "      <td>You did it!</td>\n",
       "      <td>Phoebe Buffay</td>\n",
       "      <td>10</td>\n",
       "      <td>13</td>\n",
       "      <td>13</td>\n",
       "      <td>13</td>\n",
       "    </tr>\n",
       "  </tbody>\n",
       "</table>\n",
       "<p>8457 rows × 6 columns</p>\n",
       "</div>"
      ],
      "text/plain": [
       "                                                   text           speaker  \\\n",
       "0     Everybody? Shh, shhh. Uhhh... Central Perk is ...      Rachel Green   \n",
       "1                                            (applause)  Scene Directions   \n",
       "2     Hi. Um, I want to start with a song thats abou...     Phoebe Buffay   \n",
       "3                            Oh, great. This is just...     Chandler Bing   \n",
       "4     (Chandler sees that there is a gorgeous model ...  Scene Directions   \n",
       "...                                                 ...               ...   \n",
       "8452                                     That I can do.    Joey Tribbiani   \n",
       "8453  Come on! You can drink a gallon of milk in 10 ...     Phoebe Buffay   \n",
       "8454     All right, watch me! Okay, you time me. Ready?    Joey Tribbiani   \n",
       "8455                                       Ready... GO!     Phoebe Buffay   \n",
       "8456                                        You did it!     Phoebe Buffay   \n",
       "\n",
       "      season  episode  scene  utterance  \n",
       "0          1        7      1          1  \n",
       "1          1        7      1          2  \n",
       "2          1        7      1          3  \n",
       "3          1        7      2          1  \n",
       "4          1        7      2          2  \n",
       "...      ...      ...    ...        ...  \n",
       "8452      10       13     13          9  \n",
       "8453      10       13     13         10  \n",
       "8454      10       13     13         11  \n",
       "8455      10       13     13         12  \n",
       "8456      10       13     13         13  \n",
       "\n",
       "[8457 rows x 6 columns]"
      ]
     },
     "execution_count": 3,
     "metadata": {},
     "output_type": "execute_result"
    }
   ],
   "source": [
    "lines = bpd.read_csv('data/friends_sample.csv') \n",
    "lines"
   ]
  },
  {
   "cell_type": "markdown",
   "id": "b60a4e80",
   "metadata": {},
   "source": [
    "### Emotions\n",
    "\n",
    "Lastly, you have a dataset of the emotion attached to each line of the show, for most (but not all) lines in the first four seasons of the show. For each line included in our dataset, the line is associated with one of seven different emotions. These seven emotions are:\n",
    "- `'Joyful'` 😄\n",
    "- `'Mad'` 😡\n",
    "- `'Sad'` 😭\n",
    "- `'Powerful'` 💪\n",
    "- `'Peaceful'` ✌ \n",
    "- `'Scared'` 😱 \n",
    "- `'Neutral'` 😑 \n",
    "\n",
    "Classifying each line's emotion is a huge data science task in and of itself. [This paper](https://arxiv.org/pdf/1708.04299) explains how convolutional neural networks were able to do this task, if you're interested in learning more.\n",
    "\n",
    "Run the cell below to load in the data, which has the same columns as `lines` plus an extra column called `emotion`. For example, the first line of the fourth scene in Season 1, Episode 1 is categorized as `'Mad'`. That means the speaker, Ross, was probably mad when he said it. If you've ever assembled furniture, you might understand this frustration."
   ]
  },
  {
   "cell_type": "code",
   "execution_count": 4,
   "id": "12c0f0b5",
   "metadata": {},
   "outputs": [
    {
     "data": {
      "text/html": [
       "<div>\n",
       "<style scoped>\n",
       "    .dataframe tbody tr th:only-of-type {\n",
       "        vertical-align: middle;\n",
       "    }\n",
       "\n",
       "    .dataframe tbody tr th {\n",
       "        vertical-align: top;\n",
       "    }\n",
       "\n",
       "    .dataframe thead th {\n",
       "        text-align: right;\n",
       "    }\n",
       "</style>\n",
       "<table border=\"1\" class=\"dataframe\">\n",
       "  <thead>\n",
       "    <tr style=\"text-align: right;\">\n",
       "      <th></th>\n",
       "      <th>text</th>\n",
       "      <th>speaker</th>\n",
       "      <th>season</th>\n",
       "      <th>episode</th>\n",
       "      <th>scene</th>\n",
       "      <th>utterance</th>\n",
       "      <th>emotion</th>\n",
       "    </tr>\n",
       "  </thead>\n",
       "  <tbody>\n",
       "    <tr>\n",
       "      <th>0</th>\n",
       "      <td>I'm supposed to attach a brackety thing to the...</td>\n",
       "      <td>Ross Geller</td>\n",
       "      <td>1</td>\n",
       "      <td>1</td>\n",
       "      <td>4</td>\n",
       "      <td>1</td>\n",
       "      <td>Mad</td>\n",
       "    </tr>\n",
       "    <tr>\n",
       "      <th>1</th>\n",
       "      <td>I'm thinking we've got a bookcase here.</td>\n",
       "      <td>Joey Tribbiani</td>\n",
       "      <td>1</td>\n",
       "      <td>1</td>\n",
       "      <td>4</td>\n",
       "      <td>3</td>\n",
       "      <td>Neutral</td>\n",
       "    </tr>\n",
       "    <tr>\n",
       "      <th>2</th>\n",
       "      <td>It's a beautiful thing.</td>\n",
       "      <td>Chandler Bing</td>\n",
       "      <td>1</td>\n",
       "      <td>1</td>\n",
       "      <td>4</td>\n",
       "      <td>4</td>\n",
       "      <td>Joyful</td>\n",
       "    </tr>\n",
       "    <tr>\n",
       "      <th>3</th>\n",
       "      <td>What's this?</td>\n",
       "      <td>Joey Tribbiani</td>\n",
       "      <td>1</td>\n",
       "      <td>1</td>\n",
       "      <td>4</td>\n",
       "      <td>5</td>\n",
       "      <td>Neutral</td>\n",
       "    </tr>\n",
       "    <tr>\n",
       "      <th>4</th>\n",
       "      <td>I would have to say that is an 'L'-shaped brac...</td>\n",
       "      <td>Chandler Bing</td>\n",
       "      <td>1</td>\n",
       "      <td>1</td>\n",
       "      <td>4</td>\n",
       "      <td>6</td>\n",
       "      <td>Neutral</td>\n",
       "    </tr>\n",
       "    <tr>\n",
       "      <th>...</th>\n",
       "      <td>...</td>\n",
       "      <td>...</td>\n",
       "      <td>...</td>\n",
       "      <td>...</td>\n",
       "      <td>...</td>\n",
       "      <td>...</td>\n",
       "      <td>...</td>\n",
       "    </tr>\n",
       "    <tr>\n",
       "      <th>12601</th>\n",
       "      <td>Ahh, yes, I will have a glass of the Merlot</td>\n",
       "      <td>Rachel Green</td>\n",
       "      <td>4</td>\n",
       "      <td>24</td>\n",
       "      <td>25</td>\n",
       "      <td>2</td>\n",
       "      <td>Neutral</td>\n",
       "    </tr>\n",
       "    <tr>\n",
       "      <th>12602</th>\n",
       "      <td>Okay.</td>\n",
       "      <td>Air Hostess</td>\n",
       "      <td>4</td>\n",
       "      <td>24</td>\n",
       "      <td>25</td>\n",
       "      <td>3</td>\n",
       "      <td>Neutral</td>\n",
       "    </tr>\n",
       "    <tr>\n",
       "      <th>12603</th>\n",
       "      <td>And uh, he will have a white wine spritzer.</td>\n",
       "      <td>Rachel Green</td>\n",
       "      <td>4</td>\n",
       "      <td>24</td>\n",
       "      <td>25</td>\n",
       "      <td>4</td>\n",
       "      <td>Neutral</td>\n",
       "    </tr>\n",
       "    <tr>\n",
       "      <th>12604</th>\n",
       "      <td>Okay, good. Thank you. I'll be back shortly, a...</td>\n",
       "      <td>Air Hostess</td>\n",
       "      <td>4</td>\n",
       "      <td>24</td>\n",
       "      <td>25</td>\n",
       "      <td>5</td>\n",
       "      <td>Joyful</td>\n",
       "    </tr>\n",
       "    <tr>\n",
       "      <th>12605</th>\n",
       "      <td>All right. Woo! Hey, look at that, the airport...</td>\n",
       "      <td>Rachel Green</td>\n",
       "      <td>4</td>\n",
       "      <td>24</td>\n",
       "      <td>25</td>\n",
       "      <td>6</td>\n",
       "      <td>Scared</td>\n",
       "    </tr>\n",
       "  </tbody>\n",
       "</table>\n",
       "<p>12606 rows × 7 columns</p>\n",
       "</div>"
      ],
      "text/plain": [
       "                                                    text         speaker  \\\n",
       "0      I'm supposed to attach a brackety thing to the...     Ross Geller   \n",
       "1                I'm thinking we've got a bookcase here.  Joey Tribbiani   \n",
       "2                                It's a beautiful thing.   Chandler Bing   \n",
       "3                                           What's this?  Joey Tribbiani   \n",
       "4      I would have to say that is an 'L'-shaped brac...   Chandler Bing   \n",
       "...                                                  ...             ...   \n",
       "12601        Ahh, yes, I will have a glass of the Merlot    Rachel Green   \n",
       "12602                                              Okay.     Air Hostess   \n",
       "12603        And uh, he will have a white wine spritzer.    Rachel Green   \n",
       "12604  Okay, good. Thank you. I'll be back shortly, a...     Air Hostess   \n",
       "12605  All right. Woo! Hey, look at that, the airport...    Rachel Green   \n",
       "\n",
       "       season  episode  scene  utterance  emotion  \n",
       "0           1        1      4          1      Mad  \n",
       "1           1        1      4          3  Neutral  \n",
       "2           1        1      4          4   Joyful  \n",
       "3           1        1      4          5  Neutral  \n",
       "4           1        1      4          6  Neutral  \n",
       "...       ...      ...    ...        ...      ...  \n",
       "12601       4       24     25          2  Neutral  \n",
       "12602       4       24     25          3  Neutral  \n",
       "12603       4       24     25          4  Neutral  \n",
       "12604       4       24     25          5   Joyful  \n",
       "12605       4       24     25          6   Scared  \n",
       "\n",
       "[12606 rows x 7 columns]"
      ]
     },
     "execution_count": 4,
     "metadata": {},
     "output_type": "execute_result"
    }
   ],
   "source": [
    "emotions = bpd.read_csv('data/friends_emotions.csv') \n",
    "emotions"
   ]
  },
  {
   "cell_type": "markdown",
   "id": "d4192f6e",
   "metadata": {},
   "source": [
    "<a id='section1'></a>\n",
    "## Section 1: The Pilot 🎬\n",
    "\n",
    "<small>(<a href=\"#outline\">return to the outline</a>)</small>\n",
    "\n",
    "To start, we'll try to find the most experienced writers and directors in the show to know who to contact for making the reboot. The `episodes` DataFrame contains the writers and directors for each episode, but it's not in the neatest format. "
   ]
  },
  {
   "cell_type": "code",
   "execution_count": 5,
   "id": "6de92823",
   "metadata": {},
   "outputs": [
    {
     "data": {
      "text/html": [
       "<div>\n",
       "<style scoped>\n",
       "    .dataframe tbody tr th:only-of-type {\n",
       "        vertical-align: middle;\n",
       "    }\n",
       "\n",
       "    .dataframe tbody tr th {\n",
       "        vertical-align: top;\n",
       "    }\n",
       "\n",
       "    .dataframe thead th {\n",
       "        text-align: right;\n",
       "    }\n",
       "</style>\n",
       "<table border=\"1\" class=\"dataframe\">\n",
       "  <thead>\n",
       "    <tr style=\"text-align: right;\">\n",
       "      <th></th>\n",
       "      <th>season</th>\n",
       "      <th>episode</th>\n",
       "      <th>title</th>\n",
       "      <th>directed_by</th>\n",
       "      <th>written_by</th>\n",
       "      <th>air_date</th>\n",
       "      <th>us_views_millions</th>\n",
       "      <th>imdb_rating</th>\n",
       "    </tr>\n",
       "  </thead>\n",
       "  <tbody>\n",
       "    <tr>\n",
       "      <th>0</th>\n",
       "      <td>1</td>\n",
       "      <td>1</td>\n",
       "      <td>The Pilot</td>\n",
       "      <td>James Burrows</td>\n",
       "      <td>David Crane &amp; Marta Kauffman</td>\n",
       "      <td>9/22/94</td>\n",
       "      <td>21.50</td>\n",
       "      <td>8.3</td>\n",
       "    </tr>\n",
       "    <tr>\n",
       "      <th>1</th>\n",
       "      <td>1</td>\n",
       "      <td>2</td>\n",
       "      <td>The One with the Sonogram at the End</td>\n",
       "      <td>James Burrows</td>\n",
       "      <td>David Crane &amp; Marta Kauffman</td>\n",
       "      <td>9/29/94</td>\n",
       "      <td>20.20</td>\n",
       "      <td>8.1</td>\n",
       "    </tr>\n",
       "    <tr>\n",
       "      <th>2</th>\n",
       "      <td>1</td>\n",
       "      <td>3</td>\n",
       "      <td>The One with the Thumb</td>\n",
       "      <td>James Burrows</td>\n",
       "      <td>Jeffrey Astrof &amp; Mike Sikowitz</td>\n",
       "      <td>10/6/94</td>\n",
       "      <td>19.50</td>\n",
       "      <td>8.2</td>\n",
       "    </tr>\n",
       "    <tr>\n",
       "      <th>3</th>\n",
       "      <td>1</td>\n",
       "      <td>4</td>\n",
       "      <td>The One with George Stephanopoulos</td>\n",
       "      <td>James Burrows</td>\n",
       "      <td>Alexa Junge</td>\n",
       "      <td>10/13/94</td>\n",
       "      <td>19.70</td>\n",
       "      <td>8.1</td>\n",
       "    </tr>\n",
       "    <tr>\n",
       "      <th>4</th>\n",
       "      <td>1</td>\n",
       "      <td>5</td>\n",
       "      <td>The One with the East German Laundry Detergent</td>\n",
       "      <td>Pamela Fryman</td>\n",
       "      <td>Jeff Greenstein &amp; Jeff Strauss</td>\n",
       "      <td>10/20/94</td>\n",
       "      <td>18.60</td>\n",
       "      <td>8.5</td>\n",
       "    </tr>\n",
       "    <tr>\n",
       "      <th>...</th>\n",
       "      <td>...</td>\n",
       "      <td>...</td>\n",
       "      <td>...</td>\n",
       "      <td>...</td>\n",
       "      <td>...</td>\n",
       "      <td>...</td>\n",
       "      <td>...</td>\n",
       "      <td>...</td>\n",
       "    </tr>\n",
       "    <tr>\n",
       "      <th>231</th>\n",
       "      <td>10</td>\n",
       "      <td>14</td>\n",
       "      <td>The One with Princess Consuela</td>\n",
       "      <td>Gary Halvorson</td>\n",
       "      <td>Story by: Robert CarlockTeleplay by: Tracy Reilly</td>\n",
       "      <td>2/26/04</td>\n",
       "      <td>22.83</td>\n",
       "      <td>8.6</td>\n",
       "    </tr>\n",
       "    <tr>\n",
       "      <th>232</th>\n",
       "      <td>10</td>\n",
       "      <td>15</td>\n",
       "      <td>The One Where Estelle Dies</td>\n",
       "      <td>Gary Halvorson</td>\n",
       "      <td>Story by: Mark KunerthTeleplay by: David Crane...</td>\n",
       "      <td>4/22/04</td>\n",
       "      <td>22.64</td>\n",
       "      <td>8.5</td>\n",
       "    </tr>\n",
       "    <tr>\n",
       "      <th>233</th>\n",
       "      <td>10</td>\n",
       "      <td>16</td>\n",
       "      <td>The One with Rachel's Going Away Party</td>\n",
       "      <td>Gary Halvorson</td>\n",
       "      <td>Andrew Reich &amp; Ted Cohen</td>\n",
       "      <td>4/29/04</td>\n",
       "      <td>24.51</td>\n",
       "      <td>8.9</td>\n",
       "    </tr>\n",
       "    <tr>\n",
       "      <th>234</th>\n",
       "      <td>10</td>\n",
       "      <td>17</td>\n",
       "      <td>The Last One</td>\n",
       "      <td>Kevin S. Bright</td>\n",
       "      <td>Marta Kauffman &amp; David Crane</td>\n",
       "      <td>5/6/04</td>\n",
       "      <td>52.46</td>\n",
       "      <td>9.7</td>\n",
       "    </tr>\n",
       "    <tr>\n",
       "      <th>235</th>\n",
       "      <td>10</td>\n",
       "      <td>18</td>\n",
       "      <td>The Last One</td>\n",
       "      <td>Kevin S. Bright</td>\n",
       "      <td>Marta Kauffman &amp; David Crane</td>\n",
       "      <td>5/6/04</td>\n",
       "      <td>52.46</td>\n",
       "      <td>9.7</td>\n",
       "    </tr>\n",
       "  </tbody>\n",
       "</table>\n",
       "<p>236 rows × 8 columns</p>\n",
       "</div>"
      ],
      "text/plain": [
       "     season  episode                                           title  \\\n",
       "0         1        1                                       The Pilot   \n",
       "1         1        2            The One with the Sonogram at the End   \n",
       "2         1        3                          The One with the Thumb   \n",
       "3         1        4              The One with George Stephanopoulos   \n",
       "4         1        5  The One with the East German Laundry Detergent   \n",
       "..      ...      ...                                             ...   \n",
       "231      10       14                  The One with Princess Consuela   \n",
       "232      10       15                      The One Where Estelle Dies   \n",
       "233      10       16          The One with Rachel's Going Away Party   \n",
       "234      10       17                                    The Last One   \n",
       "235      10       18                                    The Last One   \n",
       "\n",
       "         directed_by                                         written_by  \\\n",
       "0      James Burrows                       David Crane & Marta Kauffman   \n",
       "1      James Burrows                       David Crane & Marta Kauffman   \n",
       "2      James Burrows                     Jeffrey Astrof & Mike Sikowitz   \n",
       "3      James Burrows                                        Alexa Junge   \n",
       "4      Pamela Fryman                     Jeff Greenstein & Jeff Strauss   \n",
       "..               ...                                                ...   \n",
       "231   Gary Halvorson  Story by: Robert CarlockTeleplay by: Tracy Reilly   \n",
       "232   Gary Halvorson  Story by: Mark KunerthTeleplay by: David Crane...   \n",
       "233   Gary Halvorson                           Andrew Reich & Ted Cohen   \n",
       "234  Kevin S. Bright                       Marta Kauffman & David Crane   \n",
       "235  Kevin S. Bright                       Marta Kauffman & David Crane   \n",
       "\n",
       "     air_date  us_views_millions  imdb_rating  \n",
       "0     9/22/94              21.50          8.3  \n",
       "1     9/29/94              20.20          8.1  \n",
       "2     10/6/94              19.50          8.2  \n",
       "3    10/13/94              19.70          8.1  \n",
       "4    10/20/94              18.60          8.5  \n",
       "..        ...                ...          ...  \n",
       "231   2/26/04              22.83          8.6  \n",
       "232   4/22/04              22.64          8.5  \n",
       "233   4/29/04              24.51          8.9  \n",
       "234    5/6/04              52.46          9.7  \n",
       "235    5/6/04              52.46          9.7  \n",
       "\n",
       "[236 rows x 8 columns]"
      ]
     },
     "execution_count": 5,
     "metadata": {},
     "output_type": "execute_result"
    }
   ],
   "source": [
    "episodes"
   ]
  },
  {
   "cell_type": "markdown",
   "id": "51ff83a3",
   "metadata": {},
   "source": [
    "Some episodes were written or directed by more than one person, and many episodes have certain people who wrote the story and other people who wrote the teleplay. So identifying the most experienced writers and directors is not as straightforward as simply grouping and counting. First, we'll have to clean up the data to break up each string of names into a list of individual names."
   ]
  },
  {
   "cell_type": "markdown",
   "id": "74c94212",
   "metadata": {},
   "source": [
    "**Question 1.1.**\n",
    "We want to first handle any episodes with two directors so that later we can count the number of episodes each director contributed to. Create a function called `parse_names` that turns a string in the `'directed_by'` column to a **list** of one or two names. Values in the `'directed_by'` column are either single names, or two names separated by an ampersand. For example,\n",
    "-  `parse_names('James Burrows')` should return `['James Burrows']`, and \n",
    "-  `parse_names('Kevin S. Bright & Gary Halvorson')` should return `['Kevin S. Bright', 'Gary Halvorson']`.\n",
    "\n",
    "Then, apply your function to the `'directed_by'` column from the `episodes` DataFrame, and store the resulting Series in the variable `directors_by_episode`. **Do not** modify the `episodes` DataFrame. "
   ]
  },
  {
   "cell_type": "code",
   "execution_count": 6,
   "id": "1a9b9159",
   "metadata": {},
   "outputs": [
    {
     "data": {
      "text/plain": [
       "list"
      ]
     },
     "execution_count": 6,
     "metadata": {},
     "output_type": "execute_result"
    }
   ],
   "source": [
    "names = 'Kevin S. Bright & Gary Halvorson'\n",
    "type(names.split(' & '))"
   ]
  },
  {
   "cell_type": "code",
   "execution_count": 7,
   "id": "31799abd",
   "metadata": {},
   "outputs": [
    {
     "data": {
      "text/plain": [
       "0        [James Burrows]\n",
       "1        [James Burrows]\n",
       "2        [James Burrows]\n",
       "3        [James Burrows]\n",
       "4        [Pamela Fryman]\n",
       "             ...        \n",
       "231     [Gary Halvorson]\n",
       "232     [Gary Halvorson]\n",
       "233     [Gary Halvorson]\n",
       "234    [Kevin S. Bright]\n",
       "235    [Kevin S. Bright]\n",
       "Name: directed_by, Length: 236, dtype: object"
      ]
     },
     "execution_count": 7,
     "metadata": {},
     "output_type": "execute_result"
    }
   ],
   "source": [
    "def parse_names(names):\n",
    "    '''Returns a list of individual names present in the input string.'''\n",
    "    return names.split(' & ')\n",
    "    \n",
    "directors_by_episode = episodes.get('directed_by').apply(parse_names)\n",
    "directors_by_episode"
   ]
  },
  {
   "cell_type": "code",
   "execution_count": 8,
   "id": "26235dab",
   "metadata": {
    "deletable": false,
    "editable": false
   },
   "outputs": [
    {
     "data": {
      "text/html": [
       "<p><strong><pre style='display: inline;'>q1_1</pre></strong> passed!</p>"
      ],
      "text/plain": [
       "q1_1 results: All test cases passed!"
      ]
     },
     "execution_count": 8,
     "metadata": {},
     "output_type": "execute_result"
    }
   ],
   "source": [
    "grader.check(\"q1_1\")"
   ]
  },
  {
   "cell_type": "markdown",
   "id": "966c3836",
   "metadata": {},
   "source": [
    "\n",
    "For the next question, you'll need to know something interesting about how lists work in Python: when you sum two lists together, the output is one giant list that contains all the elements in both lists combined. An example is shown below.\n"
   ]
  },
  {
   "cell_type": "code",
   "execution_count": 9,
   "id": "eaea87c1",
   "metadata": {},
   "outputs": [
    {
     "data": {
      "text/plain": [
       "['List', 'combining', 'is', 'my', 'passion']"
      ]
     },
     "execution_count": 9,
     "metadata": {},
     "output_type": "execute_result"
    }
   ],
   "source": [
    "['List', 'combining'] + ['is', 'my', 'passion']"
   ]
  },
  {
   "cell_type": "markdown",
   "id": "a5a6a3be",
   "metadata": {},
   "source": [
    "**Question 1.2.** ⭐⭐\n",
    "Now it's time to count the number of episodes each director directed. Make a DataFrame called `directors`, indexed by `'name'`, with one column called `'num_episodes'`. There should be one row for each unique director, and `'num_episodes'` should contain the number of episodes they directed or co-directed. Sort this DataFrame so that the most experienced directors appear at the top.\n",
    "\n",
    "***Hints:***\n",
    "- Our solution involved creating a new, empty DataFrame with `bpd.DataFrame()`, adding columns, and using `groupby`. \n",
    "- For `groupby` to give meaningful results, you must use it on a DataFrame with at least two columns."
   ]
  },
  {
   "cell_type": "code",
   "execution_count": 10,
   "id": "544a4760",
   "metadata": {},
   "outputs": [],
   "source": [
    "listed_directors = np.array(episodes.get('directed_by'))\n",
    "newlisted_directors = np.array([])\n",
    "for i in range(len(listed_directors)):\n",
    "    if '&' in listed_directors[i]:\n",
    "        multi_director = parse_names(listed_directors[i])\n",
    "        newlisted_directors = np.append(newlisted_directors, multi_director)\n",
    "    else:\n",
    "        newlisted_directors = np.append(newlisted_directors, listed_directors[i])\n"
   ]
  },
  {
   "cell_type": "code",
   "execution_count": 11,
   "id": "3e8ee73f",
   "metadata": {},
   "outputs": [
    {
     "data": {
      "text/html": [
       "<div>\n",
       "<style scoped>\n",
       "    .dataframe tbody tr th:only-of-type {\n",
       "        vertical-align: middle;\n",
       "    }\n",
       "\n",
       "    .dataframe tbody tr th {\n",
       "        vertical-align: top;\n",
       "    }\n",
       "\n",
       "    .dataframe thead th {\n",
       "        text-align: right;\n",
       "    }\n",
       "</style>\n",
       "<table border=\"1\" class=\"dataframe\">\n",
       "  <thead>\n",
       "    <tr style=\"text-align: right;\">\n",
       "      <th></th>\n",
       "      <th>num_episodes</th>\n",
       "    </tr>\n",
       "    <tr>\n",
       "      <th>name</th>\n",
       "      <th></th>\n",
       "    </tr>\n",
       "  </thead>\n",
       "  <tbody>\n",
       "    <tr>\n",
       "      <th>Gary Halvorson</th>\n",
       "      <td>55</td>\n",
       "    </tr>\n",
       "    <tr>\n",
       "      <th>Kevin S. Bright</th>\n",
       "      <td>54</td>\n",
       "    </tr>\n",
       "    <tr>\n",
       "      <th>Michael Lembeck</th>\n",
       "      <td>24</td>\n",
       "    </tr>\n",
       "    <tr>\n",
       "      <th>James Burrows</th>\n",
       "      <td>15</td>\n",
       "    </tr>\n",
       "    <tr>\n",
       "      <th>Gail Mancuso</th>\n",
       "      <td>14</td>\n",
       "    </tr>\n",
       "    <tr>\n",
       "      <th>...</th>\n",
       "      <td>...</td>\n",
       "    </tr>\n",
       "    <tr>\n",
       "      <th>Ellen Gittelsohn</th>\n",
       "      <td>1</td>\n",
       "    </tr>\n",
       "    <tr>\n",
       "      <th>David Steinberg</th>\n",
       "      <td>1</td>\n",
       "    </tr>\n",
       "    <tr>\n",
       "      <th>Dana DeVally Piazza</th>\n",
       "      <td>1</td>\n",
       "    </tr>\n",
       "    <tr>\n",
       "      <th>Arlene Sanford</th>\n",
       "      <td>1</td>\n",
       "    </tr>\n",
       "    <tr>\n",
       "      <th>Todd Holland</th>\n",
       "      <td>1</td>\n",
       "    </tr>\n",
       "  </tbody>\n",
       "</table>\n",
       "<p>29 rows × 1 columns</p>\n",
       "</div>"
      ],
      "text/plain": [
       "                     num_episodes\n",
       "name                             \n",
       "Gary Halvorson                 55\n",
       "Kevin S. Bright                54\n",
       "Michael Lembeck                24\n",
       "James Burrows                  15\n",
       "Gail Mancuso                   14\n",
       "...                           ...\n",
       "Ellen Gittelsohn                1\n",
       "David Steinberg                 1\n",
       "Dana DeVally Piazza             1\n",
       "Arlene Sanford                  1\n",
       "Todd Holland                    1\n",
       "\n",
       "[29 rows x 1 columns]"
      ]
     },
     "execution_count": 11,
     "metadata": {},
     "output_type": "execute_result"
    }
   ],
   "source": [
    "directors = bpd.DataFrame().assign(name = newlisted_directors)\n",
    "directors = directors.assign(num_episodes = np.arange(0, directors.shape[0])).groupby(\"name\").count().reset_index()\n",
    "directors = directors.set_index('name').sort_values(by = 'num_episodes', ascending = False)\n",
    "\n",
    "\n",
    "directors"
   ]
  },
  {
   "cell_type": "code",
   "execution_count": 12,
   "id": "f739aab0",
   "metadata": {
    "deletable": false,
    "editable": false
   },
   "outputs": [
    {
     "data": {
      "text/html": [
       "<p><strong><pre style='display: inline;'>q1_2</pre></strong> passed!</p>"
      ],
      "text/plain": [
       "q1_2 results: All test cases passed!"
      ]
     },
     "execution_count": 12,
     "metadata": {},
     "output_type": "execute_result"
    }
   ],
   "source": [
    "grader.check(\"q1_2\")"
   ]
  },
  {
   "cell_type": "markdown",
   "id": "66c57c2d",
   "metadata": {},
   "source": [
    "Now we want to repeat the process we've done so far in this section, except for writers instead of directors. This is a little trickier because for some episodes, certain writers wrote the story, meaning they developed the plot of the episode, while others wrote the teleplay, which means they wrote the dialogue and scene directions based on the story. For other episodes, the same writers wrote both the story and teleplay.\n",
    "\n",
    "There are two ways writers are represented in the `'written_by'` column:\n",
    "\n",
    "1. One or two names separated by `&` (similar to the `'directed_by'` column). This means these writers wrote both the story and teleplay.\n",
    "2. One or two names separated by `&` after `Story by: ` and one or two names separated by `&` after `Teleplay by: ` \n",
    "\n",
    "Therefore, the six possible templates of strings in the `'written_by'` column are:\n",
    "1. <ins>writer</ins>\n",
    "2. <ins>writer</ins> & <ins>other writer</ins>\n",
    "3. Story by: <ins>writer</ins>Teleplay by: <ins>other writer</ins>\n",
    "4. Story by: <ins>writer</ins>Teleplay by: <ins>other writer</ins> & <ins>another writer</ins>\n",
    "5. Story by: <ins>writer</ins> & <ins>other writer</ins>Teleplay by: <ins>another writer</ins>\n",
    "6. Story by: <ins>writer</ins> & <ins>other writer</ins>Teleplay by: <ins>another writer</ins> & <ins>yet another writer</ins>\n",
    "\n",
    "**Question 1.3.** Implement the function `get_teleplay_writers`, which takes as input a string from the `'written_by'` column, corresponding to one episode, and returns a list of teleplay writers for that episode.  Remember that if the writers' names aren't divided into story and teleplay, then all writers wrote both the story and the teleplay.\n",
    "\n",
    "***Hints:***\n",
    "- Use the `parse_names` function you wrote earlier.\n",
    "- While there are six templates, you can solve this problem without using any conditional logic (`if`-statements). Your solution doesn't have to be the same as ours, but ours was just one line!"
   ]
  },
  {
   "cell_type": "code",
   "execution_count": 13,
   "id": "2d575a75",
   "metadata": {},
   "outputs": [],
   "source": [
    "def get_teleplay_writers(names):\n",
    "    '''Returns a list of names of teleplay writers present in the input string.'''\n",
    "    return names.split('Teleplay by: ')[-1].split(' & ')\n",
    "\n",
    "teleplay_writers_by_episode = episodes.get('written_by').apply(get_teleplay_writers)"
   ]
  },
  {
   "cell_type": "code",
   "execution_count": 14,
   "id": "9f1ab2d1",
   "metadata": {
    "deletable": false,
    "editable": false
   },
   "outputs": [
    {
     "data": {
      "text/html": [
       "<p><strong><pre style='display: inline;'>q1_3</pre></strong> passed!</p>"
      ],
      "text/plain": [
       "q1_3 results: All test cases passed!"
      ]
     },
     "execution_count": 14,
     "metadata": {},
     "output_type": "execute_result"
    }
   ],
   "source": [
    "grader.check(\"q1_3\")"
   ]
  },
  {
   "cell_type": "markdown",
   "id": "093cab94",
   "metadata": {},
   "source": [
    "**Question 1.4.** Now we need a function for getting the names of the writers that wrote the story of an episode. Create a function `get_story_writers` that takes a string from the `'written_by'` column and returns a list of story writers. As before, if the writers' names aren't divided into story and teleplay, then all writers wrote both the story and the teleplay.\n"
   ]
  },
  {
   "cell_type": "code",
   "execution_count": 15,
   "id": "5d862aee",
   "metadata": {},
   "outputs": [],
   "source": [
    "def get_story_writers(names):\n",
    "    '''Returns a list of names of story writers present in the input string.'''\n",
    "    return names.split('Story by: ')[-1].split('Teleplay by: ')[0].split(' & ')\n",
    "\n",
    "story_writers_by_episode = episodes.get('written_by').apply(get_story_writers)"
   ]
  },
  {
   "cell_type": "code",
   "execution_count": 16,
   "id": "57ce29d6",
   "metadata": {
    "deletable": false,
    "editable": false
   },
   "outputs": [
    {
     "data": {
      "text/html": [
       "<p><strong><pre style='display: inline;'>q1_4</pre></strong> passed!</p>"
      ],
      "text/plain": [
       "q1_4 results: All test cases passed!"
      ]
     },
     "execution_count": 16,
     "metadata": {},
     "output_type": "execute_result"
    }
   ],
   "source": [
    "grader.check(\"q1_4\")"
   ]
  },
  {
   "cell_type": "markdown",
   "id": "eb6d97b6",
   "metadata": {},
   "source": [
    "**Question 1.5.**\n",
    "Next we want to count how many times each writer wrote or co-wrote the story for an episode, as well as how many times each writer wrote or co-wrote the teleplay for an episode. This will be similar to the process we did in Question 1.2 for directors. Since we want to do something similar for story writers and teleplay writers, let's create a more general function that works for directors, story writers, and teleplay writers.\n",
    "\n",
    "The function `count_episodes` should take as input a Series of lists, containing for each episode, either the directors, story writers, or teleplay writers for that episode. The function should return a DataFrame indexed by `'name'`, with one column called `'num_episodes'` containing a count of how many episodes each staff member worked on, sorted in descending order of the number of episodes.\n",
    "\n",
    "For example `count_episodes(directors_by_episode)` should return a DataFrame that is identical to the `directors` DataFrame you created in Question 1.2. But we could also use the same function, with different inputs, to count the number of episodes each story writer and each teleplay writer worked on."
   ]
  },
  {
   "cell_type": "code",
   "execution_count": 17,
   "id": "813c37bc",
   "metadata": {},
   "outputs": [
    {
     "data": {
      "text/html": [
       "<div>\n",
       "<style scoped>\n",
       "    .dataframe tbody tr th:only-of-type {\n",
       "        vertical-align: middle;\n",
       "    }\n",
       "\n",
       "    .dataframe tbody tr th {\n",
       "        vertical-align: top;\n",
       "    }\n",
       "\n",
       "    .dataframe thead th {\n",
       "        text-align: right;\n",
       "    }\n",
       "</style>\n",
       "<table border=\"1\" class=\"dataframe\">\n",
       "  <thead>\n",
       "    <tr style=\"text-align: right;\">\n",
       "      <th></th>\n",
       "      <th>num_episodes</th>\n",
       "    </tr>\n",
       "    <tr>\n",
       "      <th>name</th>\n",
       "      <th></th>\n",
       "    </tr>\n",
       "  </thead>\n",
       "  <tbody>\n",
       "    <tr>\n",
       "      <th>Gary Halvorson</th>\n",
       "      <td>55</td>\n",
       "    </tr>\n",
       "    <tr>\n",
       "      <th>Kevin S. Bright</th>\n",
       "      <td>54</td>\n",
       "    </tr>\n",
       "    <tr>\n",
       "      <th>Michael Lembeck</th>\n",
       "      <td>24</td>\n",
       "    </tr>\n",
       "    <tr>\n",
       "      <th>James Burrows</th>\n",
       "      <td>15</td>\n",
       "    </tr>\n",
       "    <tr>\n",
       "      <th>Gail Mancuso</th>\n",
       "      <td>14</td>\n",
       "    </tr>\n",
       "    <tr>\n",
       "      <th>...</th>\n",
       "      <td>...</td>\n",
       "    </tr>\n",
       "    <tr>\n",
       "      <th>Ellen Gittelsohn</th>\n",
       "      <td>1</td>\n",
       "    </tr>\n",
       "    <tr>\n",
       "      <th>David Steinberg</th>\n",
       "      <td>1</td>\n",
       "    </tr>\n",
       "    <tr>\n",
       "      <th>Dana DeVally Piazza</th>\n",
       "      <td>1</td>\n",
       "    </tr>\n",
       "    <tr>\n",
       "      <th>Arlene Sanford</th>\n",
       "      <td>1</td>\n",
       "    </tr>\n",
       "    <tr>\n",
       "      <th>Todd Holland</th>\n",
       "      <td>1</td>\n",
       "    </tr>\n",
       "  </tbody>\n",
       "</table>\n",
       "<p>29 rows × 1 columns</p>\n",
       "</div>"
      ],
      "text/plain": [
       "                     num_episodes\n",
       "name                             \n",
       "Gary Halvorson                 55\n",
       "Kevin S. Bright                54\n",
       "Michael Lembeck                24\n",
       "James Burrows                  15\n",
       "Gail Mancuso                   14\n",
       "...                           ...\n",
       "Ellen Gittelsohn                1\n",
       "David Steinberg                 1\n",
       "Dana DeVally Piazza             1\n",
       "Arlene Sanford                  1\n",
       "Todd Holland                    1\n",
       "\n",
       "[29 rows x 1 columns]"
      ]
     },
     "execution_count": 17,
     "metadata": {},
     "output_type": "execute_result"
    }
   ],
   "source": [
    "def count_episodes(staff):\n",
    "    '''Returns a DataFrame showing how many episodes each staff member worked on.''' \n",
    "    names = np.array([])\n",
    "    for i in range(len(staff)):\n",
    "        names = np.append(names, staff.loc[i])\n",
    "    \n",
    "\n",
    "    df = bpd.DataFrame().assign(name = staff.sum())\n",
    "    df = df.assign(num_episodes = np.arange(0, df.shape[0])).groupby(\"name\").count().reset_index()\n",
    "    df = df.set_index('name').sort_values(by = 'num_episodes', ascending = False)\n",
    "    \n",
    "\n",
    "    return df\n",
    "        \n",
    "\n",
    "# An example call to your function. Feel free to change this and try out other inputs.  \n",
    "count_episodes(directors_by_episode)"
   ]
  },
  {
   "cell_type": "code",
   "execution_count": 18,
   "id": "1c2ff7a5",
   "metadata": {
    "deletable": false,
    "editable": false
   },
   "outputs": [
    {
     "data": {
      "text/html": [
       "<p><strong><pre style='display: inline;'>q1_5</pre></strong> passed!</p>"
      ],
      "text/plain": [
       "q1_5 results: All test cases passed!"
      ]
     },
     "execution_count": 18,
     "metadata": {},
     "output_type": "execute_result"
    }
   ],
   "source": [
    "grader.check(\"q1_5\")"
   ]
  },
  {
   "cell_type": "markdown",
   "id": "bb8d6b85",
   "metadata": {},
   "source": [
    "**Question 1.6.**\n",
    "Now, use the function you wrote in Question 1.5 to make a DataFrame called `story_writers`. This DataFrame should be indexed by `'name'`, with one column called `'num_episodes'`. There should be one row for each unique story writer, and `'num_episodes'` should contain the number of episodes for which they wrote the story, either independently or with a co-writer. Sort this DataFrame so that the most experienced story writers appear at the top.\n",
    "\n",
    "Then do the same for teleplay writers, storing your result in `teleplay_writers`."
   ]
  },
  {
   "cell_type": "code",
   "execution_count": 19,
   "id": "d6294288",
   "metadata": {},
   "outputs": [
    {
     "data": {
      "text/html": [
       "<div>\n",
       "<style scoped>\n",
       "    .dataframe tbody tr th:only-of-type {\n",
       "        vertical-align: middle;\n",
       "    }\n",
       "\n",
       "    .dataframe tbody tr th {\n",
       "        vertical-align: top;\n",
       "    }\n",
       "\n",
       "    .dataframe thead th {\n",
       "        text-align: right;\n",
       "    }\n",
       "</style>\n",
       "<table border=\"1\" class=\"dataframe\">\n",
       "  <thead>\n",
       "    <tr style=\"text-align: right;\">\n",
       "      <th></th>\n",
       "      <th>num_episodes</th>\n",
       "    </tr>\n",
       "    <tr>\n",
       "      <th>name</th>\n",
       "      <th></th>\n",
       "    </tr>\n",
       "  </thead>\n",
       "  <tbody>\n",
       "    <tr>\n",
       "      <th>Ted Cohen</th>\n",
       "      <td>21</td>\n",
       "    </tr>\n",
       "    <tr>\n",
       "      <th>Andrew Reich</th>\n",
       "      <td>21</td>\n",
       "    </tr>\n",
       "    <tr>\n",
       "      <th>Scott Silveri</th>\n",
       "      <td>19</td>\n",
       "    </tr>\n",
       "    <tr>\n",
       "      <th>Shana Goldberg-Meehan</th>\n",
       "      <td>19</td>\n",
       "    </tr>\n",
       "    <tr>\n",
       "      <th>Marta Kauffman</th>\n",
       "      <td>19</td>\n",
       "    </tr>\n",
       "    <tr>\n",
       "      <th>...</th>\n",
       "      <td>...</td>\n",
       "    </tr>\n",
       "    <tr>\n",
       "      <th>Brown Mandell</th>\n",
       "      <td>1</td>\n",
       "    </tr>\n",
       "    <tr>\n",
       "      <th>Brian Caldirola</th>\n",
       "      <td>1</td>\n",
       "    </tr>\n",
       "    <tr>\n",
       "      <th>Earl Davis</th>\n",
       "      <td>1</td>\n",
       "    </tr>\n",
       "    <tr>\n",
       "      <th>Bill Lawrence</th>\n",
       "      <td>1</td>\n",
       "    </tr>\n",
       "    <tr>\n",
       "      <th>Judd Rubin</th>\n",
       "      <td>1</td>\n",
       "    </tr>\n",
       "  </tbody>\n",
       "</table>\n",
       "<p>47 rows × 1 columns</p>\n",
       "</div>"
      ],
      "text/plain": [
       "                       num_episodes\n",
       "name                               \n",
       "Ted Cohen                        21\n",
       "Andrew Reich                     21\n",
       "Scott Silveri                    19\n",
       "Shana Goldberg-Meehan            19\n",
       "Marta Kauffman                   19\n",
       "...                             ...\n",
       "Brown Mandell                     1\n",
       "Brian Caldirola                   1\n",
       "Earl Davis                        1\n",
       "Bill Lawrence                     1\n",
       "Judd Rubin                        1\n",
       "\n",
       "[47 rows x 1 columns]"
      ]
     },
     "execution_count": 19,
     "metadata": {},
     "output_type": "execute_result"
    }
   ],
   "source": [
    "story_writers = count_episodes(story_writers_by_episode)\n",
    "story_writers"
   ]
  },
  {
   "cell_type": "code",
   "execution_count": 20,
   "id": "7237d574",
   "metadata": {
    "deletable": false,
    "editable": false
   },
   "outputs": [
    {
     "data": {
      "text/html": [
       "<p><strong><pre style='display: inline;'>q1_6_a</pre></strong> passed!</p>"
      ],
      "text/plain": [
       "q1_6_a results: All test cases passed!"
      ]
     },
     "execution_count": 20,
     "metadata": {},
     "output_type": "execute_result"
    }
   ],
   "source": [
    "grader.check(\"q1_6_a\")"
   ]
  },
  {
   "cell_type": "code",
   "execution_count": 21,
   "id": "4caa413f",
   "metadata": {},
   "outputs": [
    {
     "data": {
      "text/html": [
       "<div>\n",
       "<style scoped>\n",
       "    .dataframe tbody tr th:only-of-type {\n",
       "        vertical-align: middle;\n",
       "    }\n",
       "\n",
       "    .dataframe tbody tr th {\n",
       "        vertical-align: top;\n",
       "    }\n",
       "\n",
       "    .dataframe thead th {\n",
       "        text-align: right;\n",
       "    }\n",
       "</style>\n",
       "<table border=\"1\" class=\"dataframe\">\n",
       "  <thead>\n",
       "    <tr style=\"text-align: right;\">\n",
       "      <th></th>\n",
       "      <th>num_episodes</th>\n",
       "    </tr>\n",
       "    <tr>\n",
       "      <th>name</th>\n",
       "      <th></th>\n",
       "    </tr>\n",
       "  </thead>\n",
       "  <tbody>\n",
       "    <tr>\n",
       "      <th>Ted Cohen</th>\n",
       "      <td>22</td>\n",
       "    </tr>\n",
       "    <tr>\n",
       "      <th>Andrew Reich</th>\n",
       "      <td>22</td>\n",
       "    </tr>\n",
       "    <tr>\n",
       "      <th>Scott Silveri</th>\n",
       "      <td>21</td>\n",
       "    </tr>\n",
       "    <tr>\n",
       "      <th>Marta Kauffman</th>\n",
       "      <td>20</td>\n",
       "    </tr>\n",
       "    <tr>\n",
       "      <th>David Crane</th>\n",
       "      <td>20</td>\n",
       "    </tr>\n",
       "    <tr>\n",
       "      <th>...</th>\n",
       "      <td>...</td>\n",
       "    </tr>\n",
       "    <tr>\n",
       "      <th>Suzie Villandry</th>\n",
       "      <td>1</td>\n",
       "    </tr>\n",
       "    <tr>\n",
       "      <th>Alicia Sky Varinaitis</th>\n",
       "      <td>1</td>\n",
       "    </tr>\n",
       "    <tr>\n",
       "      <th>Tracy Reilly</th>\n",
       "      <td>1</td>\n",
       "    </tr>\n",
       "    <tr>\n",
       "      <th>Vanessa McCarthy</th>\n",
       "      <td>1</td>\n",
       "    </tr>\n",
       "    <tr>\n",
       "      <th>Bill Lawrence</th>\n",
       "      <td>1</td>\n",
       "    </tr>\n",
       "  </tbody>\n",
       "</table>\n",
       "<p>46 rows × 1 columns</p>\n",
       "</div>"
      ],
      "text/plain": [
       "                       num_episodes\n",
       "name                               \n",
       "Ted Cohen                        22\n",
       "Andrew Reich                     22\n",
       "Scott Silveri                    21\n",
       "Marta Kauffman                   20\n",
       "David Crane                      20\n",
       "...                             ...\n",
       "Suzie Villandry                   1\n",
       "Alicia Sky Varinaitis             1\n",
       "Tracy Reilly                      1\n",
       "Vanessa McCarthy                  1\n",
       "Bill Lawrence                     1\n",
       "\n",
       "[46 rows x 1 columns]"
      ]
     },
     "execution_count": 21,
     "metadata": {},
     "output_type": "execute_result"
    }
   ],
   "source": [
    "teleplay_writers= count_episodes(teleplay_writers_by_episode)\n",
    "teleplay_writers"
   ]
  },
  {
   "cell_type": "code",
   "execution_count": 22,
   "id": "8946c561",
   "metadata": {
    "deletable": false,
    "editable": false
   },
   "outputs": [
    {
     "data": {
      "text/html": [
       "<p><strong><pre style='display: inline;'>q1_6_b</pre></strong> passed!</p>"
      ],
      "text/plain": [
       "q1_6_b results: All test cases passed!"
      ]
     },
     "execution_count": 22,
     "metadata": {},
     "output_type": "execute_result"
    }
   ],
   "source": [
    "grader.check(\"q1_6_b\")"
   ]
  },
  {
   "cell_type": "markdown",
   "id": "893fa1dc",
   "metadata": {},
   "source": [
    "**Question 1.7.** ⭐⭐\n",
    "Finally, it's time to use the information in `directors`, `story_writers`, and `teleplay_writers` to find the best candidates to help create the reboot. Create an array called `experienced_directors` containing the names of directors that directed at least 20 episodes. Then create an array called `experienced_writers` containing the names of writers that wrote at least 20 stories **and** at least 20 teleplays."
   ]
  },
  {
   "cell_type": "code",
   "execution_count": 23,
   "id": "1b763d78",
   "metadata": {},
   "outputs": [
    {
     "name": "stdout",
     "output_type": "stream",
     "text": [
      "The experienced directors are ['Gary Halvorson' 'Kevin S. Bright' 'Michael Lembeck']\n",
      "The experienced writers are ['Ted Cohen' 'Andrew Reich']\n"
     ]
    }
   ],
   "source": [
    "experienced_directors = np.array(directors[directors.get(\"num_episodes\") >= 20].index)\n",
    "experienced_writers = np.array(story_writers[story_writers.get(\"num_episodes\") >= 20].index)\n",
    "print(f'The experienced directors are {experienced_directors}')\n",
    "print(f'The experienced writers are {experienced_writers}')"
   ]
  },
  {
   "cell_type": "code",
   "execution_count": 24,
   "id": "9325a64c",
   "metadata": {
    "deletable": false,
    "editable": false
   },
   "outputs": [
    {
     "data": {
      "text/html": [
       "<p><strong><pre style='display: inline;'>q1_7</pre></strong> passed!</p>"
      ],
      "text/plain": [
       "q1_7 results: All test cases passed!"
      ]
     },
     "execution_count": 24,
     "metadata": {},
     "output_type": "execute_result"
    }
   ],
   "source": [
    "grader.check(\"q1_7\")"
   ]
  },
  {
   "cell_type": "markdown",
   "id": "c4c119a4",
   "metadata": {},
   "source": [
    "These are the writers and directors you'll reach out to about your reboot, and hopefully, you can find at least one writer and one director interested in working with you on the reboot! If not, you can always relax your criteria and ask some less-experienced writers and directors."
   ]
  },
  {
   "cell_type": "markdown",
   "id": "5a614440",
   "metadata": {},
   "source": [
    "<a id='section2'></a>\n",
    "## Section 2: The One with the Best Director 🏆\n",
    "\n",
    "<small>(<a href=\"#outline\">return to the outline</a>)</small>\n",
    "\n",
    "You discovered in Section 1 that the two directors who directed the most episodes were Gary Halvorson and Kevin S. Bright. In this section, we want to discover which of these two directors makes better episodes, as determined by viewers. We'll use the `'imdb_rating'` column from the `episodes` DataFrame to gauge how much people enjoyed an episode. "
   ]
  },
  {
   "cell_type": "markdown",
   "id": "4ebb3b35",
   "metadata": {},
   "source": [
    "**Question 2.1.** Create a DataFrame `mean_by_director` with the director's name as the index and just one column called `'mean_rating'` that contains the mean rating of all of the episodes directed by that director.\n",
    "\n",
    "***Note:*** There is one episode that had two directors, separated by `'&'`. Exclude this episode, so that we're only looking at episodes with a single director."
   ]
  },
  {
   "cell_type": "code",
   "execution_count": 25,
   "id": "21a17641",
   "metadata": {},
   "outputs": [
    {
     "data": {
      "text/html": [
       "<div>\n",
       "<style scoped>\n",
       "    .dataframe tbody tr th:only-of-type {\n",
       "        vertical-align: middle;\n",
       "    }\n",
       "\n",
       "    .dataframe tbody tr th {\n",
       "        vertical-align: top;\n",
       "    }\n",
       "\n",
       "    .dataframe thead th {\n",
       "        text-align: right;\n",
       "    }\n",
       "</style>\n",
       "<table border=\"1\" class=\"dataframe\">\n",
       "  <thead>\n",
       "    <tr style=\"text-align: right;\">\n",
       "      <th></th>\n",
       "      <th>mean_rating</th>\n",
       "    </tr>\n",
       "    <tr>\n",
       "      <th>director</th>\n",
       "      <th></th>\n",
       "    </tr>\n",
       "  </thead>\n",
       "  <tbody>\n",
       "    <tr>\n",
       "      <th>Alan Myerson</th>\n",
       "      <td>8.45</td>\n",
       "    </tr>\n",
       "    <tr>\n",
       "      <th>Andrew Tsao</th>\n",
       "      <td>8.60</td>\n",
       "    </tr>\n",
       "    <tr>\n",
       "      <th>Arlene Sanford</th>\n",
       "      <td>8.10</td>\n",
       "    </tr>\n",
       "    <tr>\n",
       "      <th>Ben Weiss</th>\n",
       "      <td>8.30</td>\n",
       "    </tr>\n",
       "    <tr>\n",
       "      <th>Dana DeValley Piazza</th>\n",
       "      <td>8.50</td>\n",
       "    </tr>\n",
       "    <tr>\n",
       "      <th>...</th>\n",
       "      <td>...</td>\n",
       "    </tr>\n",
       "    <tr>\n",
       "      <th>Stephen Prime</th>\n",
       "      <td>8.40</td>\n",
       "    </tr>\n",
       "    <tr>\n",
       "      <th>Steve Zuckerman</th>\n",
       "      <td>8.10</td>\n",
       "    </tr>\n",
       "    <tr>\n",
       "      <th>Terry Hughes</th>\n",
       "      <td>8.22</td>\n",
       "    </tr>\n",
       "    <tr>\n",
       "      <th>Thomas Schlamme</th>\n",
       "      <td>8.05</td>\n",
       "    </tr>\n",
       "    <tr>\n",
       "      <th>Todd Holland</th>\n",
       "      <td>8.00</td>\n",
       "    </tr>\n",
       "  </tbody>\n",
       "</table>\n",
       "<p>29 rows × 1 columns</p>\n",
       "</div>"
      ],
      "text/plain": [
       "                      mean_rating\n",
       "director                         \n",
       "Alan Myerson                 8.45\n",
       "Andrew Tsao                  8.60\n",
       "Arlene Sanford               8.10\n",
       "Ben Weiss                    8.30\n",
       "Dana DeValley Piazza         8.50\n",
       "...                           ...\n",
       "Stephen Prime                8.40\n",
       "Steve Zuckerman              8.10\n",
       "Terry Hughes                 8.22\n",
       "Thomas Schlamme              8.05\n",
       "Todd Holland                 8.00\n",
       "\n",
       "[29 rows x 1 columns]"
      ]
     },
     "execution_count": 25,
     "metadata": {},
     "output_type": "execute_result"
    }
   ],
   "source": [
    "mean_by_director = bpd.DataFrame().assign(director = episodes.get('directed_by'),\n",
    "                                         mean_rating = episodes.get('imdb_rating'))\n",
    "mean_by_director = mean_by_director[(mean_by_director.get(\"director\").str.contains(\"&\")) == False].groupby(\"director\").mean()\n",
    "mean_by_director"
   ]
  },
  {
   "cell_type": "code",
   "execution_count": 26,
   "id": "575cf1e9",
   "metadata": {
    "deletable": false,
    "editable": false
   },
   "outputs": [
    {
     "data": {
      "text/html": [
       "<p><strong><pre style='display: inline;'>q2_1</pre></strong> passed!</p>"
      ],
      "text/plain": [
       "q2_1 results: All test cases passed!"
      ]
     },
     "execution_count": 26,
     "metadata": {},
     "output_type": "execute_result"
    }
   ],
   "source": [
    "grader.check(\"q2_1\")"
   ]
  },
  {
   "cell_type": "markdown",
   "id": "8e3d1538",
   "metadata": {},
   "source": [
    "Now let's look at how Gary Halvorson's episodes are rated, on average."
   ]
  },
  {
   "cell_type": "code",
   "execution_count": 27,
   "id": "3509fe05",
   "metadata": {},
   "outputs": [
    {
     "data": {
      "text/plain": [
       "8.401851851851852"
      ]
     },
     "execution_count": 27,
     "metadata": {},
     "output_type": "execute_result"
    }
   ],
   "source": [
    "mean_by_director.get('mean_rating').loc['Gary Halvorson']"
   ]
  },
  {
   "cell_type": "markdown",
   "id": "dedea7eb",
   "metadata": {},
   "source": [
    "How accurate is this number in reflecting Gary's true potential as a director? In this section, we'll consider the data we have to be a sample of each director's potential abilities. Based on this sample, we want to infer each director's ability more broadly. \n",
    "\n",
    "For example, the average rating of episodes that Gary actually directed was 8.4, but the set of episodes he *might* have directed with additional opportunities (representing his potential as a director) could have had a higher or lower average rating. By looking at a data set of *Friends* episodes directed by Gary, we are only looking at a sample from a larger population.\n",
    "\n",
    "We'll estimate each director's mean episode rating in the population based on their mean episode in the sample using **bootstrapping**.\n",
    "\n",
    "**Question 2.2.** Below, write a function called `simulate_estimates`. It should take 3 arguments:\n",
    "- `director_df`: A DataFrame with a row for each episode, which includes columns `'directed_by'` and `'imdb_rating'`.\n",
    "- `director`: The name of the director whose mean episode rating we are trying to estimate.\n",
    "- `repetitions`: The number of repetitions to perform (the number of resamples to create).\n",
    "\n",
    "It should take `repetitions` resamples with replacement from the rows of `director_df` that correspond to the given `director`. For each of those resamples, it should compute the mean episode rating for that resample. Then it should return an array containing the values of those means for each resample."
   ]
  },
  {
   "cell_type": "code",
   "execution_count": 28,
   "id": "176e30f3",
   "metadata": {},
   "outputs": [
    {
     "data": {
      "text/plain": [
       "array([8.40925926, 8.46296296, 8.42037037, 8.36111111, 8.39814815,\n",
       "       8.32592593, 8.41296296, 8.40740741, 8.44444444, 8.37222222,\n",
       "       8.4037037 , 8.41851852, 8.31296296, 8.43518519, 8.40555556,\n",
       "       8.31666667, 8.45555556, 8.40185185, 8.42222222, 8.47962963,\n",
       "       8.3537037 , 8.41851852, 8.40925926, 8.41666667, 8.43888889,\n",
       "       8.41666667, 8.42592593, 8.38518519, 8.46481481, 8.33518519,\n",
       "       8.43888889, 8.32777778, 8.41851852, 8.41296296, 8.39074074,\n",
       "       8.41666667, 8.4       , 8.3462963 , 8.32222222, 8.44444444,\n",
       "       8.44259259, 8.3462963 , 8.34074074, 8.37037037, 8.39074074,\n",
       "       8.38703704, 8.41111111, 8.50925926, 8.37962963, 8.40740741,\n",
       "       8.38888889, 8.37592593, 8.51851852, 8.34259259, 8.44074074,\n",
       "       8.38888889, 8.40925926, 8.3537037 , 8.42037037, 8.49444444,\n",
       "       8.41666667, 8.38888889, 8.34074074, 8.3962963 , 8.41666667,\n",
       "       8.38148148, 8.39259259, 8.44444444, 8.35555556, 8.47037037,\n",
       "       8.4462963 , 8.41481481, 8.38888889, 8.41296296, 8.41481481,\n",
       "       8.33333333, 8.29814815, 8.40185185, 8.42037037, 8.47962963,\n",
       "       8.40185185, 8.46296296, 8.40925926, 8.39814815, 8.37407407,\n",
       "       8.47407407, 8.42037037, 8.36481481, 8.41481481, 8.43888889,\n",
       "       8.4       , 8.38703704, 8.49259259, 8.42407407, 8.3962963 ,\n",
       "       8.44074074, 8.37962963, 8.44814815, 8.30925926, 8.32777778])"
      ]
     },
     "execution_count": 28,
     "metadata": {},
     "output_type": "execute_result"
    }
   ],
   "source": [
    "def simulate_estimates(director_df, director, repetitions):\n",
    "    '''Returns an array of length repetitions, \n",
    "    containing bootstrapped means of the data \n",
    "    in the imdb_rating column for the given director. '''\n",
    "    rating_mean = np.array([])\n",
    "    director_df = director_df[director_df.get(\"directed_by\") == director]\n",
    "    for i in range(repetitions):\n",
    "        mean = director_df.sample(director_df.shape[0],replace = True).get('imdb_rating').mean()\n",
    "        rating_mean = np.append(rating_mean, mean)\n",
    "        \n",
    "    return rating_mean\n",
    "simulate_estimates(episodes, 'Gary Halvorson', 100)"
   ]
  },
  {
   "cell_type": "code",
   "execution_count": 29,
   "id": "ada06879",
   "metadata": {
    "deletable": false,
    "editable": false
   },
   "outputs": [
    {
     "data": {
      "text/html": [
       "<p><strong><pre style='display: inline;'>q2_2</pre></strong> passed!</p>"
      ],
      "text/plain": [
       "q2_2 results: All test cases passed!"
      ]
     },
     "execution_count": 29,
     "metadata": {},
     "output_type": "execute_result"
    }
   ],
   "source": [
    "grader.check(\"q2_2\")"
   ]
  },
  {
   "cell_type": "markdown",
   "id": "0822b867",
   "metadata": {},
   "source": [
    "**Question 2.3.** Use your function `simulate_estimates` to estimate the mean rating of Gary Halvorson's episodes. Use `repetitions = 5000`, and save your array of bootstrapped means in the variable `gary_boot_means`. Repeat the same process for Kevin S. Bright, storing your results in `kevin_boot_means`.  \n",
    "\n",
    "Then, plot the distributions of these arrays in one [overlaid density histogram](https://dsc10.com/resources/lectures/lec07/lec07.html#Plotting-overlaid-histograms). Use the optional parameter `alpha=0.5` in your call to `.plot`, which changes the opacity so you can see the distributions more clearly."
   ]
  },
  {
   "cell_type": "code",
   "execution_count": 30,
   "id": "ab64b44b",
   "metadata": {},
   "outputs": [
    {
     "data": {
      "text/plain": [
       "<AxesSubplot:ylabel='Frequency'>"
      ]
     },
     "execution_count": 30,
     "metadata": {},
     "output_type": "execute_result"
    },
    {
     "data": {
      "image/png": "[encoded data removed]",
      "text/plain": [
       "<Figure size 432x288 with 1 Axes>"
      ]
     },
     "metadata": {},
     "output_type": "display_data"
    }
   ],
   "source": [
    "gary_boot_means = simulate_estimates(episodes, 'Gary Halvorson', 5000)\n",
    "kevin_boot_means = simulate_estimates(episodes, 'Kevin S. Bright', 5000)\n",
    "\n",
    "# Plot your overlaid histogram here.\n",
    "bpd.DataFrame().assign(gary_boot_means = gary_boot_means, kevin_boot_means = kevin_boot_means).plot(kind = \"hist\", alpha = 0.5, density = True)"
   ]
  },
  {
   "cell_type": "code",
   "execution_count": 31,
   "id": "542df0a6",
   "metadata": {
    "deletable": false,
    "editable": false
   },
   "outputs": [
    {
     "data": {
      "text/html": [
       "<p><strong><pre style='display: inline;'>q2_3</pre></strong> passed!</p>"
      ],
      "text/plain": [
       "q2_3 results: All test cases passed!"
      ]
     },
     "execution_count": 31,
     "metadata": {},
     "output_type": "execute_result"
    }
   ],
   "source": [
    "grader.check(\"q2_3\")"
   ]
  },
  {
   "cell_type": "markdown",
   "id": "eb864beb",
   "metadata": {},
   "source": [
    "**Question 2.4.** Now we want to calculate a 99% confidence interval for the mean episode rating of each of the two directors. To do this, create a function `confidence_interval_99`, which takes in an array of bootstrapped statistics `boot_stats` and returns a list of length two, containing the left endpoint and the right endpoint of the 99% confidence interval. "
   ]
  },
  {
   "cell_type": "code",
   "execution_count": 32,
   "id": "4810a93c",
   "metadata": {},
   "outputs": [
    {
     "name": "stdout",
     "output_type": "stream",
     "text": [
      "Gary 99% CI: [8.277768518518519, 8.531481481481482]\n",
      "Kevin 99% CI: [8.494339622641508, 8.828311320754715]\n"
     ]
    }
   ],
   "source": [
    "def confidence_interval_99(boot_stats):\n",
    "    '''Returns a list of the endpoints of a 99% confidence interval based on boot_stats.'''    \n",
    "    # CI = [boot_stats.mean() - 3 * (np.std(boot_stats) / len(boot_stats) ** 0.5), boot_stats.mean() + 3 * (np.std(boot_stats) / len(boot_stats) ** 0.5)]\n",
    "    perCI = [np.percentile(boot_stats, 0.5), np.percentile(boot_stats, 99.5)]\n",
    "    return perCI\n",
    "    \n",
    "print('Gary 99% CI:', confidence_interval_99(gary_boot_means))\n",
    "print('Kevin 99% CI:', confidence_interval_99(kevin_boot_means))"
   ]
  },
  {
   "cell_type": "code",
   "execution_count": 33,
   "id": "ac04ce7c",
   "metadata": {
    "deletable": false,
    "editable": false
   },
   "outputs": [
    {
     "data": {
      "text/html": [
       "<p><strong><pre style='display: inline;'>q2_4</pre></strong> passed!</p>"
      ],
      "text/plain": [
       "q2_4 results: All test cases passed!"
      ]
     },
     "execution_count": 33,
     "metadata": {},
     "output_type": "execute_result"
    }
   ],
   "source": [
    "grader.check(\"q2_4\")"
   ]
  },
  {
   "cell_type": "markdown",
   "id": "d8e6dc30",
   "metadata": {},
   "source": [
    "From what we've done so far, we've established that Kevin's episodes are generally rated better than Gary's episodes, however there is some overlap in their confidence intervals. This means it could be the case that Gary is just as strong a director as Kevin, but this is just not reflected in our sample. \n",
    "\n",
    "We'll address this possibility by performing a hypothesis test with the following hypotheses:\n",
    "\n",
    "- **Null Hypothesis:** The mean rating of Kevin's episodes in the population equals the mean rating of Gary's episodes in the population. Equivalently, the difference in the mean rating for Kevin's and Gary's episodes in the population equals 0.\n",
    "- **Alternative Hypothesis:** The mean rating of Kevin's episodes in the population does not equal the mean rating of Gary's episodes in the population. Equivalently, the difference in the mean rating for Kevin's and Gary's episodes in the population does not equal 0.\n",
    "\n",
    "Remember, the population represents all episodes they *might* have directed, or their potential as a director.\n",
    "\n",
    "Since we were able to set up our hypothesis test as a question of whether our population parameter – the difference in mean rating for Kevin's and Gary's episodes – is equal to a certain value, we can **test our hypotheses by constructing a confidence interval for the parameter**. This is the method we used in [Lecture 22](https://dsc10.com/resources/lectures/lec22/lec22.html#Visualizing-the-distribution-of-each-group) to test whether the mean human body temperature was actually 98.6 degrees Fahrenheit. For a refresher on this method, you can read more about conducting a hypothesis test with a confidence interval in [CIT 13.4](https://inferentialthinking.com/chapters/13/4/Using_Confidence_Intervals.html#)."
   ]
  },
  {
   "cell_type": "code",
   "execution_count": 34,
   "id": "3a6986d6",
   "metadata": {},
   "outputs": [
    {
     "data": {
      "text/html": [
       "<div>\n",
       "<style scoped>\n",
       "    .dataframe tbody tr th:only-of-type {\n",
       "        vertical-align: middle;\n",
       "    }\n",
       "\n",
       "    .dataframe tbody tr th {\n",
       "        vertical-align: top;\n",
       "    }\n",
       "\n",
       "    .dataframe thead th {\n",
       "        text-align: right;\n",
       "    }\n",
       "</style>\n",
       "<table border=\"1\" class=\"dataframe\">\n",
       "  <thead>\n",
       "    <tr style=\"text-align: right;\">\n",
       "      <th></th>\n",
       "      <th>season</th>\n",
       "      <th>episode</th>\n",
       "      <th>title</th>\n",
       "      <th>directed_by</th>\n",
       "      <th>written_by</th>\n",
       "      <th>air_date</th>\n",
       "      <th>us_views_millions</th>\n",
       "      <th>imdb_rating</th>\n",
       "    </tr>\n",
       "  </thead>\n",
       "  <tbody>\n",
       "    <tr>\n",
       "      <th>0</th>\n",
       "      <td>1</td>\n",
       "      <td>1</td>\n",
       "      <td>The Pilot</td>\n",
       "      <td>James Burrows</td>\n",
       "      <td>David Crane &amp; Marta Kauffman</td>\n",
       "      <td>9/22/94</td>\n",
       "      <td>21.50</td>\n",
       "      <td>8.3</td>\n",
       "    </tr>\n",
       "    <tr>\n",
       "      <th>1</th>\n",
       "      <td>1</td>\n",
       "      <td>2</td>\n",
       "      <td>The One with the Sonogram at the End</td>\n",
       "      <td>James Burrows</td>\n",
       "      <td>David Crane &amp; Marta Kauffman</td>\n",
       "      <td>9/29/94</td>\n",
       "      <td>20.20</td>\n",
       "      <td>8.1</td>\n",
       "    </tr>\n",
       "    <tr>\n",
       "      <th>2</th>\n",
       "      <td>1</td>\n",
       "      <td>3</td>\n",
       "      <td>The One with the Thumb</td>\n",
       "      <td>James Burrows</td>\n",
       "      <td>Jeffrey Astrof &amp; Mike Sikowitz</td>\n",
       "      <td>10/6/94</td>\n",
       "      <td>19.50</td>\n",
       "      <td>8.2</td>\n",
       "    </tr>\n",
       "    <tr>\n",
       "      <th>3</th>\n",
       "      <td>1</td>\n",
       "      <td>4</td>\n",
       "      <td>The One with George Stephanopoulos</td>\n",
       "      <td>James Burrows</td>\n",
       "      <td>Alexa Junge</td>\n",
       "      <td>10/13/94</td>\n",
       "      <td>19.70</td>\n",
       "      <td>8.1</td>\n",
       "    </tr>\n",
       "    <tr>\n",
       "      <th>4</th>\n",
       "      <td>1</td>\n",
       "      <td>5</td>\n",
       "      <td>The One with the East German Laundry Detergent</td>\n",
       "      <td>Pamela Fryman</td>\n",
       "      <td>Jeff Greenstein &amp; Jeff Strauss</td>\n",
       "      <td>10/20/94</td>\n",
       "      <td>18.60</td>\n",
       "      <td>8.5</td>\n",
       "    </tr>\n",
       "    <tr>\n",
       "      <th>...</th>\n",
       "      <td>...</td>\n",
       "      <td>...</td>\n",
       "      <td>...</td>\n",
       "      <td>...</td>\n",
       "      <td>...</td>\n",
       "      <td>...</td>\n",
       "      <td>...</td>\n",
       "      <td>...</td>\n",
       "    </tr>\n",
       "    <tr>\n",
       "      <th>231</th>\n",
       "      <td>10</td>\n",
       "      <td>14</td>\n",
       "      <td>The One with Princess Consuela</td>\n",
       "      <td>Gary Halvorson</td>\n",
       "      <td>Story by: Robert CarlockTeleplay by: Tracy Reilly</td>\n",
       "      <td>2/26/04</td>\n",
       "      <td>22.83</td>\n",
       "      <td>8.6</td>\n",
       "    </tr>\n",
       "    <tr>\n",
       "      <th>232</th>\n",
       "      <td>10</td>\n",
       "      <td>15</td>\n",
       "      <td>The One Where Estelle Dies</td>\n",
       "      <td>Gary Halvorson</td>\n",
       "      <td>Story by: Mark KunerthTeleplay by: David Crane...</td>\n",
       "      <td>4/22/04</td>\n",
       "      <td>22.64</td>\n",
       "      <td>8.5</td>\n",
       "    </tr>\n",
       "    <tr>\n",
       "      <th>233</th>\n",
       "      <td>10</td>\n",
       "      <td>16</td>\n",
       "      <td>The One with Rachel's Going Away Party</td>\n",
       "      <td>Gary Halvorson</td>\n",
       "      <td>Andrew Reich &amp; Ted Cohen</td>\n",
       "      <td>4/29/04</td>\n",
       "      <td>24.51</td>\n",
       "      <td>8.9</td>\n",
       "    </tr>\n",
       "    <tr>\n",
       "      <th>234</th>\n",
       "      <td>10</td>\n",
       "      <td>17</td>\n",
       "      <td>The Last One</td>\n",
       "      <td>Kevin S. Bright</td>\n",
       "      <td>Marta Kauffman &amp; David Crane</td>\n",
       "      <td>5/6/04</td>\n",
       "      <td>52.46</td>\n",
       "      <td>9.7</td>\n",
       "    </tr>\n",
       "    <tr>\n",
       "      <th>235</th>\n",
       "      <td>10</td>\n",
       "      <td>18</td>\n",
       "      <td>The Last One</td>\n",
       "      <td>Kevin S. Bright</td>\n",
       "      <td>Marta Kauffman &amp; David Crane</td>\n",
       "      <td>5/6/04</td>\n",
       "      <td>52.46</td>\n",
       "      <td>9.7</td>\n",
       "    </tr>\n",
       "  </tbody>\n",
       "</table>\n",
       "<p>236 rows × 8 columns</p>\n",
       "</div>"
      ],
      "text/plain": [
       "     season  episode                                           title  \\\n",
       "0         1        1                                       The Pilot   \n",
       "1         1        2            The One with the Sonogram at the End   \n",
       "2         1        3                          The One with the Thumb   \n",
       "3         1        4              The One with George Stephanopoulos   \n",
       "4         1        5  The One with the East German Laundry Detergent   \n",
       "..      ...      ...                                             ...   \n",
       "231      10       14                  The One with Princess Consuela   \n",
       "232      10       15                      The One Where Estelle Dies   \n",
       "233      10       16          The One with Rachel's Going Away Party   \n",
       "234      10       17                                    The Last One   \n",
       "235      10       18                                    The Last One   \n",
       "\n",
       "         directed_by                                         written_by  \\\n",
       "0      James Burrows                       David Crane & Marta Kauffman   \n",
       "1      James Burrows                       David Crane & Marta Kauffman   \n",
       "2      James Burrows                     Jeffrey Astrof & Mike Sikowitz   \n",
       "3      James Burrows                                        Alexa Junge   \n",
       "4      Pamela Fryman                     Jeff Greenstein & Jeff Strauss   \n",
       "..               ...                                                ...   \n",
       "231   Gary Halvorson  Story by: Robert CarlockTeleplay by: Tracy Reilly   \n",
       "232   Gary Halvorson  Story by: Mark KunerthTeleplay by: David Crane...   \n",
       "233   Gary Halvorson                           Andrew Reich & Ted Cohen   \n",
       "234  Kevin S. Bright                       Marta Kauffman & David Crane   \n",
       "235  Kevin S. Bright                       Marta Kauffman & David Crane   \n",
       "\n",
       "     air_date  us_views_millions  imdb_rating  \n",
       "0     9/22/94              21.50          8.3  \n",
       "1     9/29/94              20.20          8.1  \n",
       "2     10/6/94              19.50          8.2  \n",
       "3    10/13/94              19.70          8.1  \n",
       "4    10/20/94              18.60          8.5  \n",
       "..        ...                ...          ...  \n",
       "231   2/26/04              22.83          8.6  \n",
       "232   4/22/04              22.64          8.5  \n",
       "233   4/29/04              24.51          8.9  \n",
       "234    5/6/04              52.46          9.7  \n",
       "235    5/6/04              52.46          9.7  \n",
       "\n",
       "[236 rows x 8 columns]"
      ]
     },
     "execution_count": 34,
     "metadata": {},
     "output_type": "execute_result"
    }
   ],
   "source": [
    "episodes"
   ]
  },
  {
   "cell_type": "code",
   "execution_count": 35,
   "id": "83f84e06",
   "metadata": {},
   "outputs": [
    {
     "data": {
      "text/plain": [
       "0.25475192173305494"
      ]
     },
     "execution_count": 35,
     "metadata": {},
     "output_type": "execute_result"
    }
   ],
   "source": [
    "mean = episodes[episodes.get('directed_by') == 'Kevin S. Bright'].get('imdb_rating').mean() - episodes[episodes.get('directed_by') == 'Gary Halvorson'].get('imdb_rating').mean()\n",
    "mean"
   ]
  },
  {
   "cell_type": "markdown",
   "id": "a60bc827",
   "metadata": {},
   "source": [
    "**Question 2.5.** ⭐⭐ Compute 1000 bootstrapped estimates for the difference in the mean rating for Kevin's episodes and Gary's episodes in the population (subtract in the order Kevin minus Gary). Store your 1000 estimates in the `difference_means` array.\n",
    "\n",
    "You should generate your resamples of Kevin's episodes by sampling from the set of episodes directed by Kevin, and similarly for Gary, by sampling from the set of episodes directed by Gary."
   ]
  },
  {
   "cell_type": "code",
   "execution_count": 36,
   "id": "efdd4444",
   "metadata": {},
   "outputs": [
    {
     "data": {
      "text/plain": [
       "array([0.14678546, 0.4033543 , 0.20960867, 0.21722572, 0.13871419,\n",
       "       0.18574423, 0.30150245, 0.17889588, 0.17354997, 0.27124389])"
      ]
     },
     "execution_count": 36,
     "metadata": {},
     "output_type": "execute_result"
    }
   ],
   "source": [
    "difference_means = simulate_estimates(episodes, \"Kevin S. Bright\", 1000) - simulate_estimates(episodes, \"Gary Halvorson\", 1000)\n",
    "\n",
    "# Just display the first ten differences.\n",
    "difference_means[:10]"
   ]
  },
  {
   "cell_type": "code",
   "execution_count": 37,
   "id": "2db72465",
   "metadata": {
    "deletable": false,
    "editable": false
   },
   "outputs": [
    {
     "data": {
      "text/html": [
       "<p><strong><pre style='display: inline;'>q2_5</pre></strong> passed!</p>"
      ],
      "text/plain": [
       "q2_5 results: All test cases passed!"
      ]
     },
     "execution_count": 37,
     "metadata": {},
     "output_type": "execute_result"
    }
   ],
   "source": [
    "grader.check(\"q2_5\")"
   ]
  },
  {
   "cell_type": "markdown",
   "id": "47e9831e",
   "metadata": {},
   "source": [
    "Let's visualize your estimates:"
   ]
  },
  {
   "cell_type": "code",
   "execution_count": 38,
   "id": "a6addd7e",
   "metadata": {
    "scrolled": true
   },
   "outputs": [
    {
     "data": {
      "image/png": "[encoded data removed]",
      "text/plain": [
       "<Figure size 720x360 with 1 Axes>"
      ]
     },
     "metadata": {},
     "output_type": "display_data"
    }
   ],
   "source": [
    "(bpd.DataFrame().assign(DifferenceMeans = difference_means)\n",
    " .plot(kind='hist', density=True, ec='w', figsize=(10, 5)));"
   ]
  },
  {
   "cell_type": "markdown",
   "id": "e715001f",
   "metadata": {},
   "source": [
    "**Question 2.6.** Use the function `confidence_interval_99` you created before to compute a 99% confidence interval for the difference in the mean rating of Kevin's and Gary's episodes (as before, Kevin minus Gary). Assign to `kevin_gary_difference_CI` a list containing the endpoints of this confidence interval."
   ]
  },
  {
   "cell_type": "code",
   "execution_count": 39,
   "id": "07e72eb6",
   "metadata": {},
   "outputs": [
    {
     "data": {
      "text/plain": [
       "[0.03963434661076267, 0.4660824598183064]"
      ]
     },
     "execution_count": 39,
     "metadata": {},
     "output_type": "execute_result"
    }
   ],
   "source": [
    "kevin_gary_difference_CI = confidence_interval_99(difference_means)\n",
    "kevin_gary_difference_CI"
   ]
  },
  {
   "cell_type": "code",
   "execution_count": 40,
   "id": "b8e382e5",
   "metadata": {
    "deletable": false,
    "editable": false
   },
   "outputs": [
    {
     "data": {
      "text/html": [
       "<p><strong><pre style='display: inline;'>q2_6</pre></strong> passed!</p>"
      ],
      "text/plain": [
       "q2_6 results: All test cases passed!"
      ]
     },
     "execution_count": 40,
     "metadata": {},
     "output_type": "execute_result"
    }
   ],
   "source": [
    "grader.check(\"q2_6\")"
   ]
  },
  {
   "cell_type": "markdown",
   "id": "a63f6844",
   "metadata": {},
   "source": [
    "Recall the hypotheses we were testing:\n",
    "\n",
    "- **Null Hypothesis:** The mean rating of Kevin's episodes in the population equals the mean rating of Gary's episodes in the population. Equivalently, the difference in the mean rating for Kevin's and Gary's episodes in the population equals 0.\n",
    "- **Alternative Hypothesis:** The mean rating of Kevin's episodes in the population does not equal the mean rating of Gary's episodes in the population. Equivalently, the difference in the mean rating for Kevin's and Gary's episodes in the population does not equal 0.\n",
    "\n",
    "**Question 2.7.** Based on the confidence interval you've created, would you reject the null hypothesis at the 0.01 significance level? Set `reject_kevin_gary` to True if you would reject the null hypothesis, and False if you would not."
   ]
  },
  {
   "cell_type": "code",
   "execution_count": 41,
   "id": "0e157be1",
   "metadata": {},
   "outputs": [
    {
     "data": {
      "text/plain": [
       "False"
      ]
     },
     "execution_count": 41,
     "metadata": {},
     "output_type": "execute_result"
    }
   ],
   "source": [
    "reject_kevin_gary = False\n",
    "reject_kevin_gary"
   ]
  },
  {
   "cell_type": "code",
   "execution_count": 42,
   "id": "10ce147d",
   "metadata": {
    "deletable": false,
    "editable": false
   },
   "outputs": [
    {
     "data": {
      "text/html": [
       "<p><strong><pre style='display: inline;'>q2_7</pre></strong> passed!</p>"
      ],
      "text/plain": [
       "q2_7 results: All test cases passed!"
      ]
     },
     "execution_count": 42,
     "metadata": {},
     "output_type": "execute_result"
    }
   ],
   "source": [
    "grader.check(\"q2_7\")"
   ]
  },
  {
   "cell_type": "markdown",
   "id": "c90f76d7",
   "metadata": {},
   "source": [
    "We have now discovered which of these two directors would likely make better episodes for your reboot. However, we also want to know whether Gary and Kevin's episodes have other differences besides the ratings they generate. For example, does one of them tend to direct episodes with more views?\n",
    "\n",
    "Let's write a single function that works for both rating and viewership. To do this, we want to generalize our simulation code from Question 2.2 so that we can create a confidence interval for either variable.\n",
    "\n",
    "**Question 2.8.** Create a function called `compare_gary_kevin`, which takes in 3 inputs:\n",
    "- `sample_df`, a DataFrame with a row for each episode in our sample, which includes a column called `'directed_by'`.\n",
    "- `variable`, the column name of the relevant variable whose mean we want to estimate. \n",
    "- `repetitions`, the number of repetitions to perform (the number of resamples to create).\n",
    "                       \n",
    "The function should adhere to these specifications:\n",
    "1. The function should generate an overlaid density histogram, showing the distributions of bootstrapped means of the given variable, for both Kevin and Gary. Make sure to give your histogram a descriptive title and to use appropriate labels. Use `bins=20`, `alpha=0.5`, and `figsize=(10,5)`.\n",
    "2. The function should print a statement with the 99% confidence interval for the mean value of the given variable in the population, for both Kevin and Gary. See the example below for the type of statement to print, but the exact formatting is up to you.\n",
    "3. The function should return nothing.\n",
    "\n",
    "***Hints:***\n",
    "- This is designed to be a challenging question, but remember that you can use any of the functions you've already created. \n",
    "- Our solution does the necessary operations once for Gary and once for Kevin and assigns columns named `'Gary_mean_estimate'` and `'Kevin_mean_estimate'`.\n",
    "\n",
    "Here is an example output that shows a comparison of estimates for Gary and Kevin's mean `'imdb_rating'`.\n",
    "<img src=\"images/gary_kevin_example.jpg\" width = 700>"
   ]
  },
  {
   "cell_type": "code",
   "execution_count": 43,
   "id": "c215a413",
   "metadata": {},
   "outputs": [
    {
     "name": "stdout",
     "output_type": "stream",
     "text": [
      "Gary's 99% CI for imdb_rating:  [8.275916666666667, 8.527814814814816]\n",
      "Kevin's 99% CI for imdb_rating:  [8.496216981132076, 8.833971698113206]\n"
     ]
    },
    {
     "data": {
      "image/png": "[encoded data removed]",
      "text/plain": [
       "<Figure size 720x360 with 1 Axes>"
      ]
     },
     "metadata": {},
     "output_type": "display_data"
    }
   ],
   "source": [
    "def compare_gary_kevin(sample_df, variable, repetitions):\n",
    "    '''For each of Gary and Kevin, display a distribution of bootstrapped means and\n",
    "    a confidence interval for the mean value of the variable from sample_df.'''\n",
    "    gray_boot_mean = np.array([])\n",
    "    kevin_boot_mean = np.array([])\n",
    "    gray_df = sample_df[sample_df.get(\"directed_by\") == 'Gary Halvorson']\n",
    "    kevin_df = sample_df[sample_df.get(\"directed_by\") == 'Kevin S. Bright']\n",
    "    \n",
    "    for i in range(repetitions):\n",
    "        gray_mean = gray_df.sample(gray_df.shape[0],replace = True).get(variable).mean()\n",
    "        kevin_mean = kevin_df.sample(kevin_df.shape[0],replace = True).get(variable).mean()\n",
    "        gray_boot_mean = np.append(gray_boot_mean, gray_mean)\n",
    "        kevin_boot_mean = np.append(kevin_boot_mean, kevin_mean)\n",
    "        \n",
    "    bpd.DataFrame().assign(Gray_mean_estimate = gray_boot_mean, Kevin_mean_estimate = kevin_boot_mean).plot(kind = \"hist\", density = True, bins = 20, alpha = 0.5, figsize=(10,5), title = variable, ec = 'w')\n",
    "    \n",
    "    print('Gary' + \"'\" + \"s 99% CI for \" + variable + ': ' , confidence_interval_99(gray_boot_mean))\n",
    "    print('Kevin' + \"'\" + \"s 99% CI for \" + variable + ': ' , confidence_interval_99(kevin_boot_mean))\n",
    "    \n",
    "    \n",
    "# Try to replicate the graph shown in the example.\n",
    "compare_gary_kevin(episodes, 'imdb_rating', 1000)"
   ]
  },
  {
   "cell_type": "markdown",
   "id": "900a9162",
   "metadata": {},
   "source": [
    "**Question 2.9.** ⭐⭐ Using the `compare_gary_kevin` function you just wrote, create a plot and confidence intervals that would help you answer the following question.\n",
    "\n",
    ">Whose episodes have more views on average, Kevin's or Gary's? KEVIN\n",
    "\n",
    "This question is not difficult; it is worth two points because it tests your implementation of the function `compare_gary_kevin` which you wrote in the previous question. All you need to do here is make one call to your function with the appropriate inputs. Use `repetitions=1000`."
   ]
  },
  {
   "cell_type": "markdown",
   "id": "fc34bb6b",
   "metadata": {
    "deletable": false,
    "editable": false
   },
   "source": [
    "<!-- BEGIN QUESTION -->\n",
    "\n",
    "<!--\n",
    "BEGIN QUESTION\n",
    "name: q2_9\n",
    "manual: True\n",
    "points: 2\n",
    "\n",
    "-->"
   ]
  },
  {
   "cell_type": "code",
   "execution_count": 44,
   "id": "6d54bb3e",
   "metadata": {},
   "outputs": [
    {
     "name": "stdout",
     "output_type": "stream",
     "text": [
      "Gary's 99% CI for us_views_millions:  [21.459244444444437, 23.186889814814812]\n",
      "Kevin's 99% CI for us_views_millions:  [25.015028301886794, 29.573587735849053]\n"
     ]
    },
    {
     "data": {
      "image/png": "[encoded data removed]",
      "text/plain": [
       "<Figure size 720x360 with 1 Axes>"
      ]
     },
     "metadata": {},
     "output_type": "display_data"
    }
   ],
   "source": [
    "# Make your function call here.Be sure to run this cell before submitting.\n",
    "compare_gary_kevin(episodes, 'us_views_millions', 1000)"
   ]
  },
  {
   "cell_type": "markdown",
   "id": "f0a47efc",
   "metadata": {},
   "source": [
    "<!-- END QUESTION -->\n",
    "\n",
    "\n",
    "\n",
    "At this point it should be clear which director you'll be reaching out to for your reboot!"
   ]
  },
  {
   "cell_type": "markdown",
   "id": "694d2ee9",
   "metadata": {},
   "source": [
    "<a id='section3'></a>\n",
    "## Section 3: The One About Gender Balance 👩⚖️🧑\n",
    "\n",
    "<small>(<a href=\"#outline\">return to the outline</a>)</small>\n",
    "\n",
    "After watching a couple of episodes of <i>Friends</i>, you start to wonder if the three male main characters (`'Ross Geller'`, \n",
    "`'Chandler Bing'`, `'Joey Tribbiani'`) speak more lines than the the three female main characters (`'Rachel Green'`, `'Monica Geller'`, `'Phoebe Buffay'`). You want your reboot to be true to the spirit of the original show, but you don't feel great about creating a television show that has a significant gender imbalance.\n",
    "\n",
    "Below is the `lines` DataFrame, which contains information on all the lines from a random sample of 30 *Friends* episodes. Notice that `lines` contains **every** line from each one of these 30 episodes, including lines from characters other than the main six, and even the scene directions."
   ]
  },
  {
   "cell_type": "code",
   "execution_count": 45,
   "id": "8b017d28",
   "metadata": {},
   "outputs": [
    {
     "data": {
      "text/html": [
       "<div>\n",
       "<style scoped>\n",
       "    .dataframe tbody tr th:only-of-type {\n",
       "        vertical-align: middle;\n",
       "    }\n",
       "\n",
       "    .dataframe tbody tr th {\n",
       "        vertical-align: top;\n",
       "    }\n",
       "\n",
       "    .dataframe thead th {\n",
       "        text-align: right;\n",
       "    }\n",
       "</style>\n",
       "<table border=\"1\" class=\"dataframe\">\n",
       "  <thead>\n",
       "    <tr style=\"text-align: right;\">\n",
       "      <th></th>\n",
       "      <th>text</th>\n",
       "      <th>speaker</th>\n",
       "      <th>season</th>\n",
       "      <th>episode</th>\n",
       "      <th>scene</th>\n",
       "      <th>utterance</th>\n",
       "    </tr>\n",
       "  </thead>\n",
       "  <tbody>\n",
       "    <tr>\n",
       "      <th>0</th>\n",
       "      <td>Everybody? Shh, shhh. Uhhh... Central Perk is ...</td>\n",
       "      <td>Rachel Green</td>\n",
       "      <td>1</td>\n",
       "      <td>7</td>\n",
       "      <td>1</td>\n",
       "      <td>1</td>\n",
       "    </tr>\n",
       "    <tr>\n",
       "      <th>1</th>\n",
       "      <td>(applause)</td>\n",
       "      <td>Scene Directions</td>\n",
       "      <td>1</td>\n",
       "      <td>7</td>\n",
       "      <td>1</td>\n",
       "      <td>2</td>\n",
       "    </tr>\n",
       "    <tr>\n",
       "      <th>2</th>\n",
       "      <td>Hi. Um, I want to start with a song thats abou...</td>\n",
       "      <td>Phoebe Buffay</td>\n",
       "      <td>1</td>\n",
       "      <td>7</td>\n",
       "      <td>1</td>\n",
       "      <td>3</td>\n",
       "    </tr>\n",
       "    <tr>\n",
       "      <th>3</th>\n",
       "      <td>Oh, great. This is just...</td>\n",
       "      <td>Chandler Bing</td>\n",
       "      <td>1</td>\n",
       "      <td>7</td>\n",
       "      <td>2</td>\n",
       "      <td>1</td>\n",
       "    </tr>\n",
       "    <tr>\n",
       "      <th>4</th>\n",
       "      <td>(Chandler sees that there is a gorgeous model ...</td>\n",
       "      <td>Scene Directions</td>\n",
       "      <td>1</td>\n",
       "      <td>7</td>\n",
       "      <td>2</td>\n",
       "      <td>2</td>\n",
       "    </tr>\n",
       "    <tr>\n",
       "      <th>...</th>\n",
       "      <td>...</td>\n",
       "      <td>...</td>\n",
       "      <td>...</td>\n",
       "      <td>...</td>\n",
       "      <td>...</td>\n",
       "      <td>...</td>\n",
       "    </tr>\n",
       "    <tr>\n",
       "      <th>8452</th>\n",
       "      <td>That I can do.</td>\n",
       "      <td>Joey Tribbiani</td>\n",
       "      <td>10</td>\n",
       "      <td>13</td>\n",
       "      <td>13</td>\n",
       "      <td>9</td>\n",
       "    </tr>\n",
       "    <tr>\n",
       "      <th>8453</th>\n",
       "      <td>Come on! You can drink a gallon of milk in 10 ...</td>\n",
       "      <td>Phoebe Buffay</td>\n",
       "      <td>10</td>\n",
       "      <td>13</td>\n",
       "      <td>13</td>\n",
       "      <td>10</td>\n",
       "    </tr>\n",
       "    <tr>\n",
       "      <th>8454</th>\n",
       "      <td>All right, watch me! Okay, you time me. Ready?</td>\n",
       "      <td>Joey Tribbiani</td>\n",
       "      <td>10</td>\n",
       "      <td>13</td>\n",
       "      <td>13</td>\n",
       "      <td>11</td>\n",
       "    </tr>\n",
       "    <tr>\n",
       "      <th>8455</th>\n",
       "      <td>Ready... GO!</td>\n",
       "      <td>Phoebe Buffay</td>\n",
       "      <td>10</td>\n",
       "      <td>13</td>\n",
       "      <td>13</td>\n",
       "      <td>12</td>\n",
       "    </tr>\n",
       "    <tr>\n",
       "      <th>8456</th>\n",
       "      <td>You did it!</td>\n",
       "      <td>Phoebe Buffay</td>\n",
       "      <td>10</td>\n",
       "      <td>13</td>\n",
       "      <td>13</td>\n",
       "      <td>13</td>\n",
       "    </tr>\n",
       "  </tbody>\n",
       "</table>\n",
       "<p>8457 rows × 6 columns</p>\n",
       "</div>"
      ],
      "text/plain": [
       "                                                   text           speaker  \\\n",
       "0     Everybody? Shh, shhh. Uhhh... Central Perk is ...      Rachel Green   \n",
       "1                                            (applause)  Scene Directions   \n",
       "2     Hi. Um, I want to start with a song thats abou...     Phoebe Buffay   \n",
       "3                            Oh, great. This is just...     Chandler Bing   \n",
       "4     (Chandler sees that there is a gorgeous model ...  Scene Directions   \n",
       "...                                                 ...               ...   \n",
       "8452                                     That I can do.    Joey Tribbiani   \n",
       "8453  Come on! You can drink a gallon of milk in 10 ...     Phoebe Buffay   \n",
       "8454     All right, watch me! Okay, you time me. Ready?    Joey Tribbiani   \n",
       "8455                                       Ready... GO!     Phoebe Buffay   \n",
       "8456                                        You did it!     Phoebe Buffay   \n",
       "\n",
       "      season  episode  scene  utterance  \n",
       "0          1        7      1          1  \n",
       "1          1        7      1          2  \n",
       "2          1        7      1          3  \n",
       "3          1        7      2          1  \n",
       "4          1        7      2          2  \n",
       "...      ...      ...    ...        ...  \n",
       "8452      10       13     13          9  \n",
       "8453      10       13     13         10  \n",
       "8454      10       13     13         11  \n",
       "8455      10       13     13         12  \n",
       "8456      10       13     13         13  \n",
       "\n",
       "[8457 rows x 6 columns]"
      ]
     },
     "execution_count": 45,
     "metadata": {},
     "output_type": "execute_result"
    }
   ],
   "source": [
    "lines"
   ]
  },
  {
   "cell_type": "markdown",
   "id": "9bfa5514",
   "metadata": {},
   "source": [
    "**Question 3.1.** Write a function named `main_char` that takes in the name of a single speaker and determines whether that speaker is one of the six main characters:\n",
    "- `'Ross Geller'`\n",
    "- `'Chandler Bing'`\n",
    "- `'Joey Tribbiani'`\n",
    "- `'Rachel Green'`\n",
    "- `'Monica Geller'`\n",
    "- `'Phoebe Buffay'`\n",
    "\n",
    "For example, `main_char('Chandler Bing')` should return `True`, but `main_char('Janice Hosenstein')` should return `False`.\n",
    "\n",
    "Then, use your function to filter the `lines` DataFrame to contain only lines spoken by one of the six main characters, saving the result as `main_lines`."
   ]
  },
  {
   "cell_type": "code",
   "execution_count": 46,
   "id": "e2da7ba3",
   "metadata": {},
   "outputs": [
    {
     "data": {
      "text/html": [
       "<div>\n",
       "<style scoped>\n",
       "    .dataframe tbody tr th:only-of-type {\n",
       "        vertical-align: middle;\n",
       "    }\n",
       "\n",
       "    .dataframe tbody tr th {\n",
       "        vertical-align: top;\n",
       "    }\n",
       "\n",
       "    .dataframe thead th {\n",
       "        text-align: right;\n",
       "    }\n",
       "</style>\n",
       "<table border=\"1\" class=\"dataframe\">\n",
       "  <thead>\n",
       "    <tr style=\"text-align: right;\">\n",
       "      <th></th>\n",
       "      <th>text</th>\n",
       "      <th>speaker</th>\n",
       "      <th>season</th>\n",
       "      <th>episode</th>\n",
       "      <th>scene</th>\n",
       "      <th>utterance</th>\n",
       "    </tr>\n",
       "  </thead>\n",
       "  <tbody>\n",
       "    <tr>\n",
       "      <th>0</th>\n",
       "      <td>Everybody? Shh, shhh. Uhhh... Central Perk is ...</td>\n",
       "      <td>Rachel Green</td>\n",
       "      <td>1</td>\n",
       "      <td>7</td>\n",
       "      <td>1</td>\n",
       "      <td>1</td>\n",
       "    </tr>\n",
       "    <tr>\n",
       "      <th>2</th>\n",
       "      <td>Hi. Um, I want to start with a song thats abou...</td>\n",
       "      <td>Phoebe Buffay</td>\n",
       "      <td>1</td>\n",
       "      <td>7</td>\n",
       "      <td>1</td>\n",
       "      <td>3</td>\n",
       "    </tr>\n",
       "    <tr>\n",
       "      <th>3</th>\n",
       "      <td>Oh, great. This is just...</td>\n",
       "      <td>Chandler Bing</td>\n",
       "      <td>1</td>\n",
       "      <td>7</td>\n",
       "      <td>2</td>\n",
       "      <td>1</td>\n",
       "    </tr>\n",
       "    <tr>\n",
       "      <th>5</th>\n",
       "      <td>Wow, this is so cool, you guys. The entire cit...</td>\n",
       "      <td>Rachel Green</td>\n",
       "      <td>1</td>\n",
       "      <td>7</td>\n",
       "      <td>3</td>\n",
       "      <td>1</td>\n",
       "    </tr>\n",
       "    <tr>\n",
       "      <th>6</th>\n",
       "      <td>Mom says it's all of Manhattan, parts of Brook...</td>\n",
       "      <td>Monica Geller</td>\n",
       "      <td>1</td>\n",
       "      <td>7</td>\n",
       "      <td>3</td>\n",
       "      <td>2</td>\n",
       "    </tr>\n",
       "    <tr>\n",
       "      <th>...</th>\n",
       "      <td>...</td>\n",
       "      <td>...</td>\n",
       "      <td>...</td>\n",
       "      <td>...</td>\n",
       "      <td>...</td>\n",
       "      <td>...</td>\n",
       "    </tr>\n",
       "    <tr>\n",
       "      <th>8452</th>\n",
       "      <td>That I can do.</td>\n",
       "      <td>Joey Tribbiani</td>\n",
       "      <td>10</td>\n",
       "      <td>13</td>\n",
       "      <td>13</td>\n",
       "      <td>9</td>\n",
       "    </tr>\n",
       "    <tr>\n",
       "      <th>8453</th>\n",
       "      <td>Come on! You can drink a gallon of milk in 10 ...</td>\n",
       "      <td>Phoebe Buffay</td>\n",
       "      <td>10</td>\n",
       "      <td>13</td>\n",
       "      <td>13</td>\n",
       "      <td>10</td>\n",
       "    </tr>\n",
       "    <tr>\n",
       "      <th>8454</th>\n",
       "      <td>All right, watch me! Okay, you time me. Ready?</td>\n",
       "      <td>Joey Tribbiani</td>\n",
       "      <td>10</td>\n",
       "      <td>13</td>\n",
       "      <td>13</td>\n",
       "      <td>11</td>\n",
       "    </tr>\n",
       "    <tr>\n",
       "      <th>8455</th>\n",
       "      <td>Ready... GO!</td>\n",
       "      <td>Phoebe Buffay</td>\n",
       "      <td>10</td>\n",
       "      <td>13</td>\n",
       "      <td>13</td>\n",
       "      <td>12</td>\n",
       "    </tr>\n",
       "    <tr>\n",
       "      <th>8456</th>\n",
       "      <td>You did it!</td>\n",
       "      <td>Phoebe Buffay</td>\n",
       "      <td>10</td>\n",
       "      <td>13</td>\n",
       "      <td>13</td>\n",
       "      <td>13</td>\n",
       "    </tr>\n",
       "  </tbody>\n",
       "</table>\n",
       "<p>6593 rows × 6 columns</p>\n",
       "</div>"
      ],
      "text/plain": [
       "                                                   text         speaker  \\\n",
       "0     Everybody? Shh, shhh. Uhhh... Central Perk is ...    Rachel Green   \n",
       "2     Hi. Um, I want to start with a song thats abou...   Phoebe Buffay   \n",
       "3                            Oh, great. This is just...   Chandler Bing   \n",
       "5     Wow, this is so cool, you guys. The entire cit...    Rachel Green   \n",
       "6     Mom says it's all of Manhattan, parts of Brook...   Monica Geller   \n",
       "...                                                 ...             ...   \n",
       "8452                                     That I can do.  Joey Tribbiani   \n",
       "8453  Come on! You can drink a gallon of milk in 10 ...   Phoebe Buffay   \n",
       "8454     All right, watch me! Okay, you time me. Ready?  Joey Tribbiani   \n",
       "8455                                       Ready... GO!   Phoebe Buffay   \n",
       "8456                                        You did it!   Phoebe Buffay   \n",
       "\n",
       "      season  episode  scene  utterance  \n",
       "0          1        7      1          1  \n",
       "2          1        7      1          3  \n",
       "3          1        7      2          1  \n",
       "5          1        7      3          1  \n",
       "6          1        7      3          2  \n",
       "...      ...      ...    ...        ...  \n",
       "8452      10       13     13          9  \n",
       "8453      10       13     13         10  \n",
       "8454      10       13     13         11  \n",
       "8455      10       13     13         12  \n",
       "8456      10       13     13         13  \n",
       "\n",
       "[6593 rows x 6 columns]"
      ]
     },
     "execution_count": 46,
     "metadata": {},
     "output_type": "execute_result"
    }
   ],
   "source": [
    "char = np.array(['Ross Geller',\n",
    "'Chandler Bing',\n",
    "'Joey Tribbiani',\n",
    "'Rachel Green',\n",
    "'Monica Geller',\n",
    "'Phoebe Buffay'\n",
    "])\n",
    "def main_char(speaker): \n",
    "    '''Returns True if speaker is a main character, False otherwise.'''\n",
    "    if(speaker in char):\n",
    "        return True\n",
    "    else:\n",
    "        return False\n",
    "main_lines = lines[lines.get('speaker').apply(main_char)]\n",
    "main_lines"
   ]
  },
  {
   "cell_type": "code",
   "execution_count": 47,
   "id": "c1ed22de",
   "metadata": {
    "deletable": false,
    "editable": false
   },
   "outputs": [
    {
     "data": {
      "text/html": [
       "<p><strong><pre style='display: inline;'>q3_1</pre></strong> passed!</p>"
      ],
      "text/plain": [
       "q3_1 results: All test cases passed!"
      ]
     },
     "execution_count": 47,
     "metadata": {},
     "output_type": "execute_result"
    }
   ],
   "source": [
    "grader.check(\"q3_1\")"
   ]
  },
  {
   "cell_type": "markdown",
   "id": "a18b8529",
   "metadata": {},
   "source": [
    "**Question 3.2.** Using the `main_lines` DataFrame, count the total number of lines spoken by a main character across all episodes in the sample and assign your answer to the variable `line_count`.\n",
    "\n",
    "Then compute the proportion of these lines that were spoken by male characters (`'Ross Geller'`, \n",
    "`'Chandler Bing'`, `'Joey Tribbiani'`) and the proportion of lines that were spoken by female characters (`'Rachel Green'`, `'Monica Geller'`, `'Phoebe Buffay'`). Assign your answers to the variables `observed_male_prop` and  `observed_female_prop`. "
   ]
  },
  {
   "cell_type": "code",
   "execution_count": 48,
   "id": "8586f7de",
   "metadata": {},
   "outputs": [
    {
     "name": "stdout",
     "output_type": "stream",
     "text": [
      "Number of Lines: 6593\n",
      "Male Proportion: 0.5090247231912635\n",
      "Female Proportion: 0.49097527680873654\n"
     ]
    }
   ],
   "source": [
    "line_count = main_lines.shape[0]\n",
    "observed_female_prop = np.count_nonzero((main_lines.get(\"speaker\") == 'Rachel Green')| (main_lines.get(\"speaker\") == 'Monica Geller') | (main_lines.get(\"speaker\") == 'Phoebe Buffay')) / main_lines.shape[0]\n",
    "observed_male_prop = np.count_nonzero((main_lines.get(\"speaker\") == 'Ross Geller')| (main_lines.get(\"speaker\") == 'Chandler Bing') | (main_lines.get(\"speaker\") == 'Joey Tribbiani')) / main_lines.shape[0]\n",
    "\n",
    "print('Number of Lines: ' + str(line_count))\n",
    "print('Male Proportion: ' + str(observed_male_prop))\n",
    "print('Female Proportion: ' + str(observed_female_prop))"
   ]
  },
  {
   "cell_type": "code",
   "execution_count": 49,
   "id": "2b8d14eb",
   "metadata": {
    "deletable": false,
    "editable": false
   },
   "outputs": [
    {
     "data": {
      "text/html": [
       "<p><strong><pre style='display: inline;'>q3_2</pre></strong> passed!</p>"
      ],
      "text/plain": [
       "q3_2 results: All test cases passed!"
      ]
     },
     "execution_count": 49,
     "metadata": {},
     "output_type": "execute_result"
    }
   ],
   "source": [
    "grader.check(\"q3_2\")"
   ]
  },
  {
   "cell_type": "markdown",
   "id": "63fbf93c",
   "metadata": {},
   "source": [
    "You recognize that `observed_female_prop` and `observed_male_prop` are similar but they're not exactly the same. Is this just random chance that your sample happened to include more lines by male main characters? Or is the case that throughout the show *Friends*, lines spoken by one of the six main characters are actually more likely to be spoken by male characters? Let's do a hypothesis test with the following hypotheses:\n",
    "\n",
    "- **Null Hypothesis**: Throughout the ten seasons of *Friends*, male main characters speak the same number of lines as female main characters.  \n",
    "- **Alternative Hypothesis**: Throughout the ten seasons of *Friends*, male main characters speak more lines than female main characters.\n",
    "\n",
    "Run the cell below to define a variable `null_distribution` that shows the proportion of each gender according to our model."
   ]
  },
  {
   "cell_type": "code",
   "execution_count": 50,
   "id": "d2e734ce",
   "metadata": {},
   "outputs": [
    {
     "data": {
      "text/plain": [
       "array([0.5, 0.5])"
      ]
     },
     "execution_count": 50,
     "metadata": {},
     "output_type": "execute_result"
    }
   ],
   "source": [
    "null_distribution = np.array([0.5, 0.5])\n",
    "null_distribution"
   ]
  },
  {
   "cell_type": "markdown",
   "id": "c17315ac",
   "metadata": {},
   "source": [
    "**Question 3.3.** To perform our hypothesis test, we will simulate drawing a random sample of size `line_count` from the null distribution, and then compute a test statistic on each simulated sample. We must first choose a reasonable test statistic that will help us determine whether or not to reject the null hypothesis.\n",
    "\n",
    "From the options below, find **all** valid test statistics that we could use for this hypothesis test. Save the numbers of your choices in a **list** called `gender_test_statistics`. Valid test statistics are ones that would allow us to distinguish between the null and alternative hypotheses. \n",
    "\n",
    "***Hint:*** To determine whether a test statistic is valid, think about which values of the statistic (high, low, moderate) would make you lean towards the null and which would make you lean towards the alternative.\n",
    "\n",
    "1. The difference between the proportion of female-spoken lines and 0.5.\n",
    "2. The difference between the number of male-spoken lines and the number of female-spoken lines. \n",
    "3. The difference between the number of female-spoken lines and one half of `line_count`.\n",
    "4. Three times the difference between the proportion of male-spoken lines and 0.5.\n",
    "5. The total variation distance between the gender distribution of lines spoken and the null distribution."
   ]
  },
  {
   "cell_type": "code",
   "execution_count": 51,
   "id": "527801d2",
   "metadata": {},
   "outputs": [
    {
     "data": {
      "text/plain": [
       "[1, 2, 3, 4]"
      ]
     },
     "execution_count": 51,
     "metadata": {},
     "output_type": "execute_result"
    }
   ],
   "source": [
    "gender_test_statistics = [1, 2, 3, 4]\n",
    "gender_test_statistics"
   ]
  },
  {
   "cell_type": "code",
   "execution_count": 52,
   "id": "fea01724",
   "metadata": {
    "deletable": false,
    "editable": false
   },
   "outputs": [
    {
     "data": {
      "text/html": [
       "<p><strong><pre style='display: inline;'>q3_3</pre></strong> passed!</p>"
      ],
      "text/plain": [
       "q3_3 results: All test cases passed!"
      ]
     },
     "execution_count": 52,
     "metadata": {},
     "output_type": "execute_result"
    }
   ],
   "source": [
    "grader.check(\"q3_3\")"
   ]
  },
  {
   "cell_type": "markdown",
   "id": "a9f6a331",
   "metadata": {},
   "source": [
    "**Question 3.4.** For this hypothesis test, we'll use the proportion of male-spoken lines as our test statistic. Write a simulation that runs 10,000 times, each time drawing a random sample of size `line_count` under the assumption of the null hypothesis. Keep track of the simulated test statistics in the `gender_stats` array. "
   ]
  },
  {
   "cell_type": "code",
   "execution_count": 53,
   "id": "7da8509f",
   "metadata": {
    "scrolled": true
   },
   "outputs": [
    {
     "data": {
      "image/png": "[encoded data removed]",
      "text/plain": [
       "<Figure size 720x360 with 1 Axes>"
      ]
     },
     "metadata": {},
     "output_type": "display_data"
    }
   ],
   "source": [
    "gender_stats = np.array([])\n",
    "for i in range(10000):\n",
    "    sim = main_lines.sample(line_count, replace = True)\n",
    "    sim_stats = np.count_nonzero((sim.get(\"speaker\") == 'Ross Geller')| (sim.get(\"speaker\") == 'Chandler Bing') | (sim.get(\"speaker\") == 'Joey Tribbiani')) / line_count\n",
    "    gender_stats = np.append(gender_stats, sim_stats)\n",
    "\n",
    "# Visualize with a histogram\n",
    "bpd.DataFrame().assign(gender_stats=gender_stats).plot(kind='hist', density=True, ec='w', figsize=(10, 5));\n",
    "plt.axvline(x=observed_male_prop, color='black', linewidth=4, label='observed statistic')\n",
    "plt.legend();"
   ]
  },
  {
   "cell_type": "code",
   "execution_count": 54,
   "id": "6a9e150e",
   "metadata": {
    "deletable": false,
    "editable": false
   },
   "outputs": [
    {
     "data": {
      "text/html": [
       "<p><strong><pre style='display: inline;'>q3_4</pre></strong> passed!</p>"
      ],
      "text/plain": [
       "q3_4 results: All test cases passed!"
      ]
     },
     "execution_count": 54,
     "metadata": {},
     "output_type": "execute_result"
    }
   ],
   "source": [
    "grader.check(\"q3_4\")"
   ]
  },
  {
   "cell_type": "markdown",
   "id": "e60adaa1",
   "metadata": {},
   "source": [
    "**Question 3.5.** Compute the p-value for this hypothesis test, and save the result to `gender_p_value`."
   ]
  },
  {
   "cell_type": "code",
   "execution_count": 55,
   "id": "b823c210",
   "metadata": {},
   "outputs": [
    {
     "data": {
      "text/plain": [
       "0.5063"
      ]
     },
     "execution_count": 55,
     "metadata": {},
     "output_type": "execute_result"
    }
   ],
   "source": [
    "gender_p_value = np.count_nonzero(gender_stats >= observed_male_prop)/10000\n",
    "gender_p_value"
   ]
  },
  {
   "cell_type": "code",
   "execution_count": 56,
   "id": "d3b457ea",
   "metadata": {
    "deletable": false,
    "editable": false
   },
   "outputs": [
    {
     "data": {
      "text/html": [
       "<p><strong><pre style='display: inline;'>q3_5</pre></strong> passed!</p>"
      ],
      "text/plain": [
       "q3_5 results: All test cases passed!"
      ]
     },
     "execution_count": 56,
     "metadata": {},
     "output_type": "execute_result"
    }
   ],
   "source": [
    "grader.check(\"q3_5\")"
   ]
  },
  {
   "cell_type": "markdown",
   "id": "dcca5898",
   "metadata": {},
   "source": [
    "You should find that the p-value is above the standard cutoff of 0.05 for statistical significance. So in this case, we fail to reject the null. You'll use this information when creating your reboot - you'll assign an equal number of lines to the male main characters and the female main characters."
   ]
  },
  {
   "cell_type": "markdown",
   "id": "e0299f6a",
   "metadata": {},
   "source": [
    "**Question 3.6.** Conceptually, how would you expect the statistics in `gender_stats` to change if `line_count` were a much larger value and `observed_male_prop` were the same? What effect would that have on the result of the hypothesis test?\n",
    "\n",
    "From the options below, save the number of your choice in the variable`gender_stats_change`.\n",
    "\n",
    "1. The values in `gender_stats` would be **less spread out**. We'd be **less** likely to reject the null hypothesis if `observed_male_prop` remained the same.\n",
    "2. The values in `gender_stats` would be **less spread out**. We'd be **more** likely to reject the null hypothesis if `observed_male_prop` remained the same.\n",
    "3. The values in `gender_stats` would be **about the same**. We'd be **equally** likely to reject the null hypothesis if `observed_male_prop` remained the same.\n",
    "4. The values in `gender_stats` would be **more spread out**. We'd be **less** likely to reject the null hypothesis if `observed_male_prop` remained the same.\n",
    "5. The values in `gender_stats` would be **more spread out**. We'd be **more** likely to reject the null hypothesis if `observed_male_prop` remained the same."
   ]
  },
  {
   "cell_type": "code",
   "execution_count": 57,
   "id": "14e4f4bf",
   "metadata": {},
   "outputs": [
    {
     "data": {
      "text/plain": [
       "2"
      ]
     },
     "execution_count": 57,
     "metadata": {},
     "output_type": "execute_result"
    }
   ],
   "source": [
    "gender_stats_change = 2\n",
    "gender_stats_change"
   ]
  },
  {
   "cell_type": "code",
   "execution_count": 58,
   "id": "aaea1942",
   "metadata": {
    "deletable": false,
    "editable": false
   },
   "outputs": [
    {
     "data": {
      "text/html": [
       "<p><strong><pre style='display: inline;'>q3_6</pre></strong> passed!</p>"
      ],
      "text/plain": [
       "q3_6 results: All test cases passed!"
      ]
     },
     "execution_count": 58,
     "metadata": {},
     "output_type": "execute_result"
    }
   ],
   "source": [
    "grader.check(\"q3_6\")"
   ]
  },
  {
   "cell_type": "markdown",
   "id": "33bdc360",
   "metadata": {},
   "source": [
    "<a id='section4'></a>\n",
    "## Section 4: The Emotional One 😁😢😨\n",
    "\n",
    "<small>(<a href=\"#outline\">return to the outline</a>)</small>\n",
    "\n",
    "Now it's time to investigate the character dynamics of the show! In order to do this, we'll look at the `emotions` dataset. In data science, we often refer to emotion as \"sentiment.\" We only have sentiment data for certain lines from the first four seasons of the show, so we'll base our investigation on those lines only. Since we also have knowledge of probability, we'll utilize that as well."
   ]
  },
  {
   "cell_type": "markdown",
   "id": "97f2811f",
   "metadata": {},
   "source": [
    "Let's take a look at the data in `emotions`."
   ]
  },
  {
   "cell_type": "code",
   "execution_count": 59,
   "id": "b69f85ec",
   "metadata": {
    "scrolled": true
   },
   "outputs": [
    {
     "data": {
      "text/html": [
       "<div>\n",
       "<style scoped>\n",
       "    .dataframe tbody tr th:only-of-type {\n",
       "        vertical-align: middle;\n",
       "    }\n",
       "\n",
       "    .dataframe tbody tr th {\n",
       "        vertical-align: top;\n",
       "    }\n",
       "\n",
       "    .dataframe thead th {\n",
       "        text-align: right;\n",
       "    }\n",
       "</style>\n",
       "<table border=\"1\" class=\"dataframe\">\n",
       "  <thead>\n",
       "    <tr style=\"text-align: right;\">\n",
       "      <th></th>\n",
       "      <th>text</th>\n",
       "      <th>speaker</th>\n",
       "      <th>season</th>\n",
       "      <th>episode</th>\n",
       "      <th>scene</th>\n",
       "      <th>utterance</th>\n",
       "      <th>emotion</th>\n",
       "    </tr>\n",
       "  </thead>\n",
       "  <tbody>\n",
       "    <tr>\n",
       "      <th>0</th>\n",
       "      <td>I'm supposed to attach a brackety thing to the...</td>\n",
       "      <td>Ross Geller</td>\n",
       "      <td>1</td>\n",
       "      <td>1</td>\n",
       "      <td>4</td>\n",
       "      <td>1</td>\n",
       "      <td>Mad</td>\n",
       "    </tr>\n",
       "    <tr>\n",
       "      <th>1</th>\n",
       "      <td>I'm thinking we've got a bookcase here.</td>\n",
       "      <td>Joey Tribbiani</td>\n",
       "      <td>1</td>\n",
       "      <td>1</td>\n",
       "      <td>4</td>\n",
       "      <td>3</td>\n",
       "      <td>Neutral</td>\n",
       "    </tr>\n",
       "    <tr>\n",
       "      <th>2</th>\n",
       "      <td>It's a beautiful thing.</td>\n",
       "      <td>Chandler Bing</td>\n",
       "      <td>1</td>\n",
       "      <td>1</td>\n",
       "      <td>4</td>\n",
       "      <td>4</td>\n",
       "      <td>Joyful</td>\n",
       "    </tr>\n",
       "    <tr>\n",
       "      <th>3</th>\n",
       "      <td>What's this?</td>\n",
       "      <td>Joey Tribbiani</td>\n",
       "      <td>1</td>\n",
       "      <td>1</td>\n",
       "      <td>4</td>\n",
       "      <td>5</td>\n",
       "      <td>Neutral</td>\n",
       "    </tr>\n",
       "    <tr>\n",
       "      <th>4</th>\n",
       "      <td>I would have to say that is an 'L'-shaped brac...</td>\n",
       "      <td>Chandler Bing</td>\n",
       "      <td>1</td>\n",
       "      <td>1</td>\n",
       "      <td>4</td>\n",
       "      <td>6</td>\n",
       "      <td>Neutral</td>\n",
       "    </tr>\n",
       "    <tr>\n",
       "      <th>...</th>\n",
       "      <td>...</td>\n",
       "      <td>...</td>\n",
       "      <td>...</td>\n",
       "      <td>...</td>\n",
       "      <td>...</td>\n",
       "      <td>...</td>\n",
       "      <td>...</td>\n",
       "    </tr>\n",
       "    <tr>\n",
       "      <th>12601</th>\n",
       "      <td>Ahh, yes, I will have a glass of the Merlot</td>\n",
       "      <td>Rachel Green</td>\n",
       "      <td>4</td>\n",
       "      <td>24</td>\n",
       "      <td>25</td>\n",
       "      <td>2</td>\n",
       "      <td>Neutral</td>\n",
       "    </tr>\n",
       "    <tr>\n",
       "      <th>12602</th>\n",
       "      <td>Okay.</td>\n",
       "      <td>Air Hostess</td>\n",
       "      <td>4</td>\n",
       "      <td>24</td>\n",
       "      <td>25</td>\n",
       "      <td>3</td>\n",
       "      <td>Neutral</td>\n",
       "    </tr>\n",
       "    <tr>\n",
       "      <th>12603</th>\n",
       "      <td>And uh, he will have a white wine spritzer.</td>\n",
       "      <td>Rachel Green</td>\n",
       "      <td>4</td>\n",
       "      <td>24</td>\n",
       "      <td>25</td>\n",
       "      <td>4</td>\n",
       "      <td>Neutral</td>\n",
       "    </tr>\n",
       "    <tr>\n",
       "      <th>12604</th>\n",
       "      <td>Okay, good. Thank you. I'll be back shortly, a...</td>\n",
       "      <td>Air Hostess</td>\n",
       "      <td>4</td>\n",
       "      <td>24</td>\n",
       "      <td>25</td>\n",
       "      <td>5</td>\n",
       "      <td>Joyful</td>\n",
       "    </tr>\n",
       "    <tr>\n",
       "      <th>12605</th>\n",
       "      <td>All right. Woo! Hey, look at that, the airport...</td>\n",
       "      <td>Rachel Green</td>\n",
       "      <td>4</td>\n",
       "      <td>24</td>\n",
       "      <td>25</td>\n",
       "      <td>6</td>\n",
       "      <td>Scared</td>\n",
       "    </tr>\n",
       "  </tbody>\n",
       "</table>\n",
       "<p>12606 rows × 7 columns</p>\n",
       "</div>"
      ],
      "text/plain": [
       "                                                    text         speaker  \\\n",
       "0      I'm supposed to attach a brackety thing to the...     Ross Geller   \n",
       "1                I'm thinking we've got a bookcase here.  Joey Tribbiani   \n",
       "2                                It's a beautiful thing.   Chandler Bing   \n",
       "3                                           What's this?  Joey Tribbiani   \n",
       "4      I would have to say that is an 'L'-shaped brac...   Chandler Bing   \n",
       "...                                                  ...             ...   \n",
       "12601        Ahh, yes, I will have a glass of the Merlot    Rachel Green   \n",
       "12602                                              Okay.     Air Hostess   \n",
       "12603        And uh, he will have a white wine spritzer.    Rachel Green   \n",
       "12604  Okay, good. Thank you. I'll be back shortly, a...     Air Hostess   \n",
       "12605  All right. Woo! Hey, look at that, the airport...    Rachel Green   \n",
       "\n",
       "       season  episode  scene  utterance  emotion  \n",
       "0           1        1      4          1      Mad  \n",
       "1           1        1      4          3  Neutral  \n",
       "2           1        1      4          4   Joyful  \n",
       "3           1        1      4          5  Neutral  \n",
       "4           1        1      4          6  Neutral  \n",
       "...       ...      ...    ...        ...      ...  \n",
       "12601       4       24     25          2  Neutral  \n",
       "12602       4       24     25          3  Neutral  \n",
       "12603       4       24     25          4  Neutral  \n",
       "12604       4       24     25          5   Joyful  \n",
       "12605       4       24     25          6   Scared  \n",
       "\n",
       "[12606 rows x 7 columns]"
      ]
     },
     "execution_count": 59,
     "metadata": {},
     "output_type": "execute_result"
    }
   ],
   "source": [
    "emotions"
   ]
  },
  {
   "cell_type": "markdown",
   "id": "0e35a298",
   "metadata": {},
   "source": [
    "The `emotions` DataFrame includes the emotion for lines spoken by minor characters like `'Air Hostess'`, but we want to focus on the emotions of the six main characters, whose names are included in the `main` DataFrame defined below."
   ]
  },
  {
   "cell_type": "code",
   "execution_count": 60,
   "id": "86f8cd3b",
   "metadata": {},
   "outputs": [
    {
     "data": {
      "text/html": [
       "<div>\n",
       "<style scoped>\n",
       "    .dataframe tbody tr th:only-of-type {\n",
       "        vertical-align: middle;\n",
       "    }\n",
       "\n",
       "    .dataframe tbody tr th {\n",
       "        vertical-align: top;\n",
       "    }\n",
       "\n",
       "    .dataframe thead th {\n",
       "        text-align: right;\n",
       "    }\n",
       "</style>\n",
       "<table border=\"1\" class=\"dataframe\">\n",
       "  <thead>\n",
       "    <tr style=\"text-align: right;\">\n",
       "      <th></th>\n",
       "      <th>speaker</th>\n",
       "    </tr>\n",
       "  </thead>\n",
       "  <tbody>\n",
       "    <tr>\n",
       "      <th>0</th>\n",
       "      <td>Monica Geller</td>\n",
       "    </tr>\n",
       "    <tr>\n",
       "      <th>1</th>\n",
       "      <td>Ross Geller</td>\n",
       "    </tr>\n",
       "    <tr>\n",
       "      <th>2</th>\n",
       "      <td>Rachel Green</td>\n",
       "    </tr>\n",
       "    <tr>\n",
       "      <th>3</th>\n",
       "      <td>Chandler Bing</td>\n",
       "    </tr>\n",
       "    <tr>\n",
       "      <th>4</th>\n",
       "      <td>Phoebe Buffay</td>\n",
       "    </tr>\n",
       "    <tr>\n",
       "      <th>5</th>\n",
       "      <td>Joey Tribbiani</td>\n",
       "    </tr>\n",
       "  </tbody>\n",
       "</table>\n",
       "</div>"
      ],
      "text/plain": [
       "          speaker\n",
       "0   Monica Geller\n",
       "1     Ross Geller\n",
       "2    Rachel Green\n",
       "3   Chandler Bing\n",
       "4   Phoebe Buffay\n",
       "5  Joey Tribbiani"
      ]
     },
     "execution_count": 60,
     "metadata": {},
     "output_type": "execute_result"
    }
   ],
   "source": [
    "main = bpd.DataFrame().assign(speaker =  ['Monica Geller', 'Ross Geller', 'Rachel Green', 'Chandler Bing', 'Phoebe Buffay', 'Joey Tribbiani'])\n",
    "main"
   ]
  },
  {
   "cell_type": "markdown",
   "id": "9e6d47d7",
   "metadata": {},
   "source": [
    "**Question 4.1.** Create a DataFrame called `main_emotions` by merging the `main` and `emotions` DataFrame so that the resulting DataFrame contains the same columns as `emotions`, but only has rows corresponding to lines spoken by one of the six main characters. The rows and columns of `main_emotions` can be in any order."
   ]
  },
  {
   "cell_type": "code",
   "execution_count": 61,
   "id": "ab93cbc9",
   "metadata": {
    "scrolled": true
   },
   "outputs": [
    {
     "data": {
      "text/html": [
       "<div>\n",
       "<style scoped>\n",
       "    .dataframe tbody tr th:only-of-type {\n",
       "        vertical-align: middle;\n",
       "    }\n",
       "\n",
       "    .dataframe tbody tr th {\n",
       "        vertical-align: top;\n",
       "    }\n",
       "\n",
       "    .dataframe thead th {\n",
       "        text-align: right;\n",
       "    }\n",
       "</style>\n",
       "<table border=\"1\" class=\"dataframe\">\n",
       "  <thead>\n",
       "    <tr style=\"text-align: right;\">\n",
       "      <th></th>\n",
       "      <th>speaker</th>\n",
       "      <th>text</th>\n",
       "      <th>season</th>\n",
       "      <th>episode</th>\n",
       "      <th>scene</th>\n",
       "      <th>utterance</th>\n",
       "      <th>emotion</th>\n",
       "    </tr>\n",
       "  </thead>\n",
       "  <tbody>\n",
       "    <tr>\n",
       "      <th>0</th>\n",
       "      <td>Monica Geller</td>\n",
       "      <td>Oh my God!</td>\n",
       "      <td>1</td>\n",
       "      <td>1</td>\n",
       "      <td>5</td>\n",
       "      <td>1</td>\n",
       "      <td>Mad</td>\n",
       "    </tr>\n",
       "    <tr>\n",
       "      <th>1</th>\n",
       "      <td>Monica Geller</td>\n",
       "      <td>My brother's going through that right now, he'...</td>\n",
       "      <td>1</td>\n",
       "      <td>1</td>\n",
       "      <td>5</td>\n",
       "      <td>3</td>\n",
       "      <td>Sad</td>\n",
       "    </tr>\n",
       "    <tr>\n",
       "      <th>2</th>\n",
       "      <td>Monica Geller</td>\n",
       "      <td>-leg?</td>\n",
       "      <td>1</td>\n",
       "      <td>1</td>\n",
       "      <td>5</td>\n",
       "      <td>5</td>\n",
       "      <td>Joyful</td>\n",
       "    </tr>\n",
       "    <tr>\n",
       "      <th>3</th>\n",
       "      <td>Monica Geller</td>\n",
       "      <td>You actually broke her watch? Wow! The worst t...</td>\n",
       "      <td>1</td>\n",
       "      <td>1</td>\n",
       "      <td>5</td>\n",
       "      <td>7</td>\n",
       "      <td>Powerful</td>\n",
       "    </tr>\n",
       "    <tr>\n",
       "      <th>4</th>\n",
       "      <td>Monica Geller</td>\n",
       "      <td>That's right.</td>\n",
       "      <td>1</td>\n",
       "      <td>1</td>\n",
       "      <td>5</td>\n",
       "      <td>9</td>\n",
       "      <td>Powerful</td>\n",
       "    </tr>\n",
       "    <tr>\n",
       "      <th>...</th>\n",
       "      <td>...</td>\n",
       "      <td>...</td>\n",
       "      <td>...</td>\n",
       "      <td>...</td>\n",
       "      <td>...</td>\n",
       "      <td>...</td>\n",
       "      <td>...</td>\n",
       "    </tr>\n",
       "    <tr>\n",
       "      <th>9771</th>\n",
       "      <td>Joey Tribbiani</td>\n",
       "      <td>Thanks man.</td>\n",
       "      <td>4</td>\n",
       "      <td>24</td>\n",
       "      <td>23</td>\n",
       "      <td>13</td>\n",
       "      <td>Peaceful</td>\n",
       "    </tr>\n",
       "    <tr>\n",
       "      <th>9772</th>\n",
       "      <td>Joey Tribbiani</td>\n",
       "      <td>But what about how much taller he is than me?</td>\n",
       "      <td>4</td>\n",
       "      <td>24</td>\n",
       "      <td>23</td>\n",
       "      <td>15</td>\n",
       "      <td>Scared</td>\n",
       "    </tr>\n",
       "    <tr>\n",
       "      <th>9773</th>\n",
       "      <td>Joey Tribbiani</td>\n",
       "      <td>I mean, there's no way I can make myself talle...</td>\n",
       "      <td>4</td>\n",
       "      <td>24</td>\n",
       "      <td>23</td>\n",
       "      <td>17</td>\n",
       "      <td>Scared</td>\n",
       "    </tr>\n",
       "    <tr>\n",
       "      <th>9774</th>\n",
       "      <td>Joey Tribbiani</td>\n",
       "      <td>Hey, Monica, wow you've been in the bathroom f...</td>\n",
       "      <td>4</td>\n",
       "      <td>24</td>\n",
       "      <td>23</td>\n",
       "      <td>19</td>\n",
       "      <td>Scared</td>\n",
       "    </tr>\n",
       "    <tr>\n",
       "      <th>9775</th>\n",
       "      <td>Joey Tribbiani</td>\n",
       "      <td>Had the beef-tips, huh?</td>\n",
       "      <td>4</td>\n",
       "      <td>24</td>\n",
       "      <td>23</td>\n",
       "      <td>21</td>\n",
       "      <td>Powerful</td>\n",
       "    </tr>\n",
       "  </tbody>\n",
       "</table>\n",
       "<p>9776 rows × 7 columns</p>\n",
       "</div>"
      ],
      "text/plain": [
       "             speaker                                               text  \\\n",
       "0      Monica Geller                                         Oh my God!   \n",
       "1      Monica Geller  My brother's going through that right now, he'...   \n",
       "2      Monica Geller                                              -leg?   \n",
       "3      Monica Geller  You actually broke her watch? Wow! The worst t...   \n",
       "4      Monica Geller                                      That's right.   \n",
       "...              ...                                                ...   \n",
       "9771  Joey Tribbiani                                        Thanks man.   \n",
       "9772  Joey Tribbiani      But what about how much taller he is than me?   \n",
       "9773  Joey Tribbiani  I mean, there's no way I can make myself talle...   \n",
       "9774  Joey Tribbiani  Hey, Monica, wow you've been in the bathroom f...   \n",
       "9775  Joey Tribbiani                            Had the beef-tips, huh?   \n",
       "\n",
       "      season  episode  scene  utterance   emotion  \n",
       "0          1        1      5          1       Mad  \n",
       "1          1        1      5          3       Sad  \n",
       "2          1        1      5          5    Joyful  \n",
       "3          1        1      5          7  Powerful  \n",
       "4          1        1      5          9  Powerful  \n",
       "...      ...      ...    ...        ...       ...  \n",
       "9771       4       24     23         13  Peaceful  \n",
       "9772       4       24     23         15    Scared  \n",
       "9773       4       24     23         17    Scared  \n",
       "9774       4       24     23         19    Scared  \n",
       "9775       4       24     23         21  Powerful  \n",
       "\n",
       "[9776 rows x 7 columns]"
      ]
     },
     "execution_count": 61,
     "metadata": {},
     "output_type": "execute_result"
    }
   ],
   "source": [
    "main_emotions = main.merge(emotions, left_on = \"speaker\", right_on = \"speaker\")\n",
    "main_emotions"
   ]
  },
  {
   "cell_type": "code",
   "execution_count": 62,
   "id": "b6715c33",
   "metadata": {
    "deletable": false,
    "editable": false
   },
   "outputs": [
    {
     "data": {
      "text/html": [
       "<p><strong><pre style='display: inline;'>q4_1</pre></strong> passed!</p>"
      ],
      "text/plain": [
       "q4_1 results: All test cases passed!"
      ]
     },
     "execution_count": 62,
     "metadata": {},
     "output_type": "execute_result"
    }
   ],
   "source": [
    "grader.check(\"q4_1\")"
   ]
  },
  {
   "cell_type": "markdown",
   "id": "9dd1e912",
   "metadata": {},
   "source": [
    "We'll use `main_emotions` instead of `emotions` for the rest of this section. Let's look into how sentiment varies across the six main characters by investigating some probabilities.\n",
    "\n",
    "**Question 4.2.** If we randomly select a line spoken `'Phoebe Buffay'` from `main_emotions`, what is the probability that the line is characterized as `'Joyful'`? Assign your answer to the variable `p_joyful_given_phoebe`."
   ]
  },
  {
   "cell_type": "code",
   "execution_count": 63,
   "id": "07bbc260",
   "metadata": {},
   "outputs": [
    {
     "data": {
      "text/plain": [
       "0.2483912483912484"
      ]
     },
     "execution_count": 63,
     "metadata": {},
     "output_type": "execute_result"
    }
   ],
   "source": [
    "p_joyful_given_phoebe = main_emotions[main_emotions.get(\"speaker\") == \"Phoebe Buffay\"]\n",
    "p_joyful_given_phoebe = np.count_nonzero(p_joyful_given_phoebe.get(\"emotion\") == \"Joyful\")/p_joyful_given_phoebe.shape[0]  \n",
    "p_joyful_given_phoebe"
   ]
  },
  {
   "cell_type": "code",
   "execution_count": 64,
   "id": "888b2450",
   "metadata": {
    "deletable": false,
    "editable": false
   },
   "outputs": [
    {
     "data": {
      "text/html": [
       "<p><strong><pre style='display: inline;'>q4_2</pre></strong> passed!</p>"
      ],
      "text/plain": [
       "q4_2 results: All test cases passed!"
      ]
     },
     "execution_count": 64,
     "metadata": {},
     "output_type": "execute_result"
    }
   ],
   "source": [
    "grader.check(\"q4_2\")"
   ]
  },
  {
   "cell_type": "markdown",
   "id": "f28c9973",
   "metadata": {},
   "source": [
    "**Question 4.3.** It's hard to know from this probability alone whether Phoebe is a particularly joyful character compared to other characters. Let's instead answer a related question: if we randomly select a `'Joyful'` line from `main_emotions`, what is the probability that it was spoken by `'Phoebe Buffay'`? Assign your answer to the variable `p_phoebe_given_joyful`."
   ]
  },
  {
   "cell_type": "code",
   "execution_count": 65,
   "id": "0463ae3a",
   "metadata": {
    "scrolled": true
   },
   "outputs": [
    {
     "data": {
      "text/plain": [
       "0.18293838862559242"
      ]
     },
     "execution_count": 65,
     "metadata": {},
     "output_type": "execute_result"
    }
   ],
   "source": [
    "p_phoebe_given_joyful = np.count_nonzero(main_emotions[main_emotions.get('emotion') == 'Joyful'].get('speaker') == 'Phoebe Buffay') / main_emotions[main_emotions.get('emotion') == 'Joyful'].shape[0]\n",
    "\n",
    "p_phoebe_given_joyful"
   ]
  },
  {
   "cell_type": "code",
   "execution_count": 66,
   "id": "ccd795b6",
   "metadata": {
    "deletable": false,
    "editable": false
   },
   "outputs": [
    {
     "data": {
      "text/html": [
       "<p><strong><pre style='display: inline;'>q4_3</pre></strong> passed!</p>"
      ],
      "text/plain": [
       "q4_3 results: All test cases passed!"
      ]
     },
     "execution_count": 66,
     "metadata": {},
     "output_type": "execute_result"
    }
   ],
   "source": [
    "grader.check(\"q4_3\")"
   ]
  },
  {
   "cell_type": "markdown",
   "id": "ef5593e7",
   "metadata": {},
   "source": [
    "Notice that in both of the previous questions, you calculated a conditional probability. First you calculated the probability of an emotion given a speaker, then you calculated the probability of a speaker given an emotion. Next, we want to do these same kinds of calculations for _all_ of the main characters and _all_ of the emotions. Let's generalize the code for these calculations so that we can more easily compute conditional probabilities with other conditions.\n",
    "\n",
    "**Question 4.4.** ⭐⭐ Your job is to implement the function `conditional_probability`. It has two arguments, `find` and `given`, both of which are lists. Let's walk through how this works using an example. Suppose we want to compute the probability that a `'Joyful'` line is spoken by `'Phoebe Buffay'` as we did in the previous question.\n",
    "\n",
    "- `find` is a list of two elements:\n",
    "    - The first element in `find` is the column in `main_emotions` that contains the event that we are trying to find the probability of. In our example, this is `'speaker'`.\n",
    "    - The second element in `find` is the value in the aforementioned column that we're trying to find. In our example, this is `'Phoebe Buffay'`.\n",
    "- `given` is a list of two elements:\n",
    "    - The first element in `given` is the column in `main_emotions` that contains the event that is known to be true. In our example, this is `'emotion'`. \n",
    "    - The second element in `given` is the value in the aforementioned column. In our example, this is `'Joyful'`.\n",
    "\n",
    "Putting this all together, this means that `conditional_probability(['speaker', 'Phoebe Buffay'], ['emotion', 'Joyful'])` should evaluate to your answer from the previous part (but the `conditional_probability` function should work for any example, not just this one).\n",
    "\n"
   ]
  },
  {
   "cell_type": "code",
   "execution_count": 67,
   "id": "0e1e5044",
   "metadata": {},
   "outputs": [
    {
     "data": {
      "text/plain": [
       "0.18293838862559242"
      ]
     },
     "execution_count": 67,
     "metadata": {},
     "output_type": "execute_result"
    }
   ],
   "source": [
    "def conditional_probability(find, given):\n",
    "    '''Returns the conditional probability of an event given a known condition.'''\n",
    "    return main_emotions[(main_emotions.get(find[0]) == find[1]) & (main_emotions.get(given[0]) == given[1])].shape[0]/main_emotions[main_emotions.get(given[0]) == given[1]].shape[0]\n",
    "    \n",
    "# This should evalaute to your answer to Question 4.3. Feel free to try calculating other conditional probabilities.\n",
    "conditional_probability(['speaker', 'Phoebe Buffay'], ['emotion', 'Joyful'])"
   ]
  },
  {
   "cell_type": "code",
   "execution_count": 68,
   "id": "3fb845d2",
   "metadata": {
    "deletable": false,
    "editable": false
   },
   "outputs": [
    {
     "data": {
      "text/html": [
       "<p><strong><pre style='display: inline;'>q4_4</pre></strong> passed!</p>"
      ],
      "text/plain": [
       "q4_4 results: All test cases passed!"
      ]
     },
     "execution_count": 68,
     "metadata": {},
     "output_type": "execute_result"
    }
   ],
   "source": [
    "grader.check(\"q4_4\")"
   ]
  },
  {
   "cell_type": "markdown",
   "id": "e497a302",
   "metadata": {},
   "source": [
    "**Question 4.5.** Now, use the `conditional_probability` function you just wrote to find some probabilities:\n",
    "- `p_mad_given_ross`: The probability that a line spoken by `'Ross Geller'` is `'Mad'`. \n",
    "- `p_monica_given_neutral`: The probability that a `'Neutral'` line is said by `'Monica Geller'`."
   ]
  },
  {
   "cell_type": "code",
   "execution_count": 69,
   "id": "fee0ec92",
   "metadata": {},
   "outputs": [
    {
     "name": "stdout",
     "output_type": "stream",
     "text": [
      "P(Mad given Ross) = 0.17\n",
      "P(Monica given Neutral) = 0.2932840418977203\n"
     ]
    }
   ],
   "source": [
    "p_mad_given_ross = conditional_probability([\"speaker\", \"Ross Geller\"], [\"emotion\", \"Mad\"])\n",
    "p_monica_given_neutral = conditional_probability([\"emotion\", \"Neutral\"], [\"speaker\", \"Monica Geller\"])\n",
    "\n",
    "print('P(Mad given Ross) = ' + str(p_mad_given_ross))\n",
    "print('P(Monica given Neutral) = ' + str(p_monica_given_neutral))"
   ]
  },
  {
   "cell_type": "code",
   "execution_count": 70,
   "id": "f2ed841c",
   "metadata": {
    "deletable": false,
    "editable": false
   },
   "outputs": [
    {
     "data": {
      "text/html": [
       "<p><strong><pre style='display: inline;'>q4_5</pre></strong> passed!</p>"
      ],
      "text/plain": [
       "q4_5 results: All test cases passed!"
      ]
     },
     "execution_count": 70,
     "metadata": {},
     "output_type": "execute_result"
    }
   ],
   "source": [
    "grader.check(\"q4_5\")"
   ]
  },
  {
   "cell_type": "markdown",
   "id": "2b24c330",
   "metadata": {},
   "source": [
    "**Question 4.6.** ⭐⭐ Now you want to focus on a particular emotion and order the characters from most likely to say a line of that emotion to least likely. Create a function called `rank_speakers_by_emotion`that takes as input a string `emotion` representing one of the seven emotions, and a boolean `draw_plot`.\n",
    "\n",
    "If `draw_plot` is `True`, the function should plot a horizontal bar chart where the bar lengths represent the probability that a line of the given emotion is spoken by each of the the six main characters. The total length of the six bars should sum to 1 and the bars should be ordered from longest to shortest. Give your plot an appropriate title.\n",
    "\n",
    "When `draw_plot` is `False`, the function should not draw a plot.\n",
    "\n",
    "Regardless of the value of `draw_plot`, the function should return an array of the six main characters, ranked in descending order of their probabilities of saying a line of the given emotion. \n",
    "\n",
    "For example, `rank_speakers_by_emotion('Sad', True)` should behave as follows.\n",
    "<img src=\"images/sad_line.jpg\" width = 700>"
   ]
  },
  {
   "cell_type": "markdown",
   "id": "5a5edd85",
   "metadata": {},
   "source": [
    "***Hint:*** You can solve this problem in at least two different ways. One way involves calling your `conditional_probability` function repeatedly with different inputs. Another way doesn't use the `conditional_probability` function at all, but instead uses `groupby`. You can use either approach, or try both for extra practice."
   ]
  },
  {
   "cell_type": "code",
   "execution_count": 77,
   "id": "81dc96ad",
   "metadata": {},
   "outputs": [
    {
     "data": {
      "text/html": [
       "<div>\n",
       "<style scoped>\n",
       "    .dataframe tbody tr th:only-of-type {\n",
       "        vertical-align: middle;\n",
       "    }\n",
       "\n",
       "    .dataframe tbody tr th {\n",
       "        vertical-align: top;\n",
       "    }\n",
       "\n",
       "    .dataframe thead th {\n",
       "        text-align: right;\n",
       "    }\n",
       "</style>\n",
       "<table border=\"1\" class=\"dataframe\">\n",
       "  <thead>\n",
       "    <tr style=\"text-align: right;\">\n",
       "      <th></th>\n",
       "      <th>Name</th>\n",
       "    </tr>\n",
       "  </thead>\n",
       "  <tbody>\n",
       "    <tr>\n",
       "      <th>0</th>\n",
       "      <td>Monica Geller</td>\n",
       "    </tr>\n",
       "    <tr>\n",
       "      <th>1</th>\n",
       "      <td>Ross Geller</td>\n",
       "    </tr>\n",
       "    <tr>\n",
       "      <th>2</th>\n",
       "      <td>Rachel Green</td>\n",
       "    </tr>\n",
       "    <tr>\n",
       "      <th>3</th>\n",
       "      <td>Chandler Bing</td>\n",
       "    </tr>\n",
       "    <tr>\n",
       "      <th>4</th>\n",
       "      <td>Phoebe Buffay</td>\n",
       "    </tr>\n",
       "    <tr>\n",
       "      <th>5</th>\n",
       "      <td>Joey Tribbiani</td>\n",
       "    </tr>\n",
       "  </tbody>\n",
       "</table>\n",
       "</div>"
      ],
      "text/plain": [
       "             Name\n",
       "0   Monica Geller\n",
       "1     Ross Geller\n",
       "2    Rachel Green\n",
       "3   Chandler Bing\n",
       "4   Phoebe Buffay\n",
       "5  Joey Tribbiani"
      ]
     },
     "execution_count": 77,
     "metadata": {},
     "output_type": "execute_result"
    }
   ],
   "source": [
    "main_cast = bpd.DataFrame().assign(Name = main_emotions.get(\"speaker\").unique())\n",
    "main_cast"
   ]
  },
  {
   "cell_type": "code",
   "execution_count": 79,
   "id": "2f776782",
   "metadata": {},
   "outputs": [
    {
     "data": {
      "text/plain": [
       "array(['Phoebe Buffay', 'Monica Geller', 'Rachel Green', 'Ross Geller',\n",
       "       'Joey Tribbiani', 'Chandler Bing'], dtype=object)"
      ]
     },
     "execution_count": 79,
     "metadata": {},
     "output_type": "execute_result"
    },
    {
     "data": {
      "image/png": "[encoded data removed]",
      "text/plain": [
       "<Figure size 432x288 with 1 Axes>"
      ]
     },
     "metadata": {},
     "output_type": "display_data"
    }
   ],
   "source": [
    "def rank_speakers_by_emotion(emotion, draw_plot):\n",
    "    '''Returns an ordered array of main characters, ranked by their conditional probabilities of \n",
    "    speaking a line of the given emotion. Draws a bar graph when draw_plot is True. '''\n",
    "    main_cast = bpd.DataFrame().assign(Speaker = main_emotions.get(\"speaker\").unique())\n",
    "    probs = np.array([])\n",
    "    \n",
    "    for i in range(main_cast.shape[0]):\n",
    "        probs = np.append(probs, conditional_probability([\"speaker\", main_cast.get(\"Speaker\").loc[i]], ['emotion', emotion]))    \n",
    "    main_cast = main_cast.assign(Probability = probs).sort_values(by = \"Probability\", ascending= False)\n",
    "    \n",
    "    if(draw_plot == True):\n",
    "        main_cast.set_index(\"Speaker\").sort_values(by = \"Probability\", ascending= True).plot(kind = \"barh\", title = \"Friends Characters Ranked by Probability of a \" + emotion + \" line\")\n",
    "    \n",
    "    return np.array(main_cast.get(\"Speaker\"))\n",
    "\n",
    "# Try to replicate the graph shown in the example.\n",
    "rank_speakers_by_emotion('Sad', True)"
   ]
  },
  {
   "cell_type": "code",
   "execution_count": null,
   "id": "a01dfc95",
   "metadata": {
    "deletable": false,
    "editable": false
   },
   "outputs": [],
   "source": [
    "grader.check(\"q4_6\")"
   ]
  },
  {
   "cell_type": "markdown",
   "id": "57e06737",
   "metadata": {},
   "source": [
    "Now, let's try using our function on all seven emotions."
   ]
  },
  {
   "cell_type": "code",
   "execution_count": null,
   "id": "df0dc86f",
   "metadata": {},
   "outputs": [],
   "source": [
    "seven_emotions = main_emotions.get('emotion').unique()\n",
    "for emotion in seven_emotions:\n",
    "    print('Characters in descending order of '+emotion+': \\n', rank_speakers_by_emotion(emotion, True), '\\n')"
   ]
  },
  {
   "cell_type": "markdown",
   "id": "e6b7d692",
   "metadata": {},
   "source": [
    "Now, you want to create a visualization that will represent the distribution of different emotions for each character. You plan to give this visualization to the writers you will hire for the reboot, as they will need to understand the emotional range of each character to write a reboot that is true to the spirit of the original *Friends* sitcom.\n",
    "\n",
    "**Question 4.7.** Your task is to create a function `emotions_by_speaker` that will take in a `speaker` and calculate the probability of that character saying a line of each of the seven emotions. The function should return a DataFrame, indexed by `'emotion'`, with one column `'probability'`, containing values that sum to 1. The rows should appear **alphabetically** by `'emotion'`\n",
    "\n",
    "For example, `emotions_by_speaker('Chandler Bing')` should return this DataFrame:"
   ]
  },
  {
   "cell_type": "markdown",
   "id": "e3c4639a",
   "metadata": {},
   "source": [
    "<table border=\"1\" class=\"dataframe\">\n",
    "  <thead>\n",
    "    <tr style=\"text-align: right;\">\n",
    "      <th></th>\n",
    "      <th>probability</th>\n",
    "    </tr>\n",
    "    <tr>\n",
    "      <th>emotion</th>\n",
    "      <th></th>\n",
    "    </tr>\n",
    "  </thead>\n",
    "  <tbody>\n",
    "    <tr>\n",
    "      <th>Joyful</th>\n",
    "      <td>0.220890</td>\n",
    "    </tr>\n",
    "    <tr>\n",
    "      <th>Mad</th>\n",
    "      <td>0.124429</td>\n",
    "    </tr>\n",
    "    <tr>\n",
    "      <th>Neutral</th>\n",
    "      <td>0.306507</td>\n",
    "    </tr>\n",
    "    <tr>\n",
    "      <th>Peaceful</th>\n",
    "      <td>0.096461</td>\n",
    "    </tr>\n",
    "    <tr>\n",
    "      <th>Powerful</th>\n",
    "      <td>0.080479</td>\n",
    "    </tr>\n",
    "    <tr>\n",
    "      <th>Sad</th>\n",
    "      <td>0.044521</td>\n",
    "    </tr>\n",
    "    <tr>\n",
    "      <th>Scared</th>\n",
    "      <td>0.126712</td>\n",
    "    </tr>\n",
    "  </tbody>\n",
    "</table>"
   ]
  },
  {
   "cell_type": "code",
   "execution_count": null,
   "id": "bb02c70c",
   "metadata": {
    "scrolled": true
   },
   "outputs": [],
   "source": [
    "def emotions_by_speaker(speaker):\n",
    "    '''Returns an DataFrame of emotions and their associated probabilities for the given speaker.'''\n",
    "    df = bpd.DataFrame().assign(emotion = main_emotions.get('emotion').unique())\n",
    "    probs = np.array([])\n",
    "    for emotion in seven_emotions:\n",
    "        prob = main_emotions[(main_emotions.get(\"speaker\") == speaker) & (main_emotions.get('emotion') == emotion)].shape[0] / main_emotions[main_emotions.get('speaker') == speaker].shape[0]\n",
    "        probs = np.append(probs, prob)   \n",
    "    df = df.assign(probability = probs).sort_values(by = 'emotion').set_index('emotion')\n",
    "    return df\n",
    "\n",
    "\n",
    "# An example call to your function. Feel free to change this and try out other speakers.\n",
    "emotions_by_speaker('Chandler Bing')"
   ]
  },
  {
   "cell_type": "code",
   "execution_count": null,
   "id": "9312dc20",
   "metadata": {
    "deletable": false,
    "editable": false
   },
   "outputs": [],
   "source": [
    "grader.check(\"q4_7\")"
   ]
  },
  {
   "cell_type": "markdown",
   "id": "dd035e5d",
   "metadata": {},
   "source": [
    "**Question 4.8.** Now, we'll use your function to create a visualization of speaker emotions, which should show the similarities and differences between the types of emotions each character uses when they speak. We've completed the visualization code for you, you just need to fill in a few missing lines as indicated by the comments. You do not need to know how the code for this visualization works!"
   ]
  },
  {
   "cell_type": "code",
   "execution_count": null,
   "id": "a2b1cc0b",
   "metadata": {},
   "outputs": [],
   "source": [
    "# main_emotions.get(\"speaker\").unique()\n",
    "# dfs = {}\n",
    "# for speaker in characters:\n",
    "#     # Call your emotions_by_speaker function on each speaker, and save the result as dfs[speaker].\n",
    "#     dfs[speaker] = emotions_by_speaker(speaker)\n",
    "\"Rachel Green\".split(\" \")[0].lower()"
   ]
  },
  {
   "cell_type": "code",
   "execution_count": null,
   "id": "88b0598b",
   "metadata": {},
   "outputs": [],
   "source": [
    "# Set characters to an array of the names of the six main characters.\n",
    "characters = main_emotions.get(\"speaker\").unique()\n",
    "\n",
    "dfs = {}\n",
    "for speaker in characters:\n",
    "    # Call your emotions_by_speaker function on each speaker, and save the result as dfs[speaker].\n",
    "    dfs[speaker] = emotions_by_speaker(speaker)\n",
    "\n",
    "def first_name(character):\n",
    "    # Return the first name of the input character's name, converted to lowercase.\n",
    "    # For example, RacheL Green -> rachel.\n",
    "    return character.split(\" \")[0].lower()\n",
    "\n",
    "fig, axes = plt.subplots(2, 3, figsize=(15, 10))\n",
    "axes = axes.flatten()\n",
    "\n",
    "max_height = max_width = 0\n",
    "for character in characters:\n",
    "    img = plt.imread(f'images/face_pics/{first_name(character)}.png')\n",
    "    h, w, _ = img.shape\n",
    "    max_height = max(max_height, h)\n",
    "    max_width = max(max_width, w)\n",
    "\n",
    "for ax, character in zip(axes, characters):\n",
    "    df = dfs[character]\n",
    "    pie, _, _ = ax.pie(df.get('probability'), labels=df.index, startangle=90, autopct='%1.1f%%', pctdistance=0.85, normalize=False)\n",
    "    ax.set_title(character)\n",
    "\n",
    "    img = plt.imread(f'images/face_pics/{first_name(character)}.png')\n",
    "\n",
    "    h, w, _ = img.shape\n",
    "    radius = min(h, w) // 2\n",
    "    y, x = np.ogrid[:h, :w]\n",
    "    mask = ((y - h // 2) ** 2 + (x - w // 2) ** 2) > radius ** 2\n",
    "    img[mask] = [1, 1, 1, 0]  \n",
    "\n",
    "    zoom_factor = max_height / h if h > w else max_width / w\n",
    "    imagebox = OffsetImage(img, zoom=zoom_factor * 0.43)\n",
    "    ab = AnnotationBbox(imagebox, (0.5, 0.5), frameon=False, pad=0, xycoords='axes fraction', boxcoords='axes fraction')\n",
    "    ax.add_artist(ab)\n",
    "\n",
    "plt.tight_layout()\n",
    "plt.show()"
   ]
  },
  {
   "cell_type": "code",
   "execution_count": null,
   "id": "465af83b",
   "metadata": {
    "deletable": false,
    "editable": false
   },
   "outputs": [],
   "source": [
    "grader.check(\"q4_8\")"
   ]
  },
  {
   "cell_type": "markdown",
   "id": "c56faf3f",
   "metadata": {},
   "source": [
    "This visualization will serve as a great template for the writers of the new reboot!"
   ]
  },
  {
   "cell_type": "markdown",
   "id": "bd11ff09",
   "metadata": {},
   "source": [
    "<a id='section5'></a>\n",
    "## Section 5: The One with the Spoilers 🙊\n",
    "\n",
    "<small>(<a href=\"#outline\">return to the outline</a>)</small>\n",
    "\n",
    "In this section, we will use permutation testing to compare different groups of episodes from *Friends* in terms of their viewership and ratings. This might help us make some decisions about what kinds of episodes our reboot should include to boost viewership and ratings! \n",
    "\n",
    "We'll start by looking at how earlier seasons of *Friends* (seasons 1-5) compared to later seasons (seasons 6-10) in terms of viewership. Check out the information you'll be working with in the `episodes` DataFrame:"
   ]
  },
  {
   "cell_type": "code",
   "execution_count": 80,
   "id": "4d29ebfc",
   "metadata": {},
   "outputs": [
    {
     "data": {
      "text/html": [
       "<div>\n",
       "<style scoped>\n",
       "    .dataframe tbody tr th:only-of-type {\n",
       "        vertical-align: middle;\n",
       "    }\n",
       "\n",
       "    .dataframe tbody tr th {\n",
       "        vertical-align: top;\n",
       "    }\n",
       "\n",
       "    .dataframe thead th {\n",
       "        text-align: right;\n",
       "    }\n",
       "</style>\n",
       "<table border=\"1\" class=\"dataframe\">\n",
       "  <thead>\n",
       "    <tr style=\"text-align: right;\">\n",
       "      <th></th>\n",
       "      <th>season</th>\n",
       "      <th>episode</th>\n",
       "      <th>title</th>\n",
       "      <th>directed_by</th>\n",
       "      <th>written_by</th>\n",
       "      <th>air_date</th>\n",
       "      <th>us_views_millions</th>\n",
       "      <th>imdb_rating</th>\n",
       "    </tr>\n",
       "  </thead>\n",
       "  <tbody>\n",
       "    <tr>\n",
       "      <th>0</th>\n",
       "      <td>1</td>\n",
       "      <td>1</td>\n",
       "      <td>The Pilot</td>\n",
       "      <td>James Burrows</td>\n",
       "      <td>David Crane &amp; Marta Kauffman</td>\n",
       "      <td>9/22/94</td>\n",
       "      <td>21.50</td>\n",
       "      <td>8.3</td>\n",
       "    </tr>\n",
       "    <tr>\n",
       "      <th>1</th>\n",
       "      <td>1</td>\n",
       "      <td>2</td>\n",
       "      <td>The One with the Sonogram at the End</td>\n",
       "      <td>James Burrows</td>\n",
       "      <td>David Crane &amp; Marta Kauffman</td>\n",
       "      <td>9/29/94</td>\n",
       "      <td>20.20</td>\n",
       "      <td>8.1</td>\n",
       "    </tr>\n",
       "    <tr>\n",
       "      <th>2</th>\n",
       "      <td>1</td>\n",
       "      <td>3</td>\n",
       "      <td>The One with the Thumb</td>\n",
       "      <td>James Burrows</td>\n",
       "      <td>Jeffrey Astrof &amp; Mike Sikowitz</td>\n",
       "      <td>10/6/94</td>\n",
       "      <td>19.50</td>\n",
       "      <td>8.2</td>\n",
       "    </tr>\n",
       "    <tr>\n",
       "      <th>3</th>\n",
       "      <td>1</td>\n",
       "      <td>4</td>\n",
       "      <td>The One with George Stephanopoulos</td>\n",
       "      <td>James Burrows</td>\n",
       "      <td>Alexa Junge</td>\n",
       "      <td>10/13/94</td>\n",
       "      <td>19.70</td>\n",
       "      <td>8.1</td>\n",
       "    </tr>\n",
       "    <tr>\n",
       "      <th>4</th>\n",
       "      <td>1</td>\n",
       "      <td>5</td>\n",
       "      <td>The One with the East German Laundry Detergent</td>\n",
       "      <td>Pamela Fryman</td>\n",
       "      <td>Jeff Greenstein &amp; Jeff Strauss</td>\n",
       "      <td>10/20/94</td>\n",
       "      <td>18.60</td>\n",
       "      <td>8.5</td>\n",
       "    </tr>\n",
       "    <tr>\n",
       "      <th>...</th>\n",
       "      <td>...</td>\n",
       "      <td>...</td>\n",
       "      <td>...</td>\n",
       "      <td>...</td>\n",
       "      <td>...</td>\n",
       "      <td>...</td>\n",
       "      <td>...</td>\n",
       "      <td>...</td>\n",
       "    </tr>\n",
       "    <tr>\n",
       "      <th>231</th>\n",
       "      <td>10</td>\n",
       "      <td>14</td>\n",
       "      <td>The One with Princess Consuela</td>\n",
       "      <td>Gary Halvorson</td>\n",
       "      <td>Story by: Robert CarlockTeleplay by: Tracy Reilly</td>\n",
       "      <td>2/26/04</td>\n",
       "      <td>22.83</td>\n",
       "      <td>8.6</td>\n",
       "    </tr>\n",
       "    <tr>\n",
       "      <th>232</th>\n",
       "      <td>10</td>\n",
       "      <td>15</td>\n",
       "      <td>The One Where Estelle Dies</td>\n",
       "      <td>Gary Halvorson</td>\n",
       "      <td>Story by: Mark KunerthTeleplay by: David Crane...</td>\n",
       "      <td>4/22/04</td>\n",
       "      <td>22.64</td>\n",
       "      <td>8.5</td>\n",
       "    </tr>\n",
       "    <tr>\n",
       "      <th>233</th>\n",
       "      <td>10</td>\n",
       "      <td>16</td>\n",
       "      <td>The One with Rachel's Going Away Party</td>\n",
       "      <td>Gary Halvorson</td>\n",
       "      <td>Andrew Reich &amp; Ted Cohen</td>\n",
       "      <td>4/29/04</td>\n",
       "      <td>24.51</td>\n",
       "      <td>8.9</td>\n",
       "    </tr>\n",
       "    <tr>\n",
       "      <th>234</th>\n",
       "      <td>10</td>\n",
       "      <td>17</td>\n",
       "      <td>The Last One</td>\n",
       "      <td>Kevin S. Bright</td>\n",
       "      <td>Marta Kauffman &amp; David Crane</td>\n",
       "      <td>5/6/04</td>\n",
       "      <td>52.46</td>\n",
       "      <td>9.7</td>\n",
       "    </tr>\n",
       "    <tr>\n",
       "      <th>235</th>\n",
       "      <td>10</td>\n",
       "      <td>18</td>\n",
       "      <td>The Last One</td>\n",
       "      <td>Kevin S. Bright</td>\n",
       "      <td>Marta Kauffman &amp; David Crane</td>\n",
       "      <td>5/6/04</td>\n",
       "      <td>52.46</td>\n",
       "      <td>9.7</td>\n",
       "    </tr>\n",
       "  </tbody>\n",
       "</table>\n",
       "<p>236 rows × 8 columns</p>\n",
       "</div>"
      ],
      "text/plain": [
       "     season  episode                                           title  \\\n",
       "0         1        1                                       The Pilot   \n",
       "1         1        2            The One with the Sonogram at the End   \n",
       "2         1        3                          The One with the Thumb   \n",
       "3         1        4              The One with George Stephanopoulos   \n",
       "4         1        5  The One with the East German Laundry Detergent   \n",
       "..      ...      ...                                             ...   \n",
       "231      10       14                  The One with Princess Consuela   \n",
       "232      10       15                      The One Where Estelle Dies   \n",
       "233      10       16          The One with Rachel's Going Away Party   \n",
       "234      10       17                                    The Last One   \n",
       "235      10       18                                    The Last One   \n",
       "\n",
       "         directed_by                                         written_by  \\\n",
       "0      James Burrows                       David Crane & Marta Kauffman   \n",
       "1      James Burrows                       David Crane & Marta Kauffman   \n",
       "2      James Burrows                     Jeffrey Astrof & Mike Sikowitz   \n",
       "3      James Burrows                                        Alexa Junge   \n",
       "4      Pamela Fryman                     Jeff Greenstein & Jeff Strauss   \n",
       "..               ...                                                ...   \n",
       "231   Gary Halvorson  Story by: Robert CarlockTeleplay by: Tracy Reilly   \n",
       "232   Gary Halvorson  Story by: Mark KunerthTeleplay by: David Crane...   \n",
       "233   Gary Halvorson                           Andrew Reich & Ted Cohen   \n",
       "234  Kevin S. Bright                       Marta Kauffman & David Crane   \n",
       "235  Kevin S. Bright                       Marta Kauffman & David Crane   \n",
       "\n",
       "     air_date  us_views_millions  imdb_rating  \n",
       "0     9/22/94              21.50          8.3  \n",
       "1     9/29/94              20.20          8.1  \n",
       "2     10/6/94              19.50          8.2  \n",
       "3    10/13/94              19.70          8.1  \n",
       "4    10/20/94              18.60          8.5  \n",
       "..        ...                ...          ...  \n",
       "231   2/26/04              22.83          8.6  \n",
       "232   4/22/04              22.64          8.5  \n",
       "233   4/29/04              24.51          8.9  \n",
       "234    5/6/04              52.46          9.7  \n",
       "235    5/6/04              52.46          9.7  \n",
       "\n",
       "[236 rows x 8 columns]"
      ]
     },
     "execution_count": 80,
     "metadata": {},
     "output_type": "execute_result"
    }
   ],
   "source": [
    "episodes"
   ]
  },
  {
   "cell_type": "markdown",
   "id": "dc0647b5",
   "metadata": {},
   "source": [
    "You'll notice that we have data about viewership and rating for 236 episodes (10 seasons). Let's start by labeling the episodes in `episodes` to make it easier to answer our question: \n",
    "> *Which half of the show has more viewers?*\n",
    "\n",
    "**Question 5.1.** Create a DataFrame called `halves` which has the same data as `episodes` and an additional column called `'which_half'`. In this column, values should be either `'first half'` (for seasons 1-5) or `'second half'` (for seasons 6-10)."
   ]
  },
  {
   "cell_type": "code",
   "execution_count": 81,
   "id": "af166305",
   "metadata": {},
   "outputs": [],
   "source": [
    "# halves1 = episodes[episodes.get(\"season\") <= 5]\n",
    "# halves2 = episodes[episodes.get(\"season\") > 5]    \n",
    "\n"
   ]
  },
  {
   "cell_type": "code",
   "execution_count": 82,
   "id": "1a39de21",
   "metadata": {
    "scrolled": true
   },
   "outputs": [
    {
     "data": {
      "text/html": [
       "<div>\n",
       "<style scoped>\n",
       "    .dataframe tbody tr th:only-of-type {\n",
       "        vertical-align: middle;\n",
       "    }\n",
       "\n",
       "    .dataframe tbody tr th {\n",
       "        vertical-align: top;\n",
       "    }\n",
       "\n",
       "    .dataframe thead th {\n",
       "        text-align: right;\n",
       "    }\n",
       "</style>\n",
       "<table border=\"1\" class=\"dataframe\">\n",
       "  <thead>\n",
       "    <tr style=\"text-align: right;\">\n",
       "      <th></th>\n",
       "      <th>season</th>\n",
       "      <th>episode</th>\n",
       "      <th>title</th>\n",
       "      <th>directed_by</th>\n",
       "      <th>written_by</th>\n",
       "      <th>air_date</th>\n",
       "      <th>us_views_millions</th>\n",
       "      <th>imdb_rating</th>\n",
       "      <th>which_half</th>\n",
       "    </tr>\n",
       "  </thead>\n",
       "  <tbody>\n",
       "    <tr>\n",
       "      <th>0</th>\n",
       "      <td>1</td>\n",
       "      <td>1</td>\n",
       "      <td>The Pilot</td>\n",
       "      <td>James Burrows</td>\n",
       "      <td>David Crane &amp; Marta Kauffman</td>\n",
       "      <td>9/22/94</td>\n",
       "      <td>21.50</td>\n",
       "      <td>8.3</td>\n",
       "      <td>first half</td>\n",
       "    </tr>\n",
       "    <tr>\n",
       "      <th>1</th>\n",
       "      <td>1</td>\n",
       "      <td>2</td>\n",
       "      <td>The One with the Sonogram at the End</td>\n",
       "      <td>James Burrows</td>\n",
       "      <td>David Crane &amp; Marta Kauffman</td>\n",
       "      <td>9/29/94</td>\n",
       "      <td>20.20</td>\n",
       "      <td>8.1</td>\n",
       "      <td>first half</td>\n",
       "    </tr>\n",
       "    <tr>\n",
       "      <th>2</th>\n",
       "      <td>1</td>\n",
       "      <td>3</td>\n",
       "      <td>The One with the Thumb</td>\n",
       "      <td>James Burrows</td>\n",
       "      <td>Jeffrey Astrof &amp; Mike Sikowitz</td>\n",
       "      <td>10/6/94</td>\n",
       "      <td>19.50</td>\n",
       "      <td>8.2</td>\n",
       "      <td>first half</td>\n",
       "    </tr>\n",
       "    <tr>\n",
       "      <th>3</th>\n",
       "      <td>1</td>\n",
       "      <td>4</td>\n",
       "      <td>The One with George Stephanopoulos</td>\n",
       "      <td>James Burrows</td>\n",
       "      <td>Alexa Junge</td>\n",
       "      <td>10/13/94</td>\n",
       "      <td>19.70</td>\n",
       "      <td>8.1</td>\n",
       "      <td>first half</td>\n",
       "    </tr>\n",
       "    <tr>\n",
       "      <th>4</th>\n",
       "      <td>1</td>\n",
       "      <td>5</td>\n",
       "      <td>The One with the East German Laundry Detergent</td>\n",
       "      <td>Pamela Fryman</td>\n",
       "      <td>Jeff Greenstein &amp; Jeff Strauss</td>\n",
       "      <td>10/20/94</td>\n",
       "      <td>18.60</td>\n",
       "      <td>8.5</td>\n",
       "      <td>first half</td>\n",
       "    </tr>\n",
       "    <tr>\n",
       "      <th>...</th>\n",
       "      <td>...</td>\n",
       "      <td>...</td>\n",
       "      <td>...</td>\n",
       "      <td>...</td>\n",
       "      <td>...</td>\n",
       "      <td>...</td>\n",
       "      <td>...</td>\n",
       "      <td>...</td>\n",
       "      <td>...</td>\n",
       "    </tr>\n",
       "    <tr>\n",
       "      <th>231</th>\n",
       "      <td>10</td>\n",
       "      <td>14</td>\n",
       "      <td>The One with Princess Consuela</td>\n",
       "      <td>Gary Halvorson</td>\n",
       "      <td>Story by: Robert CarlockTeleplay by: Tracy Reilly</td>\n",
       "      <td>2/26/04</td>\n",
       "      <td>22.83</td>\n",
       "      <td>8.6</td>\n",
       "      <td>second half</td>\n",
       "    </tr>\n",
       "    <tr>\n",
       "      <th>232</th>\n",
       "      <td>10</td>\n",
       "      <td>15</td>\n",
       "      <td>The One Where Estelle Dies</td>\n",
       "      <td>Gary Halvorson</td>\n",
       "      <td>Story by: Mark KunerthTeleplay by: David Crane...</td>\n",
       "      <td>4/22/04</td>\n",
       "      <td>22.64</td>\n",
       "      <td>8.5</td>\n",
       "      <td>second half</td>\n",
       "    </tr>\n",
       "    <tr>\n",
       "      <th>233</th>\n",
       "      <td>10</td>\n",
       "      <td>16</td>\n",
       "      <td>The One with Rachel's Going Away Party</td>\n",
       "      <td>Gary Halvorson</td>\n",
       "      <td>Andrew Reich &amp; Ted Cohen</td>\n",
       "      <td>4/29/04</td>\n",
       "      <td>24.51</td>\n",
       "      <td>8.9</td>\n",
       "      <td>second half</td>\n",
       "    </tr>\n",
       "    <tr>\n",
       "      <th>234</th>\n",
       "      <td>10</td>\n",
       "      <td>17</td>\n",
       "      <td>The Last One</td>\n",
       "      <td>Kevin S. Bright</td>\n",
       "      <td>Marta Kauffman &amp; David Crane</td>\n",
       "      <td>5/6/04</td>\n",
       "      <td>52.46</td>\n",
       "      <td>9.7</td>\n",
       "      <td>second half</td>\n",
       "    </tr>\n",
       "    <tr>\n",
       "      <th>235</th>\n",
       "      <td>10</td>\n",
       "      <td>18</td>\n",
       "      <td>The Last One</td>\n",
       "      <td>Kevin S. Bright</td>\n",
       "      <td>Marta Kauffman &amp; David Crane</td>\n",
       "      <td>5/6/04</td>\n",
       "      <td>52.46</td>\n",
       "      <td>9.7</td>\n",
       "      <td>second half</td>\n",
       "    </tr>\n",
       "  </tbody>\n",
       "</table>\n",
       "<p>236 rows × 9 columns</p>\n",
       "</div>"
      ],
      "text/plain": [
       "     season  episode                                           title  \\\n",
       "0         1        1                                       The Pilot   \n",
       "1         1        2            The One with the Sonogram at the End   \n",
       "2         1        3                          The One with the Thumb   \n",
       "3         1        4              The One with George Stephanopoulos   \n",
       "4         1        5  The One with the East German Laundry Detergent   \n",
       "..      ...      ...                                             ...   \n",
       "231      10       14                  The One with Princess Consuela   \n",
       "232      10       15                      The One Where Estelle Dies   \n",
       "233      10       16          The One with Rachel's Going Away Party   \n",
       "234      10       17                                    The Last One   \n",
       "235      10       18                                    The Last One   \n",
       "\n",
       "         directed_by                                         written_by  \\\n",
       "0      James Burrows                       David Crane & Marta Kauffman   \n",
       "1      James Burrows                       David Crane & Marta Kauffman   \n",
       "2      James Burrows                     Jeffrey Astrof & Mike Sikowitz   \n",
       "3      James Burrows                                        Alexa Junge   \n",
       "4      Pamela Fryman                     Jeff Greenstein & Jeff Strauss   \n",
       "..               ...                                                ...   \n",
       "231   Gary Halvorson  Story by: Robert CarlockTeleplay by: Tracy Reilly   \n",
       "232   Gary Halvorson  Story by: Mark KunerthTeleplay by: David Crane...   \n",
       "233   Gary Halvorson                           Andrew Reich & Ted Cohen   \n",
       "234  Kevin S. Bright                       Marta Kauffman & David Crane   \n",
       "235  Kevin S. Bright                       Marta Kauffman & David Crane   \n",
       "\n",
       "     air_date  us_views_millions  imdb_rating   which_half  \n",
       "0     9/22/94              21.50          8.3   first half  \n",
       "1     9/29/94              20.20          8.1   first half  \n",
       "2     10/6/94              19.50          8.2   first half  \n",
       "3    10/13/94              19.70          8.1   first half  \n",
       "4    10/20/94              18.60          8.5   first half  \n",
       "..        ...                ...          ...          ...  \n",
       "231   2/26/04              22.83          8.6  second half  \n",
       "232   4/22/04              22.64          8.5  second half  \n",
       "233   4/29/04              24.51          8.9  second half  \n",
       "234    5/6/04              52.46          9.7  second half  \n",
       "235    5/6/04              52.46          9.7  second half  \n",
       "\n",
       "[236 rows x 9 columns]"
      ]
     },
     "execution_count": 82,
     "metadata": {},
     "output_type": "execute_result"
    }
   ],
   "source": [
    "def determine_halves(season):\n",
    "    if season <= 5 :\n",
    "        return 'first half'\n",
    "    else: \n",
    "        return 'second half'\n",
    "\n",
    "halves = episodes.assign(which_half = episodes.get('season').apply(determine_halves))\n",
    "halves"
   ]
  },
  {
   "cell_type": "code",
   "execution_count": 83,
   "id": "1eceacb3",
   "metadata": {
    "deletable": false,
    "editable": false
   },
   "outputs": [
    {
     "data": {
      "text/html": [
       "<p><strong><pre style='display: inline;'>q5_1</pre></strong> passed!</p>"
      ],
      "text/plain": [
       "q5_1 results: All test cases passed!"
      ]
     },
     "execution_count": 83,
     "metadata": {},
     "output_type": "execute_result"
    }
   ],
   "source": [
    "grader.check(\"q5_1\")"
   ]
  },
  {
   "cell_type": "markdown",
   "id": "efdcc6c8",
   "metadata": {},
   "source": [
    "**Question 5.2.** Before we start permutation testing, let's visualize the difference in viewership between the first half and second half of *Friends* episodes. Create an overlaid density histogram that compares the distribution of `'us_views_millions'` for first half episodes with that of second half episodes. Add a title, legend, and appropriate axis labels to your plot.\n",
    "\n",
    "Then, assign the difference in **average** viewership (in millions) between the two groups to the variable <code>view_difference</code>. Here, `view_difference` should represent how much **greater** the first half viewership is than the second half, on average.\n",
    "\n",
    "***Hint:***  Refer to the smoking and birth weight example in [Lecture 22](https://dsc10.com/resources/lectures/lec22/lec22.html#Visualizing-the-distribution-of-each-group) for help creating the overlaid histogram! Think about what bin size is best suited to show the differences between these two distributions. You might want to tweak the bins until the differences become clearer. "
   ]
  },
  {
   "cell_type": "markdown",
   "id": "9657fb4e",
   "metadata": {
    "deletable": false,
    "editable": false
   },
   "source": [
    "<!-- BEGIN QUESTION -->\n",
    "\n",
    "<!--\n",
    "BEGIN QUESTION\n",
    "name: q5_2\n",
    "points: 1\n",
    "manual: True\n",
    "-->"
   ]
  },
  {
   "cell_type": "code",
   "execution_count": 84,
   "id": "b6badc6b",
   "metadata": {},
   "outputs": [
    {
     "data": {
      "text/plain": [
       "2.322696370822854"
      ]
     },
     "execution_count": 84,
     "metadata": {},
     "output_type": "execute_result"
    },
    {
     "data": {
      "image/png": "[encoded data removed]",
      "text/plain": [
       "<Figure size 432x288 with 1 Axes>"
      ]
     },
     "metadata": {},
     "output_type": "display_data"
    }
   ],
   "source": [
    "fig, ax = plt.subplots()\n",
    "\n",
    "half1 = halves[halves.get(\"which_half\") == \"first half\"]\n",
    "half2 = halves[halves.get(\"which_half\") == \"second half\"]\n",
    "bpd.DataFrame().assign(first_half = half1.get('us_views_millions')).plot(kind = \"hist\", density = True, bins = 20, alpha = 0.5,ax=ax, title = \"Difference in Views 1\", ec = 'w')\n",
    "bpd.DataFrame().assign(second_half = half2.get('us_views_millions')).plot(kind = \"hist\", density = True, bins = 20, alpha = 0.5, ax=ax, title = \"Difference in Views\", ec = 'w')\n",
    "\n",
    "\n",
    "\n",
    "view_difference = half1.get('us_views_millions').mean() - half2.get('us_views_millions').mean()\n",
    "view_difference"
   ]
  },
  {
   "cell_type": "code",
   "execution_count": 85,
   "id": "bd24e326",
   "metadata": {
    "deletable": false,
    "editable": false
   },
   "outputs": [
    {
     "data": {
      "text/html": [
       "<p><strong><pre style='display: inline;'>q5_2</pre></strong> passed!</p>"
      ],
      "text/plain": [
       "q5_2 results: All test cases passed!"
      ]
     },
     "execution_count": 85,
     "metadata": {},
     "output_type": "execute_result"
    }
   ],
   "source": [
    "grader.check(\"q5_2\")"
   ]
  },
  {
   "cell_type": "markdown",
   "id": "d3801a74",
   "metadata": {},
   "source": [
    "<!-- END QUESTION -->\n",
    "\n",
    "\n",
    "\n",
    "You should see that viewership was higher in the first half of *Friends* than in the second. Is this difference significant or was it just by chance? Let's perform a permutation test to find out.\n",
    "\n",
    "**Question 5.3.** ⭐⭐ Let's clean up our DataFrame to focus only on the columns `'us_views_millions'` and `'which_half'`. To start, create a DataFrame <code>'views_by_group'</code> that only includes these two columns from `halves`. \n",
    "\n",
    "We would like to know whether the first half of episodes had significantly **more** viewership than the second half on average. Think about what your null and alternative hypotheses would be to answer this question. \n",
    "\n",
    "In the previous question, you computed the *observed statistic*, the average number of views by which the first half exceeds the second half. Perform a permutation test, simulating 1000 differences and storing them in the array <code>simulated_differences</code>. \n",
    "\n",
    "Once you're done, generate a density histogram of the simulated differences, which also shows your observed statistic for comparison. See [Lecture 19](https://dsc10.com/resources/lectures/lec19/lec19.html#Step-3-%E2%80%93-Visualize-the-resulting-distribution) for an example of the type of plot you'll need to create."
   ]
  },
  {
   "cell_type": "code",
   "execution_count": 86,
   "id": "a5e955ca",
   "metadata": {
    "scrolled": true
   },
   "outputs": [
    {
     "data": {
      "text/plain": [
       "<AxesSubplot:ylabel='Frequency'>"
      ]
     },
     "execution_count": 86,
     "metadata": {},
     "output_type": "execute_result"
    },
    {
     "data": {
      "image/png": "[encoded data removed]",
      "text/plain": [
       "<Figure size 432x288 with 1 Axes>"
      ]
     },
     "metadata": {},
     "output_type": "display_data"
    }
   ],
   "source": [
    "views_by_group = halves.get(['us_views_millions', 'which_half'])\n",
    "simulated_differences = np.array([])\n",
    "\n",
    "for i in range(1000):\n",
    "    simulated_views_by_group = views_by_group.assign(shuffle = np.random.permutation(views_by_group.get('which_half')))\n",
    "    simulated_stat = simulated_views_by_group[simulated_views_by_group.get('shuffle') == \"first half\"].get('us_views_millions').mean() - simulated_views_by_group[simulated_views_by_group.get('shuffle') == \"second half\"].get('us_views_millions').mean()\n",
    "    simulated_differences = np.append(simulated_differences, simulated_stat)\n",
    "\n",
    "bpd.DataFrame().assign(simulated_differences = simulated_differences).plot(kind = 'hist', density = True, ec = 'w')\n",
    "#plt.axvline(view_difference, color='black', linewidth=4, label='Observed Statistic')\n"
   ]
  },
  {
   "cell_type": "code",
   "execution_count": 87,
   "id": "48e4e5fc",
   "metadata": {
    "deletable": false,
    "editable": false
   },
   "outputs": [
    {
     "data": {
      "text/html": [
       "<p><strong><pre style='display: inline;'>q5_3</pre></strong> passed!</p>"
      ],
      "text/plain": [
       "q5_3 results: All test cases passed!"
      ]
     },
     "execution_count": 87,
     "metadata": {},
     "output_type": "execute_result"
    }
   ],
   "source": [
    "grader.check(\"q5_3\")"
   ]
  },
  {
   "cell_type": "markdown",
   "id": "e61037ca",
   "metadata": {},
   "source": [
    "**Question 5.4.** Calculate a p-value for this permutation test using the observed statistic and the simulated differences, and assign the result to `p_halves`. Then, interpret these results at the 0.05 significance level by assigning <code>True</code> to the variable <code>significant_difference</code> if you believe we can **reject** the null hypothesis and <code>False</code> otherwise."
   ]
  },
  {
   "cell_type": "code",
   "execution_count": 88,
   "id": "aba98fa5",
   "metadata": {},
   "outputs": [
    {
     "data": {
      "text/plain": [
       "0.0"
      ]
     },
     "execution_count": 88,
     "metadata": {},
     "output_type": "execute_result"
    }
   ],
   "source": [
    "p_halves = np.count_nonzero(simulated_differences >= view_difference) / 1000\n",
    "p_halves"
   ]
  },
  {
   "cell_type": "code",
   "execution_count": 89,
   "id": "7e71a5b2",
   "metadata": {
    "deletable": false,
    "editable": false
   },
   "outputs": [
    {
     "data": {
      "text/html": [
       "<p><strong><pre style='display: inline;'>q5_4_a</pre></strong> passed!</p>"
      ],
      "text/plain": [
       "q5_4_a results: All test cases passed!"
      ]
     },
     "execution_count": 89,
     "metadata": {},
     "output_type": "execute_result"
    }
   ],
   "source": [
    "grader.check(\"q5_4_a\")"
   ]
  },
  {
   "cell_type": "code",
   "execution_count": 90,
   "id": "b2c94e09",
   "metadata": {},
   "outputs": [
    {
     "data": {
      "text/plain": [
       "True"
      ]
     },
     "execution_count": 90,
     "metadata": {},
     "output_type": "execute_result"
    }
   ],
   "source": [
    "significant_difference = True\n",
    "significant_difference"
   ]
  },
  {
   "cell_type": "code",
   "execution_count": 91,
   "id": "81e86c44",
   "metadata": {
    "deletable": false,
    "editable": false
   },
   "outputs": [
    {
     "data": {
      "text/html": [
       "<p><strong><pre style='display: inline;'>q5_4_b</pre></strong> passed!</p>"
      ],
      "text/plain": [
       "q5_4_b results: All test cases passed!"
      ]
     },
     "execution_count": 91,
     "metadata": {},
     "output_type": "execute_result"
    }
   ],
   "source": [
    "grader.check(\"q5_4_b\")"
   ]
  },
  {
   "cell_type": "markdown",
   "id": "a3a57077",
   "metadata": {},
   "source": [
    "We've answered our first question with permutation testing, which helped us figure out whether there was a significant difference in viewership between two groups of episodes. We can use this insight when determining how many episodes our reboot should have. We'll explore the length of our reboot more in Section 7 of this project.\n",
    "\n",
    "Now, let's ask a different question that can be solved by the same tools: \n",
    "> *Do people prefer episodes where at least two of the main characters are in a romantic relationship over episodes where there aren't any couples?*"
   ]
  },
  {
   "cell_type": "markdown",
   "id": "119d6e9e",
   "metadata": {},
   "source": [
    "First, we need to label which episodes have an ongoing romantic relationship. \n",
    "\n",
    "<b><font color='red'>⚠ Spoiler alert! ⚠</font></b>\n",
    "\n",
    "In the show, there are two couples that each date for a period of time. \n",
    " - Ross and Rachel are in a relationship from Season 2, Episode 14 to Season 3, Episode 15, inclusive.\n",
    " - Monica and Chandler are in a relationship from Season 4, Episode 24 to Season 10, Episode 18, inclusive, which is through the end of the show.\n",
    " \n",
    "**Question 5.5.** ⭐⭐ Create a new DataFrame called `relationship` that has the same information as `episodes` and an additional column called `'couple'` that contains `True` if the episode falls in one of the intervals mentioned above, and `False` otherwise. \n",
    "\n",
    "***Hints:*** \n",
    "- To solve this problem with `apply`, you need to get around the limitation that you can only `apply` a function of one parameter. Consider writing a function that takes strings of the form `'x,y'` where `x` represents the season number and `y` represents the episode number.\n",
    "- It is also possible to solve this problem without using `apply`. For a challenge, try both ways and see which way is simpler!"
   ]
  },
  {
   "cell_type": "code",
   "execution_count": 92,
   "id": "7ddf057c",
   "metadata": {},
   "outputs": [
    {
     "data": {
      "text/html": [
       "<div>\n",
       "<style scoped>\n",
       "    .dataframe tbody tr th:only-of-type {\n",
       "        vertical-align: middle;\n",
       "    }\n",
       "\n",
       "    .dataframe tbody tr th {\n",
       "        vertical-align: top;\n",
       "    }\n",
       "\n",
       "    .dataframe thead th {\n",
       "        text-align: right;\n",
       "    }\n",
       "</style>\n",
       "<table border=\"1\" class=\"dataframe\">\n",
       "  <thead>\n",
       "    <tr style=\"text-align: right;\">\n",
       "      <th></th>\n",
       "      <th>season</th>\n",
       "      <th>episode</th>\n",
       "      <th>title</th>\n",
       "      <th>directed_by</th>\n",
       "      <th>written_by</th>\n",
       "      <th>air_date</th>\n",
       "      <th>us_views_millions</th>\n",
       "      <th>imdb_rating</th>\n",
       "      <th>couple</th>\n",
       "    </tr>\n",
       "  </thead>\n",
       "  <tbody>\n",
       "    <tr>\n",
       "      <th>0</th>\n",
       "      <td>1</td>\n",
       "      <td>1</td>\n",
       "      <td>The Pilot</td>\n",
       "      <td>James Burrows</td>\n",
       "      <td>David Crane &amp; Marta Kauffman</td>\n",
       "      <td>9/22/94</td>\n",
       "      <td>21.50</td>\n",
       "      <td>8.3</td>\n",
       "      <td>False</td>\n",
       "    </tr>\n",
       "    <tr>\n",
       "      <th>1</th>\n",
       "      <td>1</td>\n",
       "      <td>2</td>\n",
       "      <td>The One with the Sonogram at the End</td>\n",
       "      <td>James Burrows</td>\n",
       "      <td>David Crane &amp; Marta Kauffman</td>\n",
       "      <td>9/29/94</td>\n",
       "      <td>20.20</td>\n",
       "      <td>8.1</td>\n",
       "      <td>False</td>\n",
       "    </tr>\n",
       "    <tr>\n",
       "      <th>2</th>\n",
       "      <td>1</td>\n",
       "      <td>3</td>\n",
       "      <td>The One with the Thumb</td>\n",
       "      <td>James Burrows</td>\n",
       "      <td>Jeffrey Astrof &amp; Mike Sikowitz</td>\n",
       "      <td>10/6/94</td>\n",
       "      <td>19.50</td>\n",
       "      <td>8.2</td>\n",
       "      <td>False</td>\n",
       "    </tr>\n",
       "    <tr>\n",
       "      <th>3</th>\n",
       "      <td>1</td>\n",
       "      <td>4</td>\n",
       "      <td>The One with George Stephanopoulos</td>\n",
       "      <td>James Burrows</td>\n",
       "      <td>Alexa Junge</td>\n",
       "      <td>10/13/94</td>\n",
       "      <td>19.70</td>\n",
       "      <td>8.1</td>\n",
       "      <td>False</td>\n",
       "    </tr>\n",
       "    <tr>\n",
       "      <th>4</th>\n",
       "      <td>1</td>\n",
       "      <td>5</td>\n",
       "      <td>The One with the East German Laundry Detergent</td>\n",
       "      <td>Pamela Fryman</td>\n",
       "      <td>Jeff Greenstein &amp; Jeff Strauss</td>\n",
       "      <td>10/20/94</td>\n",
       "      <td>18.60</td>\n",
       "      <td>8.5</td>\n",
       "      <td>False</td>\n",
       "    </tr>\n",
       "    <tr>\n",
       "      <th>...</th>\n",
       "      <td>...</td>\n",
       "      <td>...</td>\n",
       "      <td>...</td>\n",
       "      <td>...</td>\n",
       "      <td>...</td>\n",
       "      <td>...</td>\n",
       "      <td>...</td>\n",
       "      <td>...</td>\n",
       "      <td>...</td>\n",
       "    </tr>\n",
       "    <tr>\n",
       "      <th>231</th>\n",
       "      <td>10</td>\n",
       "      <td>14</td>\n",
       "      <td>The One with Princess Consuela</td>\n",
       "      <td>Gary Halvorson</td>\n",
       "      <td>Story by: Robert CarlockTeleplay by: Tracy Reilly</td>\n",
       "      <td>2/26/04</td>\n",
       "      <td>22.83</td>\n",
       "      <td>8.6</td>\n",
       "      <td>True</td>\n",
       "    </tr>\n",
       "    <tr>\n",
       "      <th>232</th>\n",
       "      <td>10</td>\n",
       "      <td>15</td>\n",
       "      <td>The One Where Estelle Dies</td>\n",
       "      <td>Gary Halvorson</td>\n",
       "      <td>Story by: Mark KunerthTeleplay by: David Crane...</td>\n",
       "      <td>4/22/04</td>\n",
       "      <td>22.64</td>\n",
       "      <td>8.5</td>\n",
       "      <td>True</td>\n",
       "    </tr>\n",
       "    <tr>\n",
       "      <th>233</th>\n",
       "      <td>10</td>\n",
       "      <td>16</td>\n",
       "      <td>The One with Rachel's Going Away Party</td>\n",
       "      <td>Gary Halvorson</td>\n",
       "      <td>Andrew Reich &amp; Ted Cohen</td>\n",
       "      <td>4/29/04</td>\n",
       "      <td>24.51</td>\n",
       "      <td>8.9</td>\n",
       "      <td>True</td>\n",
       "    </tr>\n",
       "    <tr>\n",
       "      <th>234</th>\n",
       "      <td>10</td>\n",
       "      <td>17</td>\n",
       "      <td>The Last One</td>\n",
       "      <td>Kevin S. Bright</td>\n",
       "      <td>Marta Kauffman &amp; David Crane</td>\n",
       "      <td>5/6/04</td>\n",
       "      <td>52.46</td>\n",
       "      <td>9.7</td>\n",
       "      <td>True</td>\n",
       "    </tr>\n",
       "    <tr>\n",
       "      <th>235</th>\n",
       "      <td>10</td>\n",
       "      <td>18</td>\n",
       "      <td>The Last One</td>\n",
       "      <td>Kevin S. Bright</td>\n",
       "      <td>Marta Kauffman &amp; David Crane</td>\n",
       "      <td>5/6/04</td>\n",
       "      <td>52.46</td>\n",
       "      <td>9.7</td>\n",
       "      <td>True</td>\n",
       "    </tr>\n",
       "  </tbody>\n",
       "</table>\n",
       "<p>236 rows × 9 columns</p>\n",
       "</div>"
      ],
      "text/plain": [
       "     season  episode                                           title  \\\n",
       "0         1        1                                       The Pilot   \n",
       "1         1        2            The One with the Sonogram at the End   \n",
       "2         1        3                          The One with the Thumb   \n",
       "3         1        4              The One with George Stephanopoulos   \n",
       "4         1        5  The One with the East German Laundry Detergent   \n",
       "..      ...      ...                                             ...   \n",
       "231      10       14                  The One with Princess Consuela   \n",
       "232      10       15                      The One Where Estelle Dies   \n",
       "233      10       16          The One with Rachel's Going Away Party   \n",
       "234      10       17                                    The Last One   \n",
       "235      10       18                                    The Last One   \n",
       "\n",
       "         directed_by                                         written_by  \\\n",
       "0      James Burrows                       David Crane & Marta Kauffman   \n",
       "1      James Burrows                       David Crane & Marta Kauffman   \n",
       "2      James Burrows                     Jeffrey Astrof & Mike Sikowitz   \n",
       "3      James Burrows                                        Alexa Junge   \n",
       "4      Pamela Fryman                     Jeff Greenstein & Jeff Strauss   \n",
       "..               ...                                                ...   \n",
       "231   Gary Halvorson  Story by: Robert CarlockTeleplay by: Tracy Reilly   \n",
       "232   Gary Halvorson  Story by: Mark KunerthTeleplay by: David Crane...   \n",
       "233   Gary Halvorson                           Andrew Reich & Ted Cohen   \n",
       "234  Kevin S. Bright                       Marta Kauffman & David Crane   \n",
       "235  Kevin S. Bright                       Marta Kauffman & David Crane   \n",
       "\n",
       "     air_date  us_views_millions  imdb_rating  couple  \n",
       "0     9/22/94              21.50          8.3   False  \n",
       "1     9/29/94              20.20          8.1   False  \n",
       "2     10/6/94              19.50          8.2   False  \n",
       "3    10/13/94              19.70          8.1   False  \n",
       "4    10/20/94              18.60          8.5   False  \n",
       "..        ...                ...          ...     ...  \n",
       "231   2/26/04              22.83          8.6    True  \n",
       "232   4/22/04              22.64          8.5    True  \n",
       "233   4/29/04              24.51          8.9    True  \n",
       "234    5/6/04              52.46          9.7    True  \n",
       "235    5/6/04              52.46          9.7    True  \n",
       "\n",
       "[236 rows x 9 columns]"
      ]
     },
     "execution_count": 92,
     "metadata": {},
     "output_type": "execute_result"
    }
   ],
   "source": [
    "sea = episodes.get('season')\n",
    "ep = episodes.get('episode')\n",
    "Are_Dating = []\n",
    "# def Are_Dating(episodes):\n",
    "#     if(((episodes.get(\"season\") == 2) & (episodes.get(\"episode\") >= 14)) | ((episodes.get(\"season\") == 3) & (episodes.get(\"episode\") <= 15))):\n",
    "#         return True\n",
    "#     elif((episodes.get(\"season\") == 4) & (episodes.get(\"episode\") >= 24)):\n",
    "#         return True\n",
    "#     elif (episodes.get(\"season\") > 4):\n",
    "#         return True\n",
    "#     else:\n",
    "#         return False\n",
    "\n",
    "for i in range(episodes.shape[0]):\n",
    "    num = [sea.loc[i], ep.loc[i]]\n",
    "    if (((num[0] == 2) & (num[1] >= 14)) | ((num[0] == 3) & (num[1] <= 15))):        \n",
    "        Are_Dating.append(True)\n",
    "    elif((num[0] == 4) & (num[1] >= 24)):\n",
    "        Are_Dating.append(True)\n",
    "    elif (num[0] > 4):\n",
    "        Are_Dating.append(True)\n",
    "    else:\n",
    "        Are_Dating.append(False)\n",
    "    \n",
    "Are_Dating\n",
    "\n",
    "relationship = episodes.assign(couple = Are_Dating)\n",
    "relationship"
   ]
  },
  {
   "cell_type": "code",
   "execution_count": 93,
   "id": "37627441",
   "metadata": {
    "deletable": false,
    "editable": false
   },
   "outputs": [
    {
     "data": {
      "text/html": [
       "<p><strong><pre style='display: inline;'>q5_5</pre></strong> passed!</p>"
      ],
      "text/plain": [
       "q5_5 results: All test cases passed!"
      ]
     },
     "execution_count": 93,
     "metadata": {},
     "output_type": "execute_result"
    }
   ],
   "source": [
    "grader.check(\"q5_5\")"
   ]
  },
  {
   "cell_type": "markdown",
   "id": "95e8dc40",
   "metadata": {},
   "source": [
    "**Question 5.6.**  Now, let's state the hypotheses for our permutation test to answer the question:\n",
    "> *Do episodes where characters **are** in a relationship have higher ratings than those where characters **aren't** in a relationship?*\n",
    "\n",
    "Consider the following choices for statements of the null and alternative hypotheses. For simplicity, let us call the relationship group \"R\" (for \"relationship\") and the non-relationship group \"S\" (for \"single\"). \n",
    "\n",
    "1. There is no difference in average episode rating between groups R and S.</li>\n",
    "1. There is a difference in average episode rating between groups R and S.</li>\n",
    "1. Group R has a higher rating than Group S, on average.</li>\n",
    "1. Group S has a higher rating than Group R, on average.</li>\n",
    "\n",
    "Set `null_choice` to a number 1 through 4, corresponding to your choice for the null hypothesis. Set `alternative_choice` to a number 1 through 4, corresponding to your choice for the alternative hypothesis. "
   ]
  },
  {
   "cell_type": "code",
   "execution_count": 94,
   "id": "b319807d",
   "metadata": {},
   "outputs": [],
   "source": [
    "null_choice = 1\n",
    "alternative_choice = 3"
   ]
  },
  {
   "cell_type": "code",
   "execution_count": 95,
   "id": "4c399824",
   "metadata": {
    "deletable": false,
    "editable": false
   },
   "outputs": [
    {
     "data": {
      "text/html": [
       "<p><strong><pre style='display: inline;'>q5_6</pre></strong> passed!</p>"
      ],
      "text/plain": [
       "q5_6 results: All test cases passed!"
      ]
     },
     "execution_count": 95,
     "metadata": {},
     "output_type": "execute_result"
    }
   ],
   "source": [
    "grader.check(\"q5_6\")"
   ]
  },
  {
   "cell_type": "markdown",
   "id": "2c9a33a7",
   "metadata": {},
   "source": [
    "**Question 5.7.** Using the <code>relationship</code> DataFrame, compute the *observed statistic* representing the difference in mean rating between groups of episodes that have relationships (R) versus those that don't (S), in the order of R minus S. Store your result in the variable <code>couple_observed</code>. "
   ]
  },
  {
   "cell_type": "code",
   "execution_count": 96,
   "id": "6e978785",
   "metadata": {},
   "outputs": [
    {
     "data": {
      "text/plain": [
       "0.10969018932874341"
      ]
     },
     "execution_count": 96,
     "metadata": {},
     "output_type": "execute_result"
    }
   ],
   "source": [
    "couple_observed = relationship[relationship.get(\"couple\")].get(\"imdb_rating\").mean() - relationship[relationship.get(\"couple\") == False].get(\"imdb_rating\").mean()\n",
    "couple_observed"
   ]
  },
  {
   "cell_type": "code",
   "execution_count": 97,
   "id": "2c1397f2",
   "metadata": {
    "deletable": false,
    "editable": false
   },
   "outputs": [
    {
     "data": {
      "text/html": [
       "<p><strong><pre style='display: inline;'>q5_7</pre></strong> passed!</p>"
      ],
      "text/plain": [
       "q5_7 results: All test cases passed!"
      ]
     },
     "execution_count": 97,
     "metadata": {},
     "output_type": "execute_result"
    }
   ],
   "source": [
    "grader.check(\"q5_7\")"
   ]
  },
  {
   "cell_type": "markdown",
   "id": "78d7a1fe",
   "metadata": {},
   "source": [
    "**Question 5.8.** Now it's time to run the permutation test. Similarly to how you did in Question 5.3, simulate 1000 differences of group means, storing them in the array `couple_stats`. Then, plot your simulated differences in rating and show how they compare to your observed statistic. Make sure you calculate your simulated differences by subtracting in the same order as you did when calculating your observed statistic."
   ]
  },
  {
   "cell_type": "code",
   "execution_count": 98,
   "id": "c50eb3d6",
   "metadata": {},
   "outputs": [
    {
     "data": {
      "text/plain": [
       "<matplotlib.legend.Legend at 0x7f6e396f16d0>"
      ]
     },
     "execution_count": 98,
     "metadata": {},
     "output_type": "execute_result"
    },
    {
     "data": {
      "image/png": "[encoded data removed]",
      "text/plain": [
       "<Figure size 432x288 with 1 Axes>"
      ]
     },
     "metadata": {},
     "output_type": "display_data"
    }
   ],
   "source": [
    "couple_stats = np.array([])\n",
    "for i in np.arange(1000):\n",
    "    relationship_sim = relationship.assign(Shuffle = np.random.permutation(relationship.get(\"imdb_rating\")))\n",
    "    test_stat = relationship_sim[relationship_sim.get(\"couple\")].get(\"Shuffle\").mean() - relationship_sim[relationship_sim.get(\"couple\") == False].get(\"Shuffle\").mean()\n",
    "    couple_stats = np.append(couple_stats, test_stat)\n",
    "bpd.DataFrame().assign(Couple_Stats = couple_stats).plot(kind = \"hist\", ec = \"w\")\n",
    "plt.axvline(couple_observed, color='black', linewidth = 2, label='Observed Statistic')\n",
    "plt.legend()"
   ]
  },
  {
   "cell_type": "code",
   "execution_count": 99,
   "id": "f1e90f5f",
   "metadata": {
    "deletable": false,
    "editable": false
   },
   "outputs": [
    {
     "data": {
      "text/html": [
       "<p><strong><pre style='display: inline;'>q5_8</pre></strong> passed!</p>"
      ],
      "text/plain": [
       "q5_8 results: All test cases passed!"
      ]
     },
     "execution_count": 99,
     "metadata": {},
     "output_type": "execute_result"
    }
   ],
   "source": [
    "grader.check(\"q5_8\")"
   ]
  },
  {
   "cell_type": "markdown",
   "id": "f095f854",
   "metadata": {},
   "source": [
    "**Question 5.9.** Calculate your p-value using the observed statistic and simulated differences, storing the result in `p_couple`. Assign <code>True</code> to the variable <code>couple_claim</code> if you believe we can **reject** the null hypothesis at the 0.05 significance level and <code>False</code> otherwise."
   ]
  },
  {
   "cell_type": "code",
   "execution_count": 100,
   "id": "edbff8d3",
   "metadata": {},
   "outputs": [
    {
     "data": {
      "text/plain": [
       "0.031"
      ]
     },
     "execution_count": 100,
     "metadata": {},
     "output_type": "execute_result"
    }
   ],
   "source": [
    "p_couple = np.count_nonzero(couple_stats >= couple_observed) / len(couple_stats)\n",
    "p_couple"
   ]
  },
  {
   "cell_type": "code",
   "execution_count": 101,
   "id": "b04240a1",
   "metadata": {
    "deletable": false,
    "editable": false
   },
   "outputs": [
    {
     "data": {
      "text/html": [
       "<p><strong><pre style='display: inline;'>q5_9_a</pre></strong> passed!</p>"
      ],
      "text/plain": [
       "q5_9_a results: All test cases passed!"
      ]
     },
     "execution_count": 101,
     "metadata": {},
     "output_type": "execute_result"
    }
   ],
   "source": [
    "grader.check(\"q5_9_a\")"
   ]
  },
  {
   "cell_type": "code",
   "execution_count": 102,
   "id": "f617b016",
   "metadata": {},
   "outputs": [
    {
     "data": {
      "text/plain": [
       "True"
      ]
     },
     "execution_count": 102,
     "metadata": {},
     "output_type": "execute_result"
    }
   ],
   "source": [
    "couple_claim = True\n",
    "couple_claim"
   ]
  },
  {
   "cell_type": "code",
   "execution_count": 103,
   "id": "e56002b0",
   "metadata": {
    "deletable": false,
    "editable": false
   },
   "outputs": [
    {
     "data": {
      "text/html": [
       "<p><strong><pre style='display: inline;'>q5_9_b</pre></strong> passed!</p>"
      ],
      "text/plain": [
       "q5_9_b results: All test cases passed!"
      ]
     },
     "execution_count": 103,
     "metadata": {},
     "output_type": "execute_result"
    }
   ],
   "source": [
    "grader.check(\"q5_9_b\")"
   ]
  },
  {
   "cell_type": "markdown",
   "id": "6d721c29",
   "metadata": {},
   "source": [
    "Although we can't determine from our permutation test whether characters being in a relationship *causes* better ratings, we can detect an association. You'll use this information when planning the storyline of your reboot to determine whether to include a romance angle! 💘"
   ]
  },
  {
   "cell_type": "markdown",
   "id": "8e433afc",
   "metadata": {},
   "source": [
    "<a id='section6'></a>\n",
    "## Section 6: The One with the Generated Episode Titles 🖨️\n",
    "\n",
    "<small>(<a href=\"#outline\">return to the outline</a>)</small>\n",
    "\n",
    "In this section, we'll create a tool that randomly generates episode titles for our reboot, based on the words used in the titles of *Friends* episodes. To start, let's see how *Friends* episode titles are formatted. The cell below saves all the *Friends* episode titles in an array called `titles` and prints a random sample of 10 titles."
   ]
  },
  {
   "cell_type": "code",
   "execution_count": 104,
   "id": "28575966",
   "metadata": {},
   "outputs": [
    {
     "name": "stdout",
     "output_type": "stream",
     "text": [
      "The One Where No One Proposes\n",
      "The One Where Rachel Is Late\n",
      "The One with the Girl Who Hits Joey\n",
      "The One with Two Parts: Part 1\n",
      "The One with Russ\n",
      "The One with the Race Car Bed\n",
      "The One with the Soap Opera Party\n",
      "The One with the Engagement Picture\n",
      "The One Where Joey Loses His Insurance\n",
      "The One with the Sonogram at the End\n"
     ]
    }
   ],
   "source": [
    "titles = np.array(episodes.get('title'))\n",
    "for i in np.arange(10):\n",
    "    print(np.random.choice(titles, replace=False))"
   ]
  },
  {
   "cell_type": "markdown",
   "id": "283d9c4a",
   "metadata": {},
   "source": [
    "As you can see, most episode titles describe a major plot point of that episode and start with a phrase such as `'The One Where'` or `'The One with'`. In other words, the title of an episode is how you might describe the episode to someone else."
   ]
  },
  {
   "cell_type": "markdown",
   "id": "cd6a1ee2",
   "metadata": {},
   "source": [
    "When generating episode titles for our reboot, we want to use many of the same words that appear in the titles of *Friends* episodes, so that our reboot titles stay true to the spirit of the original show and follow a similar structure. The simplest way to do this is to randomly select words, one at a time and independently, from the set of words included `titles`.\n",
    "\n",
    "The variable `every_word` defined below is an array that contains all of the words in all of the *Friends* episode titles."
   ]
  },
  {
   "cell_type": "code",
   "execution_count": 105,
   "id": "7379287f",
   "metadata": {},
   "outputs": [
    {
     "data": {
      "text/plain": [
       "array(['The', 'Pilot', 'The', ..., 'The', 'Last', 'One'], dtype='<U14')"
      ]
     },
     "execution_count": 105,
     "metadata": {},
     "output_type": "execute_result"
    }
   ],
   "source": [
    "every_word = np.array((' ').join(titles).split(' '))\n",
    "every_word"
   ]
  },
  {
   "cell_type": "markdown",
   "id": "a38bb490",
   "metadata": {},
   "source": [
    "Some words appear in `every_word` much more frequently than others. We'd want these more common words, like `'The'` to appear more frequently in our generated titles, since they appear more frequently in actual *Friends* titles. Let's generate our titles randomly, one word at a time, so that each word is independently selected with a probability proportional to how often the word appears in a *Friends* title."
   ]
  },
  {
   "cell_type": "markdown",
   "id": "7e6a1849",
   "metadata": {},
   "source": [
    "**Question 6.1.**  Complete the implementation of the function `find_proportion` which takes as input a word, and returns the proportion of words in `every_word` that are equal to the input word. This should be case-sensitive!\n",
    "\n",
    "Then calculate the proportion of words that are equal to `'Rachel'` and `'One'`, and save your results in `rachel_prop` and `one_prop`, respectively."
   ]
  },
  {
   "cell_type": "code",
   "execution_count": 106,
   "id": "de338a73",
   "metadata": {},
   "outputs": [
    {
     "name": "stdout",
     "output_type": "stream",
     "text": [
      "Rachel: 0.010316875460574797\n",
      "One: 0.17391304347826086\n"
     ]
    }
   ],
   "source": [
    "def find_proportion(word):\n",
    "    '''Returns the proportion of words equal to the input word.'''\n",
    "    return np.count_nonzero(word == every_word) / len(every_word)\n",
    "\n",
    "rachel_prop = find_proportion('Rachel')\n",
    "one_prop = find_proportion('One')\n",
    "print('Rachel:', rachel_prop )\n",
    "print('One:', one_prop)"
   ]
  },
  {
   "cell_type": "code",
   "execution_count": 107,
   "id": "bce1c995",
   "metadata": {
    "deletable": false,
    "editable": false
   },
   "outputs": [
    {
     "data": {
      "text/html": [
       "<p><strong><pre style='display: inline;'>q6_1</pre></strong> passed!</p>"
      ],
      "text/plain": [
       "q6_1 results: All test cases passed!"
      ]
     },
     "execution_count": 107,
     "metadata": {},
     "output_type": "execute_result"
    }
   ],
   "source": [
    "grader.check(\"q6_1\")"
   ]
  },
  {
   "cell_type": "markdown",
   "id": "16feed71",
   "metadata": {},
   "source": [
    "We can interpret each word's proportion of usages as a probability of that word being selected when we randomly generate a reboot title. For example, if we generate a title by independently selecting three words, we can calculate the probability of generating the title `'Rachel One Rachel'` as follows, using the [multiplication rule for independent events](https://dsc10.com/resources/lectures/lec11/lec11_11am.pdf):\n",
    "\n",
    "$$\n",
    "P(\\text{Rachel One Rachel}) = P(\\text{Rachel}) * P(\\text{One}) * P(\\text{Rachel})\n",
    "$$"
   ]
  },
  {
   "cell_type": "code",
   "execution_count": 108,
   "id": "1ad1377b",
   "metadata": {},
   "outputs": [
    {
     "data": {
      "text/plain": [
       "1.851094248156703e-05"
      ]
     },
     "execution_count": 108,
     "metadata": {},
     "output_type": "execute_result"
    }
   ],
   "source": [
    "prob_rachel_one_rachel = rachel_prop * one_prop * rachel_prop\n",
    "prob_rachel_one_rachel"
   ]
  },
  {
   "cell_type": "markdown",
   "id": "7ec2de9a",
   "metadata": {},
   "source": [
    "That's about a 1 in 50,000 chance that we'll generate the title `'Rachel One Rachel'`, which is so small primarily because `'Rachel'` is a rare word. The title `'One One One'` has a much larger chance of being generated, about 1 in 200, since `'One'` is a common word."
   ]
  },
  {
   "cell_type": "code",
   "execution_count": 109,
   "id": "67ee6172",
   "metadata": {},
   "outputs": [
    {
     "data": {
      "text/plain": [
       "0.0052601298594559046"
      ]
     },
     "execution_count": 109,
     "metadata": {},
     "output_type": "execute_result"
    }
   ],
   "source": [
    "prob_one_one_one = one_prop ** 3\n",
    "prob_one_one_one"
   ]
  },
  {
   "cell_type": "markdown",
   "id": "c6d7f742",
   "metadata": {},
   "source": [
    "While the strategy we've outlined gives a way of randomly generating reboot titles so that more common words are more likely to appear in the reboot title, it is unsatisfactory in many ways. Primarily, with this strategy, we can get titles like `'Rachel One Rachel'` and `'One One One'`, which not only don't make sense, but don't follow the structure of *Friends* episode titles that started with phrases like `'The One Where'`.\n",
    "\n",
    "Instead of considering the probabilities of individual words, let's consider the probability of **pairs** of consecutive words. For example, the pair of words `'The One'` is quite common and the pair of words `'The Last'` is quite rare. This says that when we generate a reboot title randomly one word at a time, if we start with the word `'The'`, we should be more likely to follow it with `'One'` than `'Last'`. \n",
    "\n",
    "We'll work on calculating the probability distribution of words that immediately follow a given word in *Friends* episode titles. As before, this is case-sensitive. For example, if the word is `'The'`, we'd want to look for want words that follow `'The'` only, not words that follow `'the'`."
   ]
  },
  {
   "cell_type": "markdown",
   "id": "ff971406",
   "metadata": {},
   "source": [
    "**Question 6.2.** ⭐⭐ Complete the implementation of the function `next_word` which takes as input a single episode `title` and a `word`, both strings. The function should return an array containing every word in `title` that appears immediately after `word`, or an empty array if there are no such words. This could happen either because the `word` is the last word in `title`, or because the `word` is not a part of `title` at all. The output array can contain duplicates if the same word follows the input `word` multiple times. \n",
    "\n",
    "Example behavior is shown below.\n",
    "\n",
    "```py\n",
    ">>> next_word('The One Where the Monkey Gets Away', 'Monkey')\n",
    "array(['Gets'])\n",
    "\n",
    ">>> next_word('The One with the Chicken Pox', 'Pox')\n",
    "array([])\n",
    "\n",
    ">>> next_word('This is the final project of the course', 'the')\n",
    "array(['final', 'course']\n",
    "\n",
    ">>> next_word('This is the final project of the course and there is also the final exam', 'the')\n",
    "array(['final', 'course', 'final']\n",
    "\n",
    "\n",
    "```\n"
   ]
  },
  {
   "cell_type": "code",
   "execution_count": 110,
   "id": "23e6625e",
   "metadata": {},
   "outputs": [
    {
     "data": {
      "text/plain": [
       "array(['final', 'course', 'final'], dtype='<U32')"
      ]
     },
     "execution_count": 110,
     "metadata": {},
     "output_type": "execute_result"
    }
   ],
   "source": [
    "def next_word(title, word):\n",
    "    '''Given a title and an input word, return an array of all \n",
    "    words in the title that immediately follow the input word.'''\n",
    "    titlesplit = title.split()\n",
    "    arr = np.array([])\n",
    "    for i in range(len(titlesplit) - 1):\n",
    "        if word == titlesplit[i]:\n",
    "            arr = np.append(arr, titlesplit[i + 1])\n",
    "    \n",
    "    return arr\n",
    "\n",
    "# An example call to your function. Feel free to change this and try out other inputs.\n",
    "next_word('This is the final project of the course and there is also the final exam', 'the')"
   ]
  },
  {
   "cell_type": "code",
   "execution_count": 111,
   "id": "cc14ad08",
   "metadata": {
    "deletable": false,
    "editable": false
   },
   "outputs": [
    {
     "data": {
      "text/html": [
       "<p><strong><pre style='display: inline;'>q6_2</pre></strong> passed!</p>"
      ],
      "text/plain": [
       "q6_2 results: All test cases passed!"
      ]
     },
     "execution_count": 111,
     "metadata": {},
     "output_type": "execute_result"
    }
   ],
   "source": [
    "grader.check(\"q6_2\")"
   ]
  },
  {
   "cell_type": "markdown",
   "id": "9a7446ef",
   "metadata": {
    "deletable": false,
    "editable": false
   },
   "source": [
    "**Question 6.3.** Now that we know how to find the subsequent words in a single title, let's extend what we've done to find the subsequent words across all titles in `titles`. Complete the function `words_following`, which takes as input a single `word` and returns an array of all words that immediately follow `word` in a *Friends* episode title. To do this, you should call your `next_word` function once on each title.\n",
    "\n",
    "As before, the output array can contain duplicates if the same word follows `word` multiple times, and it can be empty if no word follows `word`.\n",
    "\n",
    "***Hint:*** You can use `np.append` to append a whole array of values onto an existing array, in the same way that you would append a single value onto an existing array.\n",
    "\n",
    "<!--\n",
    "BEGIN QUESTION\n",
    "name: q6_3\n",
    "points: 1\n",
    "-->"
   ]
  },
  {
   "cell_type": "code",
   "execution_count": 112,
   "id": "7616ed18",
   "metadata": {},
   "outputs": [
    {
     "data": {
      "text/plain": [
       "array(['with', 'with', 'with', 'with', 'with', 'with', 'Where', 'Where',\n",
       "       'with', 'with', 'with', 'with', 'with', 'with', 'with', 'with',\n",
       "       'with', 'Where', 'with', 'with', 'with', 'with', 'Where', 'with',\n",
       "       'with', 'Where', 'with', 'with', 'with', 'Where', 'with', 'with',\n",
       "       'with', 'with', 'After', 'After', 'with', 'Where', 'Where',\n",
       "       'Where', 'Where', 'Where', 'Where', 'with', 'with', 'with', 'with',\n",
       "       'with', 'Where', 'with', 'with', 'with', 'with', 'with', 'with',\n",
       "       'with', 'Where', 'Where', 'with', 'Where', 'with', 'Where', 'with',\n",
       "       'Without', 'with', 'with', 'with', 'with', 'with', 'with', 'with',\n",
       "       'at', 'with', 'with', 'with', 'with', 'with', 'with', 'Where',\n",
       "       'with', 'Where', 'with', 'with', 'with', 'with', 'with', 'with',\n",
       "       'with', 'with', 'with', 'with', 'with', 'with', 'with', 'with',\n",
       "       'with', 'After', 'with', 'Hundredth', 'Where', 'with', 'with',\n",
       "       'Where', 'with', 'with', 'with', 'with', 'with', 'with', 'Where',\n",
       "       'with', 'with', 'with', 'Where', 'Where', 'with', 'with', 'with',\n",
       "       'in', 'in', 'After', 'Where', 'with', 'Where', 'with', 'on',\n",
       "       'Where', 'with', 'Where', 'with', 'with', 'with', 'with', 'Where',\n",
       "       'That', 'That', 'with', 'Where', 'with', 'with', 'Where', 'Where',\n",
       "       'with', 'with', 'with', 'with', 'with', 'with', 'with', 'with',\n",
       "       'with', 'with', 'Where', 'with', 'with', 'with', 'Where', 'Where',\n",
       "       'Where', 'with', 'with', 'with', 'with', 'with', 'with', 'with',\n",
       "       'with', 'with', 'with', 'After', 'with', 'Where', 'with', 'with',\n",
       "       'with', 'with', 'with', 'with', 'with', 'with', 'Where', 'Where',\n",
       "       'with', 'with', 'Where', 'with', 'in', 'with', 'with', 'with',\n",
       "       'Where', 'Where', 'Where', 'Where', 'Proposes', 'Where', 'with',\n",
       "       'with', 'with', 'with', 'with', 'with', 'with', 'with', 'Where',\n",
       "       'with', 'Where', 'with', 'with', 'with', 'with', 'with', 'with',\n",
       "       'with', 'with', 'with', 'in', 'in', 'After', 'Where', 'with',\n",
       "       'with', 'Where', 'with', 'with', 'with', 'with', 'Where', 'Where',\n",
       "       'with', 'Where', 'with', 'Where', 'with'], dtype='<U32')"
      ]
     },
     "execution_count": 112,
     "metadata": {},
     "output_type": "execute_result"
    }
   ],
   "source": [
    "def words_following(word):\n",
    "    '''Given an input word, return an array of all words that \n",
    "    immediately follow the input word in episode titles in titles.'''\n",
    "    arr = np.array([])\n",
    "    for i in range(episodes.shape[0]):\n",
    "        sim = next_word(titles[i], word)\n",
    "        arr = np.append(arr, sim)\n",
    "    return arr\n",
    "# An example call to your function. Feel free to change this and try out other input words.\n",
    "words_following('One')"
   ]
  },
  {
   "cell_type": "code",
   "execution_count": 113,
   "id": "7693b354",
   "metadata": {
    "deletable": false,
    "editable": false
   },
   "outputs": [
    {
     "data": {
      "text/html": [
       "<p><strong><pre style='display: inline;'>q6_3</pre></strong> passed!</p>"
      ],
      "text/plain": [
       "q6_3 results: All test cases passed!"
      ]
     },
     "execution_count": 113,
     "metadata": {},
     "output_type": "execute_result"
    }
   ],
   "source": [
    "grader.check(\"q6_3\")"
   ]
  },
  {
   "cell_type": "markdown",
   "id": "96457e4b",
   "metadata": {
    "deletable": false,
    "editable": false
   },
   "source": [
    "Now that we know how to find all the words that follow a given word, we can create a probability distribution, where the probability of each subsequent word is just the proportion of times that word follows the given word. \n",
    "\n",
    "**Question 6.4.** ⭐⭐ Complete the `find_prob_distribution` function which takes as input a single `word` and returns a DataFrame indexed by subsequent words that can immediately follow `word`, and with one column called `'prob'` that contains the proportion of times the subsequent word follows `word`. Sort the rows in descending order of `'prob'` so that the most likely words are at the top of the DataFrame.\n",
    "\n",
    "For example, `find_prob_distribution('The')` should look like this:\n",
    "\n",
    "<table border=\"1\" class=\"dataframe\">\n",
    "  <thead>\n",
    "    <tr style=\"text-align: right;\">\n",
    "      <th></th>\n",
    "      <th>prob</th>\n",
    "    </tr>\n",
    "    <tr>\n",
    "      <th>word</th>\n",
    "      <th></th>\n",
    "    </tr>\n",
    "  </thead>\n",
    "  <tbody>\n",
    "    <tr>\n",
    "      <th>One</th>\n",
    "      <td>0.987288</td>\n",
    "    </tr>\n",
    "    <tr>\n",
    "      <th>Last</th>\n",
    "      <td>0.008475</td>\n",
    "    </tr>\n",
    "    <tr>\n",
    "      <th>Pilot</th>\n",
    "      <td>0.004237</td>\n",
    "    </tr>\n",
    "  </tbody>\n",
    "</table>\n",
    "\n",
    "<!--\n",
    "BEGIN QUESTION\n",
    "name: q6_4\n",
    "points: 2\n",
    "-->"
   ]
  },
  {
   "cell_type": "code",
   "execution_count": 114,
   "id": "6b43cb80",
   "metadata": {
    "scrolled": true
   },
   "outputs": [
    {
     "data": {
      "text/html": [
       "<div>\n",
       "<style scoped>\n",
       "    .dataframe tbody tr th:only-of-type {\n",
       "        vertical-align: middle;\n",
       "    }\n",
       "\n",
       "    .dataframe tbody tr th {\n",
       "        vertical-align: top;\n",
       "    }\n",
       "\n",
       "    .dataframe thead th {\n",
       "        text-align: right;\n",
       "    }\n",
       "</style>\n",
       "<table border=\"1\" class=\"dataframe\">\n",
       "  <thead>\n",
       "    <tr style=\"text-align: right;\">\n",
       "      <th></th>\n",
       "      <th>prob</th>\n",
       "    </tr>\n",
       "    <tr>\n",
       "      <th>word</th>\n",
       "      <th></th>\n",
       "    </tr>\n",
       "  </thead>\n",
       "  <tbody>\n",
       "    <tr>\n",
       "      <th>the</th>\n",
       "      <td>0.558282</td>\n",
       "    </tr>\n",
       "    <tr>\n",
       "      <th>Rachel's</th>\n",
       "      <td>0.073620</td>\n",
       "    </tr>\n",
       "    <tr>\n",
       "      <th>Ross's</th>\n",
       "      <td>0.061350</td>\n",
       "    </tr>\n",
       "    <tr>\n",
       "      <th>All</th>\n",
       "      <td>0.061350</td>\n",
       "    </tr>\n",
       "    <tr>\n",
       "      <th>Joey's</th>\n",
       "      <td>0.055215</td>\n",
       "    </tr>\n",
       "    <tr>\n",
       "      <th>...</th>\n",
       "      <td>...</td>\n",
       "    </tr>\n",
       "    <tr>\n",
       "      <th>Barry</th>\n",
       "      <td>0.006135</td>\n",
       "    </tr>\n",
       "    <tr>\n",
       "      <th>Mac</th>\n",
       "      <td>0.006135</td>\n",
       "    </tr>\n",
       "    <tr>\n",
       "      <th>George</th>\n",
       "      <td>0.006135</td>\n",
       "    </tr>\n",
       "    <tr>\n",
       "      <th>Frank</th>\n",
       "      <td>0.006135</td>\n",
       "    </tr>\n",
       "    <tr>\n",
       "      <th>Mrs.</th>\n",
       "      <td>0.006135</td>\n",
       "    </tr>\n",
       "  </tbody>\n",
       "</table>\n",
       "<p>24 rows × 1 columns</p>\n",
       "</div>"
      ],
      "text/plain": [
       "              prob\n",
       "word              \n",
       "the       0.558282\n",
       "Rachel's  0.073620\n",
       "Ross's    0.061350\n",
       "All       0.061350\n",
       "Joey's    0.055215\n",
       "...            ...\n",
       "Barry     0.006135\n",
       "Mac       0.006135\n",
       "George    0.006135\n",
       "Frank     0.006135\n",
       "Mrs.      0.006135\n",
       "\n",
       "[24 rows x 1 columns]"
      ]
     },
     "execution_count": 114,
     "metadata": {},
     "output_type": "execute_result"
    }
   ],
   "source": [
    "def find_prob_distribution(word):\n",
    "    '''Returns a DataFrame containing the probability distribution\n",
    "    of words that can follow the given input word.'''\n",
    "    arr_words = bpd.DataFrame().assign(word = words_following(word), prob = np.arange(0,len(words_following(word)))).groupby('word').count()\n",
    "    arr_words = arr_words.assign(prob = arr_words.get('prob') / arr_words.get('prob').sum()).sort_values(by = 'prob', ascending = False)\n",
    "    return arr_words\n",
    "\n",
    "# An example call to your function. Feel free to change this to try out other input words.\n",
    "find_prob_distribution('with')"
   ]
  },
  {
   "cell_type": "code",
   "execution_count": 115,
   "id": "93d91e4e",
   "metadata": {
    "deletable": false,
    "editable": false
   },
   "outputs": [
    {
     "data": {
      "text/html": [
       "<p><strong><pre style='display: inline;'>q6_4</pre></strong> passed!</p>"
      ],
      "text/plain": [
       "q6_4 results: All test cases passed!"
      ]
     },
     "execution_count": 115,
     "metadata": {},
     "output_type": "execute_result"
    }
   ],
   "source": [
    "grader.check(\"q6_4\")"
   ]
  },
  {
   "cell_type": "markdown",
   "id": "6f46a3a7",
   "metadata": {},
   "source": [
    "Now, we can use these probability distributions to generate titles randomly. We'll start each title with the word `'The'`, since all *Friends* episodes start with this word. Then, the next word will be `'One'` with probability 0.987288, or `'Last'` with probability 0.008475, or `'Pilot'` with probability 0.004237. Almost certainly, the next word will be `'One'`, and then we'll figure out the next word according to the probabilities in the DataFrame below."
   ]
  },
  {
   "cell_type": "code",
   "execution_count": 116,
   "id": "47a64411",
   "metadata": {
    "scrolled": true
   },
   "outputs": [
    {
     "data": {
      "text/html": [
       "<div>\n",
       "<style scoped>\n",
       "    .dataframe tbody tr th:only-of-type {\n",
       "        vertical-align: middle;\n",
       "    }\n",
       "\n",
       "    .dataframe tbody tr th {\n",
       "        vertical-align: top;\n",
       "    }\n",
       "\n",
       "    .dataframe thead th {\n",
       "        text-align: right;\n",
       "    }\n",
       "</style>\n",
       "<table border=\"1\" class=\"dataframe\">\n",
       "  <thead>\n",
       "    <tr style=\"text-align: right;\">\n",
       "      <th></th>\n",
       "      <th>prob</th>\n",
       "    </tr>\n",
       "    <tr>\n",
       "      <th>word</th>\n",
       "      <th></th>\n",
       "    </tr>\n",
       "  </thead>\n",
       "  <tbody>\n",
       "    <tr>\n",
       "      <th>with</th>\n",
       "      <td>0.696581</td>\n",
       "    </tr>\n",
       "    <tr>\n",
       "      <th>Where</th>\n",
       "      <td>0.226496</td>\n",
       "    </tr>\n",
       "    <tr>\n",
       "      <th>After</th>\n",
       "      <td>0.025641</td>\n",
       "    </tr>\n",
       "    <tr>\n",
       "      <th>in</th>\n",
       "      <td>0.021368</td>\n",
       "    </tr>\n",
       "    <tr>\n",
       "      <th>That</th>\n",
       "      <td>0.008547</td>\n",
       "    </tr>\n",
       "    <tr>\n",
       "      <th>Hundredth</th>\n",
       "      <td>0.004274</td>\n",
       "    </tr>\n",
       "    <tr>\n",
       "      <th>Proposes</th>\n",
       "      <td>0.004274</td>\n",
       "    </tr>\n",
       "    <tr>\n",
       "      <th>Without</th>\n",
       "      <td>0.004274</td>\n",
       "    </tr>\n",
       "    <tr>\n",
       "      <th>at</th>\n",
       "      <td>0.004274</td>\n",
       "    </tr>\n",
       "    <tr>\n",
       "      <th>on</th>\n",
       "      <td>0.004274</td>\n",
       "    </tr>\n",
       "  </tbody>\n",
       "</table>\n",
       "</div>"
      ],
      "text/plain": [
       "               prob\n",
       "word               \n",
       "with       0.696581\n",
       "Where      0.226496\n",
       "After      0.025641\n",
       "in         0.021368\n",
       "That       0.008547\n",
       "Hundredth  0.004274\n",
       "Proposes   0.004274\n",
       "Without    0.004274\n",
       "at         0.004274\n",
       "on         0.004274"
      ]
     },
     "execution_count": 116,
     "metadata": {},
     "output_type": "execute_result"
    }
   ],
   "source": [
    "find_prob_distribution('One')"
   ]
  },
  {
   "cell_type": "markdown",
   "id": "00d74fb0",
   "metadata": {},
   "source": [
    "Perhaps by random chance we'll end up with the next word being `'Proposes'` (though it's quite unlikely). To find the words that could follow `'Proposes'` along with their associated probabilities, we'll use this DataFrame:"
   ]
  },
  {
   "cell_type": "code",
   "execution_count": 117,
   "id": "ef603d68",
   "metadata": {
    "scrolled": true
   },
   "outputs": [
    {
     "data": {
      "text/html": [
       "<div>\n",
       "<style scoped>\n",
       "    .dataframe tbody tr th:only-of-type {\n",
       "        vertical-align: middle;\n",
       "    }\n",
       "\n",
       "    .dataframe tbody tr th {\n",
       "        vertical-align: top;\n",
       "    }\n",
       "\n",
       "    .dataframe thead th {\n",
       "        text-align: right;\n",
       "    }\n",
       "</style>\n",
       "<table border=\"1\" class=\"dataframe\">\n",
       "  <thead>\n",
       "    <tr style=\"text-align: right;\">\n",
       "      <th></th>\n",
       "      <th>prob</th>\n",
       "    </tr>\n",
       "    <tr>\n",
       "      <th>word</th>\n",
       "      <th></th>\n",
       "    </tr>\n",
       "  </thead>\n",
       "  <tbody>\n",
       "  </tbody>\n",
       "</table>\n",
       "</div>"
      ],
      "text/plain": [
       "Empty DataFrame\n",
       "Columns: [prob]\n",
       "Index: []"
      ]
     },
     "execution_count": 117,
     "metadata": {},
     "output_type": "execute_result"
    }
   ],
   "source": [
    "find_prob_distribution('Proposes')"
   ]
  },
  {
   "cell_type": "markdown",
   "id": "61d1e909",
   "metadata": {},
   "source": [
    "Since this DataFrame has no rows, it means `'Proposes'` never appears in a *Friends* episode title with a word after it. That is, it only appears as the last word in an episode title. This means no word should come after it, so we're done generating our title, which in this example was `'The One Proposes'`. \n",
    "\n",
    "When we generate titles based on pairs of words in this way, the probability of generating `'The One Proposes'` can be computed as:\n",
    "\n",
    "$$\n",
    "P(\\text{The One Proposes}) = P(\\text{The}) * P(\\text{One}|\\text{The}) * P(\\text{Proposes}|\\text{One})\n",
    "$$\n",
    "\n",
    "Since all episode titles start with `'The'`, $P(\\text{The}) = 1$. The other probabilities are conditional probabilities based on the previous word. For example, $P(\\text{One}|\\text{The})$, which we read as \"the probability of `'One'` given `'The'`\", represents the probability of seeing the word `'One'` immediately after the word `'The'`. According to our `find_prob_distribution` function, this probability is quite high at 0.987288."
   ]
  },
  {
   "cell_type": "code",
   "execution_count": 118,
   "id": "64cbe916",
   "metadata": {},
   "outputs": [
    {
     "data": {
      "text/html": [
       "<div>\n",
       "<style scoped>\n",
       "    .dataframe tbody tr th:only-of-type {\n",
       "        vertical-align: middle;\n",
       "    }\n",
       "\n",
       "    .dataframe tbody tr th {\n",
       "        vertical-align: top;\n",
       "    }\n",
       "\n",
       "    .dataframe thead th {\n",
       "        text-align: right;\n",
       "    }\n",
       "</style>\n",
       "<table border=\"1\" class=\"dataframe\">\n",
       "  <thead>\n",
       "    <tr style=\"text-align: right;\">\n",
       "      <th></th>\n",
       "      <th>prob</th>\n",
       "    </tr>\n",
       "    <tr>\n",
       "      <th>word</th>\n",
       "      <th></th>\n",
       "    </tr>\n",
       "  </thead>\n",
       "  <tbody>\n",
       "    <tr>\n",
       "      <th>One</th>\n",
       "      <td>0.987288</td>\n",
       "    </tr>\n",
       "    <tr>\n",
       "      <th>Last</th>\n",
       "      <td>0.008475</td>\n",
       "    </tr>\n",
       "    <tr>\n",
       "      <th>Pilot</th>\n",
       "      <td>0.004237</td>\n",
       "    </tr>\n",
       "  </tbody>\n",
       "</table>\n",
       "</div>"
      ],
      "text/plain": [
       "           prob\n",
       "word           \n",
       "One    0.987288\n",
       "Last   0.008475\n",
       "Pilot  0.004237"
      ]
     },
     "execution_count": 118,
     "metadata": {},
     "output_type": "execute_result"
    }
   ],
   "source": [
    "find_prob_distribution('The') # This says P(One|The) = 0.987288."
   ]
  },
  {
   "cell_type": "markdown",
   "id": "2dcd8da1",
   "metadata": {},
   "source": [
    "Similarly, we can find $P(\\text{Proposes}|\\text{One})$ is very small, only 0.004274."
   ]
  },
  {
   "cell_type": "code",
   "execution_count": 119,
   "id": "fc617a79",
   "metadata": {
    "scrolled": true
   },
   "outputs": [
    {
     "data": {
      "text/html": [
       "<div>\n",
       "<style scoped>\n",
       "    .dataframe tbody tr th:only-of-type {\n",
       "        vertical-align: middle;\n",
       "    }\n",
       "\n",
       "    .dataframe tbody tr th {\n",
       "        vertical-align: top;\n",
       "    }\n",
       "\n",
       "    .dataframe thead th {\n",
       "        text-align: right;\n",
       "    }\n",
       "</style>\n",
       "<table border=\"1\" class=\"dataframe\">\n",
       "  <thead>\n",
       "    <tr style=\"text-align: right;\">\n",
       "      <th></th>\n",
       "      <th>prob</th>\n",
       "    </tr>\n",
       "    <tr>\n",
       "      <th>word</th>\n",
       "      <th></th>\n",
       "    </tr>\n",
       "  </thead>\n",
       "  <tbody>\n",
       "    <tr>\n",
       "      <th>with</th>\n",
       "      <td>0.696581</td>\n",
       "    </tr>\n",
       "    <tr>\n",
       "      <th>Where</th>\n",
       "      <td>0.226496</td>\n",
       "    </tr>\n",
       "    <tr>\n",
       "      <th>After</th>\n",
       "      <td>0.025641</td>\n",
       "    </tr>\n",
       "    <tr>\n",
       "      <th>in</th>\n",
       "      <td>0.021368</td>\n",
       "    </tr>\n",
       "    <tr>\n",
       "      <th>That</th>\n",
       "      <td>0.008547</td>\n",
       "    </tr>\n",
       "    <tr>\n",
       "      <th>Hundredth</th>\n",
       "      <td>0.004274</td>\n",
       "    </tr>\n",
       "    <tr>\n",
       "      <th>Proposes</th>\n",
       "      <td>0.004274</td>\n",
       "    </tr>\n",
       "    <tr>\n",
       "      <th>Without</th>\n",
       "      <td>0.004274</td>\n",
       "    </tr>\n",
       "    <tr>\n",
       "      <th>at</th>\n",
       "      <td>0.004274</td>\n",
       "    </tr>\n",
       "    <tr>\n",
       "      <th>on</th>\n",
       "      <td>0.004274</td>\n",
       "    </tr>\n",
       "  </tbody>\n",
       "</table>\n",
       "</div>"
      ],
      "text/plain": [
       "               prob\n",
       "word               \n",
       "with       0.696581\n",
       "Where      0.226496\n",
       "After      0.025641\n",
       "in         0.021368\n",
       "That       0.008547\n",
       "Hundredth  0.004274\n",
       "Proposes   0.004274\n",
       "Without    0.004274\n",
       "at         0.004274\n",
       "on         0.004274"
      ]
     },
     "execution_count": 119,
     "metadata": {},
     "output_type": "execute_result"
    }
   ],
   "source": [
    "find_prob_distribution('One') # This says P(Proposes|One) = 0.004274"
   ]
  },
  {
   "cell_type": "markdown",
   "id": "839b547c",
   "metadata": {},
   "source": [
    "Therefore, the probability of generating `'The One Proposes'` is:\n",
    "\n",
    "$$\n",
    "\\begin{align}\n",
    "P(\\text{The One Proposes}) &= P(\\text{The}) * P(\\text{One}|\\text{The}) * P(\\text{Proposes}|\\text{One}) \\\\\n",
    "&= 1 * 0.987288 * 0.004274 \\\\\n",
    "&\\approx 0.004219\n",
    "\\end{align}\n",
    "$$"
   ]
  },
  {
   "cell_type": "markdown",
   "id": "88f706ee",
   "metadata": {},
   "source": [
    "This is about 1 in 2000."
   ]
  },
  {
   "cell_type": "markdown",
   "id": "c178f345",
   "metadata": {
    "deletable": false,
    "editable": false
   },
   "source": [
    "**Question 6.5.** Now that we know how to generate titles based on pairs of words, let's write a function that takes no inputs, and returns a randomly generated title by starting with the word `'The'`, then adding a new word based on the conditional probabilities of words that can follow `'The'`. We'll continue adding new words after each previous word, until we encounter a word that never had any words after it in an episode title (like `'Proposes'` in our example above). At that point, we'll stop generating new words. \n",
    "\n",
    "Since we don't know how many words we'll be adding in advance, it's hard to implement this with a `for`-loop, since we don't know how many iterations we'll need. Instead, we'll use what's known as a `while`-loop, which runs continuously, with as many iterations as needed, until some stopping condition is met. In our case, we'll keep adding new words as long as the DataFrame returned by `find_prob_dist` has at least one row, since that means there are more words we can add to our title. Our stopping condition, therefore, is when `find_prob_dist` produces a DataFrame with no rows. \n",
    "\n",
    "We've implemented the `while`-loop for you. Your task is to fill in the missing lines so that `generate_title` returns a randomly generated episode title. Some comments are included to help you.\n",
    "\n",
    "<!--\n",
    "BEGIN QUESTION\n",
    "name: q6_5\n",
    "points: 1\n",
    "-->"
   ]
  },
  {
   "cell_type": "code",
   "execution_count": 120,
   "id": "e0565321",
   "metadata": {},
   "outputs": [
    {
     "data": {
      "text/plain": [
       "'The One with the Embryos'"
      ]
     },
     "execution_count": 120,
     "metadata": {},
     "output_type": "execute_result"
    }
   ],
   "source": [
    "def generate_title():\n",
    "\n",
    "    generated_title = 'The'\n",
    "    prob_dist_df = find_prob_distribution('The')\n",
    "\n",
    "    # Keep generating new words for our title so long as there are \n",
    "    # words that can follow the most recent word we've added.\n",
    "    while (prob_dist_df.shape[0] >= 1):\n",
    "        \n",
    "        # Set new_word to a random selection of the words represented in prob_dist_df, \n",
    "        # chosen according to their probabilities in prob_dist_df.\n",
    "        new_word = np.random.choice(np.array(prob_dist_df.index), p=np.array(prob_dist_df.get('prob')))\n",
    "        \n",
    "        # Add onto your generated title in the variable generated_title. \n",
    "        # Make sure to include spaces between words.\n",
    "        generated_title = generated_title + \" \" + new_word \n",
    "        \n",
    "        # Update prob_dist_df so that it contains the probability \n",
    "        # distribution of the word you just added to your title.\n",
    "        prob_dist_df = find_prob_distribution(new_word)\n",
    "\n",
    "    return generated_title\n",
    "\n",
    "generate_title()"
   ]
  },
  {
   "cell_type": "code",
   "execution_count": 121,
   "id": "a23b1778",
   "metadata": {
    "deletable": false,
    "editable": false
   },
   "outputs": [
    {
     "data": {
      "text/html": [
       "<p><strong><pre style='display: inline;'>q6_5</pre></strong> passed!</p>"
      ],
      "text/plain": [
       "q6_5 results: All test cases passed!"
      ]
     },
     "execution_count": 121,
     "metadata": {},
     "output_type": "execute_result"
    }
   ],
   "source": [
    "grader.check(\"q6_5\")"
   ]
  },
  {
   "cell_type": "markdown",
   "id": "c26f00d9",
   "metadata": {},
   "source": [
    "**Question 6.6.** Suppose you generate one title using the `generate_title()` function above. What is the probability that the title you generate is `'The One in Vegas'`? Set your answer to `vegas_prob`.\n",
    "\n",
    "***Note:*** This is a probability question that you should answer based on the conditional probability of seeing one word given the previous. You should not do any simulation for this question. "
   ]
  },
  {
   "cell_type": "code",
   "execution_count": 122,
   "id": "e8a0b74f",
   "metadata": {},
   "outputs": [
    {
     "data": {
      "text/plain": [
       "0.006027400095196705"
      ]
     },
     "execution_count": 122,
     "metadata": {},
     "output_type": "execute_result"
    }
   ],
   "source": [
    "vegas_prob = find_prob_distribution('The').get('prob').loc['One'] * find_prob_distribution('One').get('prob').loc['in'] * find_prob_distribution('in').get('prob').loc['Vegas']\n",
    "vegas_prob"
   ]
  },
  {
   "cell_type": "code",
   "execution_count": 123,
   "id": "8bd7a159",
   "metadata": {
    "deletable": false,
    "editable": false
   },
   "outputs": [
    {
     "data": {
      "text/html": [
       "<p><strong><pre style='display: inline;'>q6_6</pre></strong> passed!</p>"
      ],
      "text/plain": [
       "q6_6 results: All test cases passed!"
      ]
     },
     "execution_count": 123,
     "metadata": {},
     "output_type": "execute_result"
    }
   ],
   "source": [
    "grader.check(\"q6_6\")"
   ]
  },
  {
   "cell_type": "markdown",
   "id": "e47e8937",
   "metadata": {},
   "source": [
    "**Question 6.7.** You want to know how frequently your `generate_title()` function generates a title that actually is a real title for a *Friends* episode. Based on a simulation with 1,000 trials, estimate the probability of a generated title being a real *Friends* title, and store the result in `prob_real`."
   ]
  },
  {
   "cell_type": "code",
   "execution_count": 124,
   "id": "f3e6ef95",
   "metadata": {},
   "outputs": [
    {
     "data": {
      "text/plain": [
       "0.571"
      ]
     },
     "execution_count": 124,
     "metadata": {},
     "output_type": "execute_result"
    }
   ],
   "source": [
    "prob_real = 0\n",
    "for i in range(1000):\n",
    "    new_title = generate_title()\n",
    "    if new_title in titles:\n",
    "        prob_real = prob_real + 1\n",
    "\n",
    "prob_real = prob_real / 1000\n",
    "prob_real"
   ]
  },
  {
   "cell_type": "code",
   "execution_count": 125,
   "id": "81add187",
   "metadata": {
    "deletable": false,
    "editable": false
   },
   "outputs": [
    {
     "data": {
      "text/html": [
       "<p><strong><pre style='display: inline;'>q6_7</pre></strong> passed!</p>"
      ],
      "text/plain": [
       "q6_7 results: All test cases passed!"
      ]
     },
     "execution_count": 125,
     "metadata": {},
     "output_type": "execute_result"
    }
   ],
   "source": [
    "grader.check(\"q6_7\")"
   ]
  },
  {
   "cell_type": "markdown",
   "id": "17928a33",
   "metadata": {},
   "source": [
    "You should find that there's a fairly high probability of generating a title that already exists. This happens because there aren't really that many words in the set of *Friends* episode titles. For example, if we randomly generate the word `'East'`, it's going to have to be followed up with `'German Laundry Detergent'` because the word `'East'` only appears once, which is in the episode title `'The One with the East German Laundry Detergent'`. With a relatively small body of text in *Friends* episode titles, there are many words that can only be followed by one thing.  For simplicity, we'll ignore the fact that we are generating many existing episode titles, though we could significantly improve the situation by basing our titles not just on past *Friends* episode titles, but on a larger body of text, such as the full scripts of all *Friends* episodes. This improvement would come at the cost of much more computation!"
   ]
  },
  {
   "cell_type": "markdown",
   "id": "7bd77564",
   "metadata": {},
   "source": [
    "Now, let's put all our hard work to use and generate episode titles for the first season of the reboot. Most seasons of *Friends* had 24 episodes, so you'll make sure your reboot starts out with a season of 24 episodes. Run the cell below to generate the titles for the first season of the reboot!"
   ]
  },
  {
   "cell_type": "code",
   "execution_count": 126,
   "id": "21151a5b",
   "metadata": {},
   "outputs": [
    {
     "name": "stdout",
     "output_type": "stream",
     "text": [
      "Reboot Episode 1 : The One After Ross Finds Out\n",
      "Reboot Episode 2 : The One with the Proposal\n",
      "Reboot Episode 3 : The One with George Stephanopoulos\n",
      "Reboot Episode 4 : The One with Frank Jr.\n",
      "Reboot Episode 5 : The One Where Chandler Can't Flirt\n",
      "Reboot Episode 6 : The One Where Chandler Gets Away Party\n",
      "Reboot Episode 7 : The One with Ross's Denial\n",
      "Reboot Episode 8 : The One with the Stripper Cries\n",
      "Reboot Episode 9 : The One in Vegas\n",
      "Reboot Episode 10 : The One with the Candy Hearts\n",
      "Reboot Episode 11 : The One with All Turn Thirty\n",
      "Reboot Episode 12 : The One with the Ball\n",
      "Reboot Episode 13 : The One with the Rumor\n",
      "Reboot Episode 14 : The One with Joey's Fridge\n",
      "Reboot Episode 15 : The One with the Proposal\n",
      "Reboot Episode 16 : The One Where Rosita Dies Twice\n",
      "Reboot Episode 17 : The One Where Chandler Gets Caught\n",
      "Reboot Episode 18 : The One with the Ick Factor\n",
      "Reboot Episode 19 : The One Where Rachel Tells...\n",
      "Reboot Episode 20 : The One with Rachel's Other Sister Babysits\n",
      "Reboot Episode 21 : The One with the Truth About London\n",
      "Reboot Episode 22 : The One with Ross Got High\n",
      "Reboot Episode 23 : The One with All the Birth Mother\n",
      "Reboot Episode 24 : The One with Christmas in Vegas\n"
     ]
    }
   ],
   "source": [
    "for i in np.arange(1, 25):\n",
    "    print('Reboot Episode', i, ':', generate_title() )"
   ]
  },
  {
   "cell_type": "markdown",
   "id": "e2063cf7",
   "metadata": {},
   "source": [
    "In this section, you learned how to use pairs of words to generate text. More generally, sequences of $n$ words (called $n$-grams) can be used to generate text in a similar way. For example, if $n=3$, we would base each next word on the conditional probability of that word appearing after the previous two words. To start, we'd consider what words follow the phrase `'The One'` and how frequently. Perhaps we'd randomly choose the next word to be `'Where'`. We'd choose our next word based on words that follow `'One Where'`, and so on. \n",
    "\n",
    "$n$-grams are used to capture the patterns and sequences of words in a language, which can be useful for a variety of natural language processing tasks, such as language modeling, text generation, machine translation, and more.  While this is a simplified example, modern language models like GPT (Generative Pre-trained Transformer) use more advanced neural network architectures and techniques to capture long-range dependencies between words and generate more coherent and contextual text."
   ]
  },
  {
   "cell_type": "markdown",
   "id": "7e5d4b47",
   "metadata": {},
   "source": [
    "<a id='section7'></a>\n",
    "## Section 7: The Last One 🔚🥳\n",
    "\n",
    "<small>(<a href=\"#outline\">return to the outline</a>)</small>\n",
    "\n",
    "In this section, you'll determine how many episodes your reboot should have to be successful. The first question is how should you measure success, in terms of views or in terms of ratings? You suspect that if an episode is good, it’s only natural that it will get more views *and* higher ratings, right? So there should be a positive correlation between viewership and ratings. You decide to explore the connection between these two variables using regression.\n",
    "\n",
    "Let's start by visualizing the data with a scatter plot to see if linear regression would make sense for this dataset."
   ]
  },
  {
   "cell_type": "code",
   "execution_count": 127,
   "id": "14cdd95a",
   "metadata": {
    "scrolled": true
   },
   "outputs": [
    {
     "data": {
      "image/png": "[encoded data removed]",
      "text/plain": [
       "<Figure size 432x288 with 1 Axes>"
      ]
     },
     "metadata": {},
     "output_type": "display_data"
    }
   ],
   "source": [
    "episodes.plot(kind='scatter', x='imdb_rating', y='us_views_millions');"
   ]
  },
  {
   "cell_type": "markdown",
   "id": "e01cede6",
   "metadata": {},
   "source": [
    "Based on the scatter plot, it seems like there is a slight positive linear association, and so linear regression would be an appropriate tool. Let's continue!"
   ]
  },
  {
   "cell_type": "markdown",
   "id": "c6d024fd",
   "metadata": {},
   "source": [
    "**Question 7.1.** The first step will be to convert our data into standard units. Complete the function `standard_units` which takes in an array or Series of numerical data and returns an array with the values in standard units. Then use your function to standardize the `'imdb_rating'` and `'us_views_millions'` columns from `episodes`. Store the standardized arrays in the variables `rating_standard` and `views_standard`."
   ]
  },
  {
   "cell_type": "code",
   "execution_count": 128,
   "id": "d79aef2b",
   "metadata": {},
   "outputs": [],
   "source": [
    "def standard_units(sequence):\n",
    "    '''Returns the input sequence as an array in standard units.'''\n",
    "    # Convert the input to an array, if it is not already.\n",
    "    sequence = np.array(sequence)\n",
    "    mean = sequence.mean()\n",
    "    SD = np.std(sequence)\n",
    "    converted = np.array([])\n",
    "#     for i in range(len(sequence)):\n",
    "#         converted = np.append(converted, (sequence[i] - mean) / SD)\n",
    "#     return converted\n",
    "    converted = (sequence - mean) / SD\n",
    "    return converted\n",
    "\n",
    "\n",
    "rating_standard = standard_units(episodes.get('imdb_rating'))\n",
    "views_standard = standard_units(episodes.get('us_views_millions'))\n"
   ]
  },
  {
   "cell_type": "code",
   "execution_count": 129,
   "id": "ee9467fa",
   "metadata": {
    "deletable": false,
    "editable": false
   },
   "outputs": [
    {
     "data": {
      "text/html": [
       "<p><strong><pre style='display: inline;'>q7_1</pre></strong> passed!</p>"
      ],
      "text/plain": [
       "q7_1 results: All test cases passed!"
      ]
     },
     "execution_count": 129,
     "metadata": {},
     "output_type": "execute_result"
    }
   ],
   "source": [
    "grader.check(\"q7_1\")"
   ]
  },
  {
   "cell_type": "markdown",
   "id": "be1c7d48",
   "metadata": {},
   "source": [
    "**Question 7.2.** Now that we know how to convert variables to standard units, we can calculate the correlation. Complete the function `correlation`, which should take in:\n",
    "1. `df`, a DataFrame,\n",
    "2. `independent`, the column label of the independent ($x$) variable, as a string, and \n",
    "3. `dependent`, the column label of the dependent ($y$) variable, as a string.\n",
    "\n",
    "The function should output the correlation between the two variables. \n",
    "\n",
    "Then, use your function to compute the correlation between `'imdb_rating'` and `'us_views_millions'` and store your result in the variable `corr`. Check that the number you get looks reasonable based on the scatter plot above."
   ]
  },
  {
   "cell_type": "code",
   "execution_count": 130,
   "id": "bc0f781e",
   "metadata": {},
   "outputs": [
    {
     "data": {
      "text/plain": [
       "0.37741252071774684"
      ]
     },
     "execution_count": 130,
     "metadata": {},
     "output_type": "execute_result"
    }
   ],
   "source": [
    "def correlation(df, independent, dependent):\n",
    "    '''Returns the correlation between the independent and dependent variables in the given DataFrame.'''\n",
    "    x_su = standard_units(df.get(independent))\n",
    "    y_su = standard_units(df.get(dependent))\n",
    "    return (x_su * y_su).mean()\n",
    "corr = correlation(episodes, 'imdb_rating','us_views_millions')\n",
    "corr"
   ]
  },
  {
   "cell_type": "code",
   "execution_count": 131,
   "id": "ff96e0a9",
   "metadata": {
    "deletable": false,
    "editable": false
   },
   "outputs": [
    {
     "data": {
      "text/html": [
       "<p><strong><pre style='display: inline;'>q7_2</pre></strong> passed!</p>"
      ],
      "text/plain": [
       "q7_2 results: All test cases passed!"
      ]
     },
     "execution_count": 131,
     "metadata": {},
     "output_type": "execute_result"
    }
   ],
   "source": [
    "grader.check(\"q7_2\")"
   ]
  },
  {
   "cell_type": "markdown",
   "id": "75615aa7",
   "metadata": {},
   "source": [
    "**Question 7.3.** Now construct two functions, `reg_slope` and `reg_intercept`, which each take in the same three inputs as `correlation`. `reg_slope` should return the slope of the regression line and `reg_intercept` should return the intercept of the regression line, in original units. \n",
    "\n",
    "Use your function to store the slope and intercept of the regression line for  `'imdb_rating'` and `'us_views_millions'` in the variables `slope` and `intercept`."
   ]
  },
  {
   "cell_type": "code",
   "execution_count": 132,
   "id": "401f256d",
   "metadata": {},
   "outputs": [
    {
     "data": {
      "text/plain": [
       "(4.953290444993945, -16.542142752578002)"
      ]
     },
     "execution_count": 132,
     "metadata": {},
     "output_type": "execute_result"
    }
   ],
   "source": [
    "def reg_slope(df, independent, dependent):\n",
    "    '''Returns the slope of the regression line in original units.'''\n",
    "    r = correlation(df, independent, dependent)\n",
    "    return r * np.std(df.get(dependent)) / np.std(df.get(independent))\n",
    "\n",
    "def reg_intercept(df, independent, dependent):\n",
    "    '''Returns the intercept of the regression line in original units.'''\n",
    "    return df.get(dependent).mean() - reg_slope(df, independent, dependent) * df.get(independent).mean()\n",
    "\n",
    "\n",
    "slope = reg_slope(episodes, 'imdb_rating','us_views_millions')\n",
    "intercept = reg_intercept(episodes, 'imdb_rating','us_views_millions')\n",
    "slope, intercept"
   ]
  },
  {
   "cell_type": "code",
   "execution_count": 133,
   "id": "620e2591",
   "metadata": {
    "deletable": false,
    "editable": false
   },
   "outputs": [
    {
     "data": {
      "text/html": [
       "<p><strong><pre style='display: inline;'>q7_3</pre></strong> passed!</p>"
      ],
      "text/plain": [
       "q7_3 results: All test cases passed!"
      ]
     },
     "execution_count": 133,
     "metadata": {},
     "output_type": "execute_result"
    }
   ],
   "source": [
    "grader.check(\"q7_3\")"
   ]
  },
  {
   "cell_type": "markdown",
   "id": "d2827b5b",
   "metadata": {},
   "source": [
    "**Question 7.4.** Create a function called `predict` that takes in the same three inputs as `correlation`. `predict` should return an array of predicted values of the dependent variable calculated from the regression line. \n",
    "\n",
    "Use your function to create an array of the predicted number of views, in millions, for each episode in the `episodes` DataFrame, based on the episode's rating. Save your answer as `predicted_views`. "
   ]
  },
  {
   "cell_type": "code",
   "execution_count": 134,
   "id": "3cf2eeb3",
   "metadata": {
    "scrolled": true
   },
   "outputs": [
    {
     "data": {
      "text/plain": [
       "array([24.57016794, 23.57950985, 24.0748389 , 23.57950985, 25.56082603,\n",
       "       23.57950985, 28.03747125, 23.57950985, 24.0748389 , 23.57950985,\n",
       "       24.0748389 , 24.0748389 , 26.55148412, 24.57016794, 24.0748389 ,\n",
       "       24.0748389 , 25.56082603, 27.04681316, 23.57950985, 22.58885176,\n",
       "       22.58885176, 24.57016794, 26.55148412, 27.54214221, 25.56082603,\n",
       "       24.0748389 , 25.06549699, 23.08418081, 24.57016794, 26.05615507,\n",
       "       28.03747125, 25.56082603, 23.08418081, 23.08418081, 23.57950985,\n",
       "       26.05615507, 27.04681316, 30.01878743, 27.54214221, 26.05615507,\n",
       "       24.57016794, 25.56082603, 26.05615507, 24.0748389 , 24.0748389 ,\n",
       "       28.03747125, 23.57950985, 24.0748389 , 25.06549699, 28.03747125,\n",
       "       23.57950985, 23.57950985, 23.57950985, 28.5328003 , 24.57016794,\n",
       "       25.06549699, 28.03747125, 23.57950985, 26.05615507, 24.0748389 ,\n",
       "       24.0748389 , 22.58885176, 26.05615507, 28.5328003 , 24.57016794,\n",
       "       25.06549699, 24.0748389 , 23.57950985, 26.55148412, 24.57016794,\n",
       "       23.57950985, 23.57950985, 27.04681316, 28.5328003 , 23.57950985,\n",
       "       25.56082603, 24.0748389 , 25.06549699, 25.56082603, 26.55148412,\n",
       "       28.5328003 , 22.58885176, 23.57950985, 25.56082603, 30.51411647,\n",
       "       24.0748389 , 24.0748389 , 25.56082603, 24.0748389 , 26.05615507,\n",
       "       24.57016794, 26.55148412, 25.56082603, 19.12154845, 25.56082603,\n",
       "       26.55148412, 29.02812934, 27.54214221, 28.03747125, 27.04681316,\n",
       "       24.57016794, 27.04681316, 23.57950985, 25.06549699, 29.02812934,\n",
       "       28.5328003 , 24.0748389 , 28.5328003 , 24.57016794, 23.57950985,\n",
       "       31.50477456, 25.56082603, 26.05615507, 25.56082603, 23.08418081,\n",
       "       26.55148412, 24.57016794, 25.56082603, 24.57016794, 27.04681316,\n",
       "       28.5328003 , 26.55148412, 24.0748389 , 24.0748389 , 25.56082603,\n",
       "       24.0748389 , 25.56082603, 25.06549699, 25.56082603, 29.02812934,\n",
       "       26.05615507, 23.57950985, 23.57950985, 24.0748389 , 26.05615507,\n",
       "       25.56082603, 25.56082603, 28.5328003 , 24.57016794, 24.57016794,\n",
       "       20.11220654, 26.05615507, 28.03747125, 26.05615507, 27.04681316,\n",
       "       29.52345839, 25.06549699, 24.57016794, 23.57950985, 23.57950985,\n",
       "       23.57950985, 27.54214221, 25.56082603, 24.0748389 , 23.57950985,\n",
       "       25.56082603, 26.05615507, 26.55148412, 25.06549699, 26.05615507,\n",
       "       25.06549699, 26.55148412, 25.06549699, 25.06549699, 26.55148412,\n",
       "       25.06549699, 20.60753558, 25.06549699, 27.54214221, 29.02812934,\n",
       "       26.55148412, 28.5328003 , 26.55148412, 29.52345839, 23.57950985,\n",
       "       25.56082603, 22.58885176, 27.04681316, 29.52345839, 23.57950985,\n",
       "       23.08418081, 26.05615507, 26.05615507, 24.0748389 , 25.06549699,\n",
       "       24.57016794, 23.57950985, 24.0748389 , 20.60753558, 24.0748389 ,\n",
       "       24.0748389 , 24.57016794, 27.04681316, 27.54214221, 26.05615507,\n",
       "       26.05615507, 24.0748389 , 24.0748389 , 25.56082603, 25.06549699,\n",
       "       26.55148412, 27.04681316, 24.0748389 , 20.60753558, 23.08418081,\n",
       "       23.08418081, 24.0748389 , 24.0748389 , 24.57016794, 24.0748389 ,\n",
       "       25.56082603, 26.05615507, 23.57950985, 24.57016794, 24.0748389 ,\n",
       "       22.09352272, 25.56082603, 26.55148412, 25.56082603, 27.04681316,\n",
       "       27.04681316, 24.57016794, 24.0748389 , 24.0748389 , 24.57016794,\n",
       "       27.54214221, 26.05615507, 23.08418081, 28.03747125, 27.54214221,\n",
       "       25.56082603, 26.05615507, 25.56082603, 27.54214221, 31.50477456,\n",
       "       31.50477456])"
      ]
     },
     "execution_count": 134,
     "metadata": {},
     "output_type": "execute_result"
    }
   ],
   "source": [
    "def predict(df, independent, dependent):\n",
    "    '''Returns an array of predicted values of the dependent variable calculated from the regression line.'''\n",
    "    return reg_slope(df, independent, dependent) * df.get(independent) + reg_intercept(df, independent, dependent)\n",
    "\n",
    "predicted_views = predict(episodes, 'imdb_rating','us_views_millions')\n",
    "predicted_views"
   ]
  },
  {
   "cell_type": "code",
   "execution_count": 135,
   "id": "b0f648ca",
   "metadata": {
    "deletable": false,
    "editable": false
   },
   "outputs": [
    {
     "data": {
      "text/html": [
       "<p><strong><pre style='display: inline;'>q7_4</pre></strong> passed!</p>"
      ],
      "text/plain": [
       "q7_4 results: All test cases passed!"
      ]
     },
     "execution_count": 135,
     "metadata": {},
     "output_type": "execute_result"
    }
   ],
   "source": [
    "grader.check(\"q7_4\")"
   ]
  },
  {
   "cell_type": "markdown",
   "id": "ea441f67",
   "metadata": {},
   "source": [
    "**Question 7.5.** Use the strategy for overlaying scatter plots described in [this tutorial](https://www.statology.org/pandas-scatter-plot-multiple-columns/) to create an overlaid scatter plot with:\n",
    "- a blue dot 🔵 for each episode showing the ratings on the $x$-axis and the views on the $y$-axis (as in the scatter plot at the beginning of this section), and\n",
    "- a red dot 🔴 for each episode showing the ratings on the $x$-axis and the **predicted** views on the $y$-axis.\n",
    "\n",
    "The red dots should form a straight line - that's the regression line!\n",
    "\n",
    "***Note:*** This is the first time you've been asked to make an overlaid scatter plot, so you'll need to learn something new to answer this question. Read the linked tutorial carefully and try to mimic their example; you can learn how to do a lot of things this way!"
   ]
  },
  {
   "cell_type": "markdown",
   "id": "10308c06",
   "metadata": {
    "deletable": false,
    "editable": false
   },
   "source": [
    "<!-- BEGIN QUESTION -->\n",
    "\n",
    "<!--\n",
    "BEGIN QUESTION\n",
    "name: q7_5\n",
    "points: 1\n",
    "manual: True\n",
    "-->"
   ]
  },
  {
   "cell_type": "code",
   "execution_count": 136,
   "id": "df390fd3",
   "metadata": {},
   "outputs": [
    {
     "data": {
      "image/png": "[encoded data removed]",
      "text/plain": [
       "<Figure size 432x288 with 1 Axes>"
      ]
     },
     "metadata": {},
     "output_type": "display_data"
    }
   ],
   "source": [
    "# Create your overlaid scatter plot here.\n",
    "\n",
    "ax1 = episodes.get(['imdb_rating','us_views_millions']).plot(kind='scatter', x='imdb_rating', y='us_views_millions', color='b')\n",
    "\n",
    "ax2 = bpd.DataFrame().assign(Rating = episodes.get('imdb_rating'),predicted_views = predicted_views).plot(kind='scatter', x='Rating', y='predicted_views', color='r', ax=ax1)"
   ]
  },
  {
   "cell_type": "markdown",
   "id": "5ef8171a",
   "metadata": {},
   "source": [
    "<!-- END QUESTION -->\n",
    "\n",
    "\n",
    "\n",
    "**Question 7.6.** Use the equation of the regression line to answer the following questions. Check that your answers are reasonable using the scatter plot above.\n",
    "\n",
    "1. What is the predicted number of views, in millions, for an episode with an IMDb rating of 8.6? Save your answer as `question_1`.\n",
    "2. An episode is predicted to have 30 million US views. What is its IMDb rating? Save your answer as `question_2`.\n",
    "3. Suppose an episode in season one has an IMDb rating of $d$ and an episode in season two has a IMDb rating of $d + 2$. How many millions more views would we predict the episode in season two to have compared to the episode in season one? Save your answer as `question_3`.\n"
   ]
  },
  {
   "cell_type": "code",
   "execution_count": 137,
   "id": "ecae833b",
   "metadata": {},
   "outputs": [
    {
     "name": "stdout",
     "output_type": "stream",
     "text": [
      "Answer to question 1:  26.05615507436992\n",
      "Answer to question 2:  9.39620708081351\n",
      "Answer to question 3:  9.90658088998789\n"
     ]
    }
   ],
   "source": [
    "question_1 = reg_slope(episodes, 'imdb_rating','us_views_millions') * 8.6 + reg_intercept(episodes, 'imdb_rating','us_views_millions')\n",
    "question_2 = (30 - reg_intercept(episodes, 'imdb_rating','us_views_millions')) / reg_slope(episodes, 'imdb_rating','us_views_millions') \n",
    "question_3 = reg_slope(episodes, 'imdb_rating','us_views_millions') * 2\n",
    "print('Answer to question 1: ', question_1)\n",
    "print('Answer to question 2: ', question_2)\n",
    "print('Answer to question 3: ', question_3)"
   ]
  },
  {
   "cell_type": "code",
   "execution_count": 138,
   "id": "96dd8cd4",
   "metadata": {
    "deletable": false,
    "editable": false
   },
   "outputs": [
    {
     "data": {
      "text/html": [
       "<p><strong><pre style='display: inline;'>q7_6</pre></strong> passed!</p>"
      ],
      "text/plain": [
       "q7_6 results: All test cases passed!"
      ]
     },
     "execution_count": 138,
     "metadata": {},
     "output_type": "execute_result"
    }
   ],
   "source": [
    "grader.check(\"q7_6\")"
   ]
  },
  {
   "cell_type": "markdown",
   "id": "60247f0d",
   "metadata": {},
   "source": [
    "**Question 7.7.** Now that we have general code to calculate the regression line between any pair of variables in any DataFrame, let's generalize our code for the overlaid scatter plot so we can visualize relationships between other pairs of variables.\n",
    "\n",
    "Complete the function `display_predictions` below. This function should take in the same three inputs as the `correlation` function, create an overlaid scatter plot similar to the one in Question 7.5, and return a string describing the correlation between the variables and the slope and intercept of the regression line.\n",
    "\n",
    "Then, use your function to create a scatter plot and calculate the regression line that would allow you to predict IMDb rating based on viewership in millions. Store the result of your function call in the variable `rating_prediction`."
   ]
  },
  {
   "cell_type": "code",
   "execution_count": 139,
   "id": "d6b99fcc",
   "metadata": {},
   "outputs": [
    {
     "data": {
      "text/plain": [
       "'The correlation between us_views_millions and imdb_rating is 0.38.  The slope of the regression line is 0.03. The intercept of the regression line is 7.73.'"
      ]
     },
     "execution_count": 139,
     "metadata": {},
     "output_type": "execute_result"
    },
    {
     "data": {
      "image/png": "[encoded data removed]",
      "text/plain": [
       "<Figure size 432x288 with 1 Axes>"
      ]
     },
     "metadata": {},
     "output_type": "display_data"
    }
   ],
   "source": [
    "def display_predictions(df, independent, dependent):\n",
    "    '''Generates an overlaid scatter plot showing the relationship between the independent and dependent variables in df.\n",
    "    Returns a string describing the correlation and the slope and intercept of the regression line.'''\n",
    "    \n",
    "    \n",
    "    \n",
    "    predicted = predict(df, independent, dependent)\n",
    "    \n",
    "    # Create your overlaid scatter plot here.\n",
    "    ax1 = df.get([independent,dependent]).plot(kind='scatter', x=independent, y=dependent, color='b')\n",
    "    ax2 = bpd.DataFrame().assign(Value = df.get(independent),predicted = predicted).plot(kind='scatter', x='Value', y='predicted', color='r', ax=ax1)\n",
    "    \n",
    "    \n",
    "    \n",
    "    # We've provided the code for the return statement.\n",
    "    return ('The correlation between {0} and {1} is {2}. ' +\\\n",
    "           ' The slope of the regression line is {3}.' + \\\n",
    "           ' The intercept of the regression line is {4}.')\\\n",
    "                .format(independent,\n",
    "                        dependent,\n",
    "                        str(round(correlation(df, independent, dependent), 2)),\n",
    "                        str(round(reg_slope(df, independent, dependent), 2)),\n",
    "                        str(round(reg_intercept(df, independent, dependent), 2)))\n",
    "\n",
    "# Your function should produce the same scatter plot as in Question 7.5 on the inputs below.\n",
    "# Make sure to test it out on other inputs too.\n",
    "display_predictions(episodes,'us_views_millions',  'imdb_rating')"
   ]
  },
  {
   "cell_type": "code",
   "execution_count": 140,
   "id": "28b418f5",
   "metadata": {},
   "outputs": [
    {
     "data": {
      "text/plain": [
       "'The correlation between us_views_millions and imdb_rating is 0.38.  The slope of the regression line is 0.03. The intercept of the regression line is 7.73.'"
      ]
     },
     "execution_count": 140,
     "metadata": {},
     "output_type": "execute_result"
    },
    {
     "data": {
      "image/png": "[encoded data removed]",
      "text/plain": [
       "<Figure size 432x288 with 1 Axes>"
      ]
     },
     "metadata": {},
     "output_type": "display_data"
    }
   ],
   "source": [
    "rating_prediction = display_predictions(episodes,'us_views_millions' , 'imdb_rating')\n",
    "rating_prediction"
   ]
  },
  {
   "cell_type": "code",
   "execution_count": 141,
   "id": "ea0ddb53",
   "metadata": {
    "deletable": false,
    "editable": false
   },
   "outputs": [
    {
     "data": {
      "text/html": [
       "<p><strong><pre style='display: inline;'>q7_7</pre></strong> passed!</p>"
      ],
      "text/plain": [
       "q7_7 results: All test cases passed!"
      ]
     },
     "execution_count": 141,
     "metadata": {},
     "output_type": "execute_result"
    }
   ],
   "source": [
    "grader.check(\"q7_7\")"
   ]
  },
  {
   "cell_type": "markdown",
   "id": "61a97029",
   "metadata": {},
   "source": [
    "**Question 7.8.** There seem to be just a few episodes with 40 million views or more. Since outliers can have a big impact on the regression line, let's see how different our regression line would look if we eliminated these outliers. Again using the `display_predictions` function you just wrote, create a scatter plot and calculate the regression line that would allow you to predict IMDb rating based on viewership, but based only on episodes with less than 40 million views. Store the result of your function call in the variable `no_outliers`."
   ]
  },
  {
   "cell_type": "code",
   "execution_count": 142,
   "id": "1dd7e102",
   "metadata": {},
   "outputs": [
    {
     "data": {
      "text/plain": [
       "'The correlation between us_views_millions and imdb_rating is 0.3.  The slope of the regression line is 0.03. The intercept of the regression line is 7.69.'"
      ]
     },
     "execution_count": 142,
     "metadata": {},
     "output_type": "execute_result"
    },
    {
     "data": {
      "image/png": "[encoded data removed]",
      "text/plain": [
       "<Figure size 432x288 with 1 Axes>"
      ]
     },
     "metadata": {},
     "output_type": "display_data"
    }
   ],
   "source": [
    "no_outliers = display_predictions(episodes[episodes.get('us_views_millions') < 40],'us_views_millions' , 'imdb_rating')\n",
    "no_outliers"
   ]
  },
  {
   "cell_type": "code",
   "execution_count": 143,
   "id": "8d0cb61e",
   "metadata": {
    "deletable": false,
    "editable": false
   },
   "outputs": [
    {
     "data": {
      "text/html": [
       "<p><strong><pre style='display: inline;'>q7_8</pre></strong> passed!</p>"
      ],
      "text/plain": [
       "q7_8 results: All test cases passed!"
      ]
     },
     "execution_count": 143,
     "metadata": {},
     "output_type": "execute_result"
    }
   ],
   "source": [
    "grader.check(\"q7_8\")"
   ]
  },
  {
   "cell_type": "markdown",
   "id": "4f095a5b",
   "metadata": {},
   "source": [
    "Let's use some of the regression tools we've developed in this section to answer an important question about the reboot: how many episodes should it have? You are about to meet with the producers of the reboot to discuss this. To inform your discussion, you want to see how viewership of *Friends* changed as more episodes were made. \n",
    "\n",
    "**Question 7.9.** Call your `display_predictions` function so that it displays the regression line predicting `'us_views_millions'` based on the number of *Friends* episodes produced. Your answer to this question should include outliers that were excluded in the previous question.\n",
    "\n",
    "***Hint:*** The `episodes` DataFrame does not have a column that counts the episode number from 1 to the total number of episodes. You'll need to add one!"
   ]
  },
  {
   "cell_type": "markdown",
   "id": "e67e5d8a",
   "metadata": {
    "deletable": false,
    "editable": false
   },
   "source": [
    "<!-- BEGIN QUESTION -->\n",
    "\n",
    "<!--\n",
    "BEGIN QUESTION\n",
    "name: q7_9\n",
    "points: 1\n",
    "manual: True\n",
    "-->"
   ]
  },
  {
   "cell_type": "code",
   "execution_count": 144,
   "id": "c57e3a1c",
   "metadata": {},
   "outputs": [
    {
     "data": {
      "text/plain": [
       "'The correlation between count and us_views_millions is -0.18.  The slope of the regression line is -0.01. The intercept of the regression line is 27.04.'"
      ]
     },
     "execution_count": 144,
     "metadata": {},
     "output_type": "execute_result"
    },
    {
     "data": {
      "image/png": "[encoded data removed]",
      "text/plain": [
       "<Figure size 432x288 with 1 Axes>"
      ]
     },
     "metadata": {},
     "output_type": "display_data"
    }
   ],
   "source": [
    "episodes_with_count = episodes.assign(count = np.arange(1, episodes.shape[0] + 1))\n",
    "display_predictions(episodes_with_count, 'count', 'us_views_millions')"
   ]
  },
  {
   "cell_type": "markdown",
   "id": "7674d9f2",
   "metadata": {},
   "source": [
    "<!-- END QUESTION -->\n",
    "\n",
    "\n",
    "\n",
    "Since the slope of the regression line is negative, this means that viewership of *Friends* ultimately declined as more episodes were created. But this wasn't always the case. When the show was just starting off, new episodes were getting more views than past episodes. The regression line fit to just the first 30 episodes, for example, would have a strongly positive slope. \n",
    "\n",
    "You interpret this data as meaning that maybe *Friends* went on for too long. You want your reboot to have few enough episodes that the excitement of the show doesn't wear off.\n",
    "\n",
    "**Question 7.10.**  Use your `display_predictions` function to display the regression lines predicting `'us_views_millions'` based on the first 20, 40, 60, 80, 100, and 120 episodes. The largest such number of episodes with a positive slope is the number of episodes you think the reboot should have. Save this number of episodes as `reboot_length`. You can type this number in manually after looking at the plots."
   ]
  },
  {
   "cell_type": "code",
   "execution_count": 145,
   "id": "889a7d96",
   "metadata": {},
   "outputs": [
    {
     "data": {
      "text/plain": [
       "80"
      ]
     },
     "execution_count": 145,
     "metadata": {},
     "output_type": "execute_result"
    },
    {
     "data": {
      "image/png": "[encoded data removed]",
      "text/plain": [
       "<Figure size 432x288 with 1 Axes>"
      ]
     },
     "metadata": {},
     "output_type": "display_data"
    },
    {
     "data": {
      "image/png": "[encoded data removed]",
      "text/plain": [
       "<Figure size 432x288 with 1 Axes>"
      ]
     },
     "metadata": {},
     "output_type": "display_data"
    },
    {
     "data": {
      "image/png": "[encoded data removed]",
      "text/plain": [
       "<Figure size 432x288 with 1 Axes>"
      ]
     },
     "metadata": {},
     "output_type": "display_data"
    },
    {
     "data": {
      "image/png": "[encoded data removed]",
      "text/plain": [
       "<Figure size 432x288 with 1 Axes>"
      ]
     },
     "metadata": {},
     "output_type": "display_data"
    },
    {
     "data": {
      "image/png": "[encoded data removed]",
      "text/plain": [
       "<Figure size 432x288 with 1 Axes>"
      ]
     },
     "metadata": {},
     "output_type": "display_data"
    },
    {
     "data": {
      "image/png": "[encoded data removed]",
      "text/plain": [
       "<Figure size 432x288 with 1 Axes>"
      ]
     },
     "metadata": {},
     "output_type": "display_data"
    }
   ],
   "source": [
    "# Plot your regression lines here.\n",
    "display_predictions(episodes_with_count[episodes_with_count.get('count') <= 20], 'count', 'us_views_millions')\n",
    "display_predictions(episodes_with_count[(episodes_with_count.get('count') <= 40)], 'count', 'us_views_millions')\n",
    "display_predictions(episodes_with_count[(episodes_with_count.get('count') <= 60)], 'count', 'us_views_millions')\n",
    "display_predictions(episodes_with_count[(episodes_with_count.get('count') <= 80)], 'count', 'us_views_millions')\n",
    "display_predictions(episodes_with_count[(episodes_with_count.get('count') <= 100)], 'count', 'us_views_millions')\n",
    "display_predictions(episodes_with_count[(episodes_with_count.get('count') <= 120)], 'count', 'us_views_millions')\n",
    "\n",
    "reboot_length = 80\n",
    "reboot_length"
   ]
  },
  {
   "cell_type": "code",
   "execution_count": 146,
   "id": "3cbb9e22",
   "metadata": {
    "deletable": false,
    "editable": false
   },
   "outputs": [
    {
     "data": {
      "text/html": [
       "<p><strong><pre style='display: inline;'>q7_10</pre></strong> passed!</p>"
      ],
      "text/plain": [
       "q7_10 results: All test cases passed!"
      ]
     },
     "execution_count": 146,
     "metadata": {},
     "output_type": "execute_result"
    }
   ],
   "source": [
    "grader.check(\"q7_10\")"
   ]
  },
  {
   "cell_type": "markdown",
   "id": "0f24a5f3",
   "metadata": {},
   "source": [
    "Now that you know how many episodes your reboot should have, you've completed your plans for the reboot. Well done and best wishes for a successful show!"
   ]
  },
  {
   "cell_type": "markdown",
   "id": "00b59183",
   "metadata": {},
   "source": [
    "## Finish Line 🏁"
   ]
  },
  {
   "cell_type": "markdown",
   "id": "4cd31c6a",
   "metadata": {},
   "source": [
    "### **Congratulations! 🎉 You've completed the Final Project!**\n",
    "\n",
    "**_Citations:_** Did you use any generative artificial intelligence tools to assist you on this assignment? If so, please state, for each tool you used, the name of the tool (ex. ChatGPT) and the problem(s) in this assignment where you used the tool for help."
   ]
  },
  {
   "cell_type": "markdown",
   "id": "8f61d8c5",
   "metadata": {},
   "source": [
    "<hr style=\"color:Maroon;background-color:Maroon;border:0 none; height: 3px;\">\n",
    "\n",
    "Please cite tools here.\n",
    "\n",
    "<hr style=\"color:Maroon;background-color:Maroon;border:0 none; height: 3px;\">"
   ]
  },
  {
   "cell_type": "markdown",
   "id": "b45ff66f",
   "metadata": {},
   "source": [
    "To submit your assignment:\n",
    "\n",
    "1. Select `Kernel -> Restart & Run All` to ensure that you have executed all cells, including the test cells. <p style=\"color: red\"><b>⚠️ Important!</b> We will allot 20 minutes of computer time to run your notebook. If your notebook takes longer than this to run, it may not pass the autograder! Select \"Kernel -> Restart and Run All\" to time how long your notebook takes. A notebook with correct answers should take less than 10 minutes.</p>\n",
    "\n",
    "2. Read through the notebook to make sure everything is fine and all tests passed.\n",
    "3. Run the cell below to run all tests, and make sure that they all pass.\n",
    "4. Download your notebook using File -> Download as -> Notebook (.ipynb), then upload your notebook to Gradescope. Don't forget to add your partner to your group on Gradescope!\n",
    "5. Stick around while the Gradescope autograder grades your work. Make sure you see that all tests have passed on Gradescope.\n",
    "6. Check that you have a confirmation email from Gradescope and save it as proof of your submission. \n",
    "\n",
    "If running all the tests at once causes a test to fail that didn't fail when you ran the notebook in order, check to see if you changed a variable's value later in your code. Make sure to use new variable names instead of reusing ones that are used in the tests. \n",
    "\n",
    "Remember, the tests here and on Gradescope just check the format of your answers. We will run correctness tests after the assignment's due date has passed."
   ]
  },
  {
   "cell_type": "code",
   "execution_count": 147,
   "id": "73da033c",
   "metadata": {},
   "outputs": [
    {
     "data": {
      "text/plain": [
       "q1_1 results: All test cases passed!\n",
       "\n",
       "q1_2 results: All test cases passed!\n",
       "\n",
       "q1_3 results: All test cases passed!\n",
       "\n",
       "q1_4 results: All test cases passed!\n",
       "\n",
       "q1_5 results: All test cases passed!\n",
       "\n",
       "q1_6_a results: All test cases passed!\n",
       "\n",
       "q1_6_b results: All test cases passed!\n",
       "\n",
       "q1_7 results: All test cases passed!\n",
       "\n",
       "q2_1 results: All test cases passed!\n",
       "\n",
       "q2_2 results: All test cases passed!\n",
       "\n",
       "q2_3 results: All test cases passed!\n",
       "\n",
       "q2_4 results: All test cases passed!\n",
       "\n",
       "q2_5 results: All test cases passed!\n",
       "\n",
       "q2_6 results: All test cases passed!\n",
       "\n",
       "q2_7 results: All test cases passed!\n",
       "\n",
       "q3_1 results: All test cases passed!\n",
       "\n",
       "q3_2 results: All test cases passed!\n",
       "\n",
       "q3_3 results: All test cases passed!\n",
       "\n",
       "q3_4 results: All test cases passed!\n",
       "\n",
       "q3_5 results: All test cases passed!\n",
       "\n",
       "q3_6 results: All test cases passed!\n",
       "\n",
       "q4_1 results: All test cases passed!\n",
       "\n",
       "q4_2 results: All test cases passed!\n",
       "\n",
       "q4_3 results: All test cases passed!\n",
       "\n",
       "q4_4 results: All test cases passed!\n",
       "\n",
       "q4_5 results: All test cases passed!\n",
       "\n",
       "q4_6 results: All test cases passed!\n",
       "\n",
       "q4_7 results: All test cases passed!\n",
       "\n",
       "q4_8 results: All test cases passed!\n",
       "\n",
       "q5_1 results: All test cases passed!\n",
       "\n",
       "q5_2 results: All test cases passed!\n",
       "\n",
       "q5_3 results: All test cases passed!\n",
       "\n",
       "q5_4_a results: All test cases passed!\n",
       "\n",
       "q5_4_b results: All test cases passed!\n",
       "\n",
       "q5_5 results: All test cases passed!\n",
       "\n",
       "q5_6 results: All test cases passed!\n",
       "\n",
       "q5_7 results: All test cases passed!\n",
       "\n",
       "q5_8 results: All test cases passed!\n",
       "\n",
       "q5_9_a results: All test cases passed!\n",
       "\n",
       "q5_9_b results: All test cases passed!\n",
       "\n",
       "q6_1 results: All test cases passed!\n",
       "\n",
       "q6_2 results: All test cases passed!\n",
       "\n",
       "q6_3 results: All test cases passed!\n",
       "\n",
       "q6_4 results: All test cases passed!\n",
       "\n",
       "q6_5 results: All test cases passed!\n",
       "\n",
       "q6_6 results: All test cases passed!\n",
       "\n",
       "q6_7 results: All test cases passed!\n",
       "\n",
       "q7_1 results: All test cases passed!\n",
       "\n",
       "q7_10 results: All test cases passed!\n",
       "\n",
       "q7_2 results: All test cases passed!\n",
       "\n",
       "q7_3 results: All test cases passed!\n",
       "\n",
       "q7_4 results: All test cases passed!\n",
       "\n",
       "q7_6 results: All test cases passed!\n",
       "\n",
       "q7_7 results: All test cases passed!\n",
       "\n",
       "q7_8 results: All test cases passed!"
      ]
     },
     "execution_count": 147,
     "metadata": {},
     "output_type": "execute_result"
    }
   ],
   "source": [
    "grader.check_all()"
   ]
  },
  {
   "cell_type": "markdown",
   "id": "d32a075a",
   "metadata": {},
   "source": [
    "<img style=\"float: left;\" src=\"images/friends_anticipation.png\" width=\"600\" height=\"600\">"
   ]
  }
 ],
 "metadata": {
  "kernelspec": {
   "display_name": "Python 3 (ipykernel)",
   "language": "python",
   "name": "python3"
  },
  "language_info": {
   "codemirror_mode": {
    "name": "ipython",
    "version": 3
   },
   "file_extension": ".py",
   "mimetype": "text/x-python",
   "name": "python",
   "nbconvert_exporter": "python",
   "pygments_lexer": "ipython3",
   "version": "3.9.5"
  }
 },
 "nbformat": 4,
 "nbformat_minor": 5
}
